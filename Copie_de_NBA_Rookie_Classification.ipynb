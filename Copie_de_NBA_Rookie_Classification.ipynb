{
  "nbformat": 4,
  "nbformat_minor": 0,
  "metadata": {
    "colab": {
      "provenance": [],
      "include_colab_link": true
    },
    "kernelspec": {
      "name": "python3",
      "display_name": "Python 3"
    },
    "language_info": {
      "name": "python"
    }
  },
  "cells": [
    {
      "cell_type": "markdown",
      "metadata": {
        "id": "view-in-github",
        "colab_type": "text"
      },
      "source": [
        "<a href=\"https://colab.research.google.com/github/davro76/Data-Mining-Process/blob/main/Copie_de_NBA_Rookie_Classification.ipynb\" target=\"_parent\"><img src=\"https://colab.research.google.com/assets/colab-badge.svg\" alt=\"Open In Colab\"/></a>"
      ]
    },
    {
      "cell_type": "markdown",
      "source": [
        "**Group**\n",
        "\n",
        "---\n",
        "\n",
        "\n",
        "Michael Strohmeier<br>\n",
        "Emily Jy<br>\n",
        "Rodney Davermann"
      ],
      "metadata": {
        "id": "iQ5DyvD23oRb"
      }
    },
    {
      "cell_type": "code",
      "execution_count": null,
      "metadata": {
        "id": "ELGFrcmC3U3B"
      },
      "outputs": [],
      "source": [
        "#Import your Libraries\n",
        "import numpy as np\n",
        "import pandas as pd\n",
        "from matplotlib import pyplot as plt\n",
        "import seaborn as sns\n",
        "import sklearn.metrics as metrics\n",
        "%matplotlib inline"
      ]
    },
    {
      "cell_type": "code",
      "source": [
        "url = \"https://raw.githubusercontent.com/fenago/datasets/main/nba_logreg_original.csv\"\n",
        "df = pd.read_csv(url)\n",
        "\n",
        "df.head()"
      ],
      "metadata": {
        "colab": {
          "base_uri": "https://localhost:8080/",
          "height": 236
        },
        "id": "jhPbGlsZ4Dj-",
        "outputId": "1d52db27-9f3d-4383-d5f0-117cfef79d15"
      },
      "execution_count": null,
      "outputs": [
        {
          "output_type": "execute_result",
          "data": {
            "text/plain": [
              "              Name  GP   MIN  PTS  FGM  FGA   FG%  3P Made  3PA   3P%  ...  \\\n",
              "0   Brandon Ingram  36  27.4  7.4  2.6  7.6  34.7      0.5  2.1  25.0  ...   \n",
              "1  Andrew Harrison  35  26.9  7.2  2.0  6.7  29.6      0.7  2.8  23.5  ...   \n",
              "2   JaKarr Sampson  74  15.3  5.2  2.0  4.7  42.2      0.4  1.7  24.4  ...   \n",
              "3      Malik Sealy  58  11.6  5.7  2.3  5.5  42.6      0.1  0.5  22.6  ...   \n",
              "4      Matt Geiger  48  11.5  4.5  1.6  3.0  52.4      0.0  0.1   0.0  ...   \n",
              "\n",
              "   FTA   FT%  OREB  DREB  REB  AST  STL  BLK  TOV  TARGET_5Yrs  \n",
              "0  2.3  69.9   0.7   3.4  4.1  1.9  0.4  0.4  1.3          0.0  \n",
              "1  3.4  76.5   0.5   2.0  2.4  3.7  1.1  0.5  1.6          0.0  \n",
              "2  1.3  67.0   0.5   1.7  2.2  1.0  0.5  0.3  1.0          0.0  \n",
              "3  1.3  68.9   1.0   0.9  1.9  0.8  0.6  0.1  1.0          1.0  \n",
              "4  1.9  67.4   1.0   1.5  2.5  0.3  0.3  0.4  0.8          1.0  \n",
              "\n",
              "[5 rows x 21 columns]"
            ],
            "text/html": [
              "\n",
              "  <div id=\"df-bb676c19-1121-494d-8295-0d5c1adc5589\">\n",
              "    <div class=\"colab-df-container\">\n",
              "      <div>\n",
              "<style scoped>\n",
              "    .dataframe tbody tr th:only-of-type {\n",
              "        vertical-align: middle;\n",
              "    }\n",
              "\n",
              "    .dataframe tbody tr th {\n",
              "        vertical-align: top;\n",
              "    }\n",
              "\n",
              "    .dataframe thead th {\n",
              "        text-align: right;\n",
              "    }\n",
              "</style>\n",
              "<table border=\"1\" class=\"dataframe\">\n",
              "  <thead>\n",
              "    <tr style=\"text-align: right;\">\n",
              "      <th></th>\n",
              "      <th>Name</th>\n",
              "      <th>GP</th>\n",
              "      <th>MIN</th>\n",
              "      <th>PTS</th>\n",
              "      <th>FGM</th>\n",
              "      <th>FGA</th>\n",
              "      <th>FG%</th>\n",
              "      <th>3P Made</th>\n",
              "      <th>3PA</th>\n",
              "      <th>3P%</th>\n",
              "      <th>...</th>\n",
              "      <th>FTA</th>\n",
              "      <th>FT%</th>\n",
              "      <th>OREB</th>\n",
              "      <th>DREB</th>\n",
              "      <th>REB</th>\n",
              "      <th>AST</th>\n",
              "      <th>STL</th>\n",
              "      <th>BLK</th>\n",
              "      <th>TOV</th>\n",
              "      <th>TARGET_5Yrs</th>\n",
              "    </tr>\n",
              "  </thead>\n",
              "  <tbody>\n",
              "    <tr>\n",
              "      <th>0</th>\n",
              "      <td>Brandon Ingram</td>\n",
              "      <td>36</td>\n",
              "      <td>27.4</td>\n",
              "      <td>7.4</td>\n",
              "      <td>2.6</td>\n",
              "      <td>7.6</td>\n",
              "      <td>34.7</td>\n",
              "      <td>0.5</td>\n",
              "      <td>2.1</td>\n",
              "      <td>25.0</td>\n",
              "      <td>...</td>\n",
              "      <td>2.3</td>\n",
              "      <td>69.9</td>\n",
              "      <td>0.7</td>\n",
              "      <td>3.4</td>\n",
              "      <td>4.1</td>\n",
              "      <td>1.9</td>\n",
              "      <td>0.4</td>\n",
              "      <td>0.4</td>\n",
              "      <td>1.3</td>\n",
              "      <td>0.0</td>\n",
              "    </tr>\n",
              "    <tr>\n",
              "      <th>1</th>\n",
              "      <td>Andrew Harrison</td>\n",
              "      <td>35</td>\n",
              "      <td>26.9</td>\n",
              "      <td>7.2</td>\n",
              "      <td>2.0</td>\n",
              "      <td>6.7</td>\n",
              "      <td>29.6</td>\n",
              "      <td>0.7</td>\n",
              "      <td>2.8</td>\n",
              "      <td>23.5</td>\n",
              "      <td>...</td>\n",
              "      <td>3.4</td>\n",
              "      <td>76.5</td>\n",
              "      <td>0.5</td>\n",
              "      <td>2.0</td>\n",
              "      <td>2.4</td>\n",
              "      <td>3.7</td>\n",
              "      <td>1.1</td>\n",
              "      <td>0.5</td>\n",
              "      <td>1.6</td>\n",
              "      <td>0.0</td>\n",
              "    </tr>\n",
              "    <tr>\n",
              "      <th>2</th>\n",
              "      <td>JaKarr Sampson</td>\n",
              "      <td>74</td>\n",
              "      <td>15.3</td>\n",
              "      <td>5.2</td>\n",
              "      <td>2.0</td>\n",
              "      <td>4.7</td>\n",
              "      <td>42.2</td>\n",
              "      <td>0.4</td>\n",
              "      <td>1.7</td>\n",
              "      <td>24.4</td>\n",
              "      <td>...</td>\n",
              "      <td>1.3</td>\n",
              "      <td>67.0</td>\n",
              "      <td>0.5</td>\n",
              "      <td>1.7</td>\n",
              "      <td>2.2</td>\n",
              "      <td>1.0</td>\n",
              "      <td>0.5</td>\n",
              "      <td>0.3</td>\n",
              "      <td>1.0</td>\n",
              "      <td>0.0</td>\n",
              "    </tr>\n",
              "    <tr>\n",
              "      <th>3</th>\n",
              "      <td>Malik Sealy</td>\n",
              "      <td>58</td>\n",
              "      <td>11.6</td>\n",
              "      <td>5.7</td>\n",
              "      <td>2.3</td>\n",
              "      <td>5.5</td>\n",
              "      <td>42.6</td>\n",
              "      <td>0.1</td>\n",
              "      <td>0.5</td>\n",
              "      <td>22.6</td>\n",
              "      <td>...</td>\n",
              "      <td>1.3</td>\n",
              "      <td>68.9</td>\n",
              "      <td>1.0</td>\n",
              "      <td>0.9</td>\n",
              "      <td>1.9</td>\n",
              "      <td>0.8</td>\n",
              "      <td>0.6</td>\n",
              "      <td>0.1</td>\n",
              "      <td>1.0</td>\n",
              "      <td>1.0</td>\n",
              "    </tr>\n",
              "    <tr>\n",
              "      <th>4</th>\n",
              "      <td>Matt Geiger</td>\n",
              "      <td>48</td>\n",
              "      <td>11.5</td>\n",
              "      <td>4.5</td>\n",
              "      <td>1.6</td>\n",
              "      <td>3.0</td>\n",
              "      <td>52.4</td>\n",
              "      <td>0.0</td>\n",
              "      <td>0.1</td>\n",
              "      <td>0.0</td>\n",
              "      <td>...</td>\n",
              "      <td>1.9</td>\n",
              "      <td>67.4</td>\n",
              "      <td>1.0</td>\n",
              "      <td>1.5</td>\n",
              "      <td>2.5</td>\n",
              "      <td>0.3</td>\n",
              "      <td>0.3</td>\n",
              "      <td>0.4</td>\n",
              "      <td>0.8</td>\n",
              "      <td>1.0</td>\n",
              "    </tr>\n",
              "  </tbody>\n",
              "</table>\n",
              "<p>5 rows × 21 columns</p>\n",
              "</div>\n",
              "      <button class=\"colab-df-convert\" onclick=\"convertToInteractive('df-bb676c19-1121-494d-8295-0d5c1adc5589')\"\n",
              "              title=\"Convert this dataframe to an interactive table.\"\n",
              "              style=\"display:none;\">\n",
              "        \n",
              "  <svg xmlns=\"http://www.w3.org/2000/svg\" height=\"24px\"viewBox=\"0 0 24 24\"\n",
              "       width=\"24px\">\n",
              "    <path d=\"M0 0h24v24H0V0z\" fill=\"none\"/>\n",
              "    <path d=\"M18.56 5.44l.94 2.06.94-2.06 2.06-.94-2.06-.94-.94-2.06-.94 2.06-2.06.94zm-11 1L8.5 8.5l.94-2.06 2.06-.94-2.06-.94L8.5 2.5l-.94 2.06-2.06.94zm10 10l.94 2.06.94-2.06 2.06-.94-2.06-.94-.94-2.06-.94 2.06-2.06.94z\"/><path d=\"M17.41 7.96l-1.37-1.37c-.4-.4-.92-.59-1.43-.59-.52 0-1.04.2-1.43.59L10.3 9.45l-7.72 7.72c-.78.78-.78 2.05 0 2.83L4 21.41c.39.39.9.59 1.41.59.51 0 1.02-.2 1.41-.59l7.78-7.78 2.81-2.81c.8-.78.8-2.07 0-2.86zM5.41 20L4 18.59l7.72-7.72 1.47 1.35L5.41 20z\"/>\n",
              "  </svg>\n",
              "      </button>\n",
              "      \n",
              "  <style>\n",
              "    .colab-df-container {\n",
              "      display:flex;\n",
              "      flex-wrap:wrap;\n",
              "      gap: 12px;\n",
              "    }\n",
              "\n",
              "    .colab-df-convert {\n",
              "      background-color: #E8F0FE;\n",
              "      border: none;\n",
              "      border-radius: 50%;\n",
              "      cursor: pointer;\n",
              "      display: none;\n",
              "      fill: #1967D2;\n",
              "      height: 32px;\n",
              "      padding: 0 0 0 0;\n",
              "      width: 32px;\n",
              "    }\n",
              "\n",
              "    .colab-df-convert:hover {\n",
              "      background-color: #E2EBFA;\n",
              "      box-shadow: 0px 1px 2px rgba(60, 64, 67, 0.3), 0px 1px 3px 1px rgba(60, 64, 67, 0.15);\n",
              "      fill: #174EA6;\n",
              "    }\n",
              "\n",
              "    [theme=dark] .colab-df-convert {\n",
              "      background-color: #3B4455;\n",
              "      fill: #D2E3FC;\n",
              "    }\n",
              "\n",
              "    [theme=dark] .colab-df-convert:hover {\n",
              "      background-color: #434B5C;\n",
              "      box-shadow: 0px 1px 3px 1px rgba(0, 0, 0, 0.15);\n",
              "      filter: drop-shadow(0px 1px 2px rgba(0, 0, 0, 0.3));\n",
              "      fill: #FFFFFF;\n",
              "    }\n",
              "  </style>\n",
              "\n",
              "      <script>\n",
              "        const buttonEl =\n",
              "          document.querySelector('#df-bb676c19-1121-494d-8295-0d5c1adc5589 button.colab-df-convert');\n",
              "        buttonEl.style.display =\n",
              "          google.colab.kernel.accessAllowed ? 'block' : 'none';\n",
              "\n",
              "        async function convertToInteractive(key) {\n",
              "          const element = document.querySelector('#df-bb676c19-1121-494d-8295-0d5c1adc5589');\n",
              "          const dataTable =\n",
              "            await google.colab.kernel.invokeFunction('convertToInteractive',\n",
              "                                                     [key], {});\n",
              "          if (!dataTable) return;\n",
              "\n",
              "          const docLinkHtml = 'Like what you see? Visit the ' +\n",
              "            '<a target=\"_blank\" href=https://colab.research.google.com/notebooks/data_table.ipynb>data table notebook</a>'\n",
              "            + ' to learn more about interactive tables.';\n",
              "          element.innerHTML = '';\n",
              "          dataTable['output_type'] = 'display_data';\n",
              "          await google.colab.output.renderOutput(dataTable, element);\n",
              "          const docLink = document.createElement('div');\n",
              "          docLink.innerHTML = docLinkHtml;\n",
              "          element.appendChild(docLink);\n",
              "        }\n",
              "      </script>\n",
              "    </div>\n",
              "  </div>\n",
              "  "
            ]
          },
          "metadata": {},
          "execution_count": 2
        }
      ]
    },
    {
      "cell_type": "markdown",
      "source": [
        "Notes\n",
        "This session covers data collection and some procedures of data preparation.\n",
        "\n",
        "Commands, functions, and methods:\n",
        "\n",
        "!wget - Linux shell command for downloading data\n",
        "pd.read.csv() - read csv files\n",
        "df.head() - take a look of the dataframe\n",
        "df.head().T - take a look of the transposed dataframe\n",
        "df.columns - retrieve column names of a dataframe\n",
        "df.columns.str.lower() - lowercase all the letters\n",
        "df.columns.str.replace(' ', '_') - replace the space separator\n",
        "df.dtypes - retrieve data types of all series\n",
        "df.index - retrive indices of a dataframe\n",
        "pd.to_numeric() - convert a series values to numerical values. The errors=coerce argument allows making the transformation despite some encountered errors.\n",
        "df.fillna() - replace NAs with some value\n",
        "(df.x == \"yes\").astype(int) - convert x series of yes-no values to numerical values.\n",
        "df['Weight'] = df['Weight'].astype(int) - this takes a single column of data and converts the data type"
      ],
      "metadata": {
        "id": "upaHAIpj4Sl8"
      }
    },
    {
      "cell_type": "code",
      "source": [
        "len(df)"
      ],
      "metadata": {
        "colab": {
          "base_uri": "https://localhost:8080/"
        },
        "id": "2Hf-m2PG4SMK",
        "outputId": "d314d9e1-0f3f-45c5-e87f-aa658b61a185"
      },
      "execution_count": null,
      "outputs": [
        {
          "output_type": "execute_result",
          "data": {
            "text/plain": [
              "1340"
            ]
          },
          "metadata": {},
          "execution_count": 3
        }
      ]
    },
    {
      "cell_type": "code",
      "source": [
        "df.describe()"
      ],
      "metadata": {
        "colab": {
          "base_uri": "https://localhost:8080/",
          "height": 364
        },
        "id": "pgPi7qjQ4RRU",
        "outputId": "9162d858-3bf6-479f-e33d-9cd667423698"
      },
      "execution_count": null,
      "outputs": [
        {
          "output_type": "execute_result",
          "data": {
            "text/plain": [
              "                GP          MIN          PTS          FGM          FGA  \\\n",
              "count  1340.000000  1340.000000  1340.000000  1340.000000  1340.000000   \n",
              "mean     60.414179    17.624627     6.801493     2.629104     5.885299   \n",
              "std      17.433992     8.307964     4.357545     1.683555     3.593488   \n",
              "min      11.000000     3.100000     0.700000     0.300000     0.800000   \n",
              "25%      47.000000    10.875000     3.700000     1.400000     3.300000   \n",
              "50%      63.000000    16.100000     5.550000     2.100000     4.800000   \n",
              "75%      77.000000    22.900000     8.800000     3.400000     7.500000   \n",
              "max      82.000000    40.900000    28.200000    10.200000    19.800000   \n",
              "\n",
              "               FG%      3P Made          3PA          3P%          FTM  \\\n",
              "count  1340.000000  1340.000000  1340.000000  1329.000000  1340.000000   \n",
              "mean     44.169403     0.247612     0.779179    19.308126     1.297687   \n",
              "std       6.137679     0.383688     1.061847    16.022916     0.987246   \n",
              "min      23.800000     0.000000     0.000000     0.000000     0.000000   \n",
              "25%      40.200000     0.000000     0.000000     0.000000     0.600000   \n",
              "50%      44.100000     0.100000     0.300000    22.400000     1.000000   \n",
              "75%      47.900000     0.400000     1.200000    32.500000     1.600000   \n",
              "max      73.700000     2.300000     6.500000   100.000000     7.700000   \n",
              "\n",
              "               FTA          FT%         OREB         DREB          REB  \\\n",
              "count  1340.000000  1340.000000  1340.000000  1340.000000  1340.000000   \n",
              "mean      1.821940    70.300299     1.009403     2.025746     3.034478   \n",
              "std       1.322984    10.578479     0.777119     1.360008     2.057774   \n",
              "min       0.000000     0.000000     0.000000     0.200000     0.300000   \n",
              "25%       0.900000    64.700000     0.400000     1.000000     1.500000   \n",
              "50%       1.500000    71.250000     0.800000     1.700000     2.500000   \n",
              "75%       2.300000    77.600000     1.400000     2.600000     4.000000   \n",
              "max      10.200000   100.000000     5.300000     9.600000    13.900000   \n",
              "\n",
              "               AST          STL          BLK          TOV  TARGET_5Yrs  \n",
              "count  1340.000000  1340.000000  1340.000000  1340.000000  1340.000000  \n",
              "mean      1.550522     0.618507     0.368582     1.193582     0.620149  \n",
              "std       1.471169     0.409759     0.429049     0.722541     0.485531  \n",
              "min       0.000000     0.000000     0.000000     0.100000     0.000000  \n",
              "25%       0.600000     0.300000     0.100000     0.700000     0.000000  \n",
              "50%       1.100000     0.500000     0.200000     1.000000     1.000000  \n",
              "75%       2.000000     0.800000     0.500000     1.500000     1.000000  \n",
              "max      10.600000     2.500000     3.900000     4.400000     1.000000  "
            ],
            "text/html": [
              "\n",
              "  <div id=\"df-543dbd0d-5750-4d1d-abd4-5efba6b41623\">\n",
              "    <div class=\"colab-df-container\">\n",
              "      <div>\n",
              "<style scoped>\n",
              "    .dataframe tbody tr th:only-of-type {\n",
              "        vertical-align: middle;\n",
              "    }\n",
              "\n",
              "    .dataframe tbody tr th {\n",
              "        vertical-align: top;\n",
              "    }\n",
              "\n",
              "    .dataframe thead th {\n",
              "        text-align: right;\n",
              "    }\n",
              "</style>\n",
              "<table border=\"1\" class=\"dataframe\">\n",
              "  <thead>\n",
              "    <tr style=\"text-align: right;\">\n",
              "      <th></th>\n",
              "      <th>GP</th>\n",
              "      <th>MIN</th>\n",
              "      <th>PTS</th>\n",
              "      <th>FGM</th>\n",
              "      <th>FGA</th>\n",
              "      <th>FG%</th>\n",
              "      <th>3P Made</th>\n",
              "      <th>3PA</th>\n",
              "      <th>3P%</th>\n",
              "      <th>FTM</th>\n",
              "      <th>FTA</th>\n",
              "      <th>FT%</th>\n",
              "      <th>OREB</th>\n",
              "      <th>DREB</th>\n",
              "      <th>REB</th>\n",
              "      <th>AST</th>\n",
              "      <th>STL</th>\n",
              "      <th>BLK</th>\n",
              "      <th>TOV</th>\n",
              "      <th>TARGET_5Yrs</th>\n",
              "    </tr>\n",
              "  </thead>\n",
              "  <tbody>\n",
              "    <tr>\n",
              "      <th>count</th>\n",
              "      <td>1340.000000</td>\n",
              "      <td>1340.000000</td>\n",
              "      <td>1340.000000</td>\n",
              "      <td>1340.000000</td>\n",
              "      <td>1340.000000</td>\n",
              "      <td>1340.000000</td>\n",
              "      <td>1340.000000</td>\n",
              "      <td>1340.000000</td>\n",
              "      <td>1329.000000</td>\n",
              "      <td>1340.000000</td>\n",
              "      <td>1340.000000</td>\n",
              "      <td>1340.000000</td>\n",
              "      <td>1340.000000</td>\n",
              "      <td>1340.000000</td>\n",
              "      <td>1340.000000</td>\n",
              "      <td>1340.000000</td>\n",
              "      <td>1340.000000</td>\n",
              "      <td>1340.000000</td>\n",
              "      <td>1340.000000</td>\n",
              "      <td>1340.000000</td>\n",
              "    </tr>\n",
              "    <tr>\n",
              "      <th>mean</th>\n",
              "      <td>60.414179</td>\n",
              "      <td>17.624627</td>\n",
              "      <td>6.801493</td>\n",
              "      <td>2.629104</td>\n",
              "      <td>5.885299</td>\n",
              "      <td>44.169403</td>\n",
              "      <td>0.247612</td>\n",
              "      <td>0.779179</td>\n",
              "      <td>19.308126</td>\n",
              "      <td>1.297687</td>\n",
              "      <td>1.821940</td>\n",
              "      <td>70.300299</td>\n",
              "      <td>1.009403</td>\n",
              "      <td>2.025746</td>\n",
              "      <td>3.034478</td>\n",
              "      <td>1.550522</td>\n",
              "      <td>0.618507</td>\n",
              "      <td>0.368582</td>\n",
              "      <td>1.193582</td>\n",
              "      <td>0.620149</td>\n",
              "    </tr>\n",
              "    <tr>\n",
              "      <th>std</th>\n",
              "      <td>17.433992</td>\n",
              "      <td>8.307964</td>\n",
              "      <td>4.357545</td>\n",
              "      <td>1.683555</td>\n",
              "      <td>3.593488</td>\n",
              "      <td>6.137679</td>\n",
              "      <td>0.383688</td>\n",
              "      <td>1.061847</td>\n",
              "      <td>16.022916</td>\n",
              "      <td>0.987246</td>\n",
              "      <td>1.322984</td>\n",
              "      <td>10.578479</td>\n",
              "      <td>0.777119</td>\n",
              "      <td>1.360008</td>\n",
              "      <td>2.057774</td>\n",
              "      <td>1.471169</td>\n",
              "      <td>0.409759</td>\n",
              "      <td>0.429049</td>\n",
              "      <td>0.722541</td>\n",
              "      <td>0.485531</td>\n",
              "    </tr>\n",
              "    <tr>\n",
              "      <th>min</th>\n",
              "      <td>11.000000</td>\n",
              "      <td>3.100000</td>\n",
              "      <td>0.700000</td>\n",
              "      <td>0.300000</td>\n",
              "      <td>0.800000</td>\n",
              "      <td>23.800000</td>\n",
              "      <td>0.000000</td>\n",
              "      <td>0.000000</td>\n",
              "      <td>0.000000</td>\n",
              "      <td>0.000000</td>\n",
              "      <td>0.000000</td>\n",
              "      <td>0.000000</td>\n",
              "      <td>0.000000</td>\n",
              "      <td>0.200000</td>\n",
              "      <td>0.300000</td>\n",
              "      <td>0.000000</td>\n",
              "      <td>0.000000</td>\n",
              "      <td>0.000000</td>\n",
              "      <td>0.100000</td>\n",
              "      <td>0.000000</td>\n",
              "    </tr>\n",
              "    <tr>\n",
              "      <th>25%</th>\n",
              "      <td>47.000000</td>\n",
              "      <td>10.875000</td>\n",
              "      <td>3.700000</td>\n",
              "      <td>1.400000</td>\n",
              "      <td>3.300000</td>\n",
              "      <td>40.200000</td>\n",
              "      <td>0.000000</td>\n",
              "      <td>0.000000</td>\n",
              "      <td>0.000000</td>\n",
              "      <td>0.600000</td>\n",
              "      <td>0.900000</td>\n",
              "      <td>64.700000</td>\n",
              "      <td>0.400000</td>\n",
              "      <td>1.000000</td>\n",
              "      <td>1.500000</td>\n",
              "      <td>0.600000</td>\n",
              "      <td>0.300000</td>\n",
              "      <td>0.100000</td>\n",
              "      <td>0.700000</td>\n",
              "      <td>0.000000</td>\n",
              "    </tr>\n",
              "    <tr>\n",
              "      <th>50%</th>\n",
              "      <td>63.000000</td>\n",
              "      <td>16.100000</td>\n",
              "      <td>5.550000</td>\n",
              "      <td>2.100000</td>\n",
              "      <td>4.800000</td>\n",
              "      <td>44.100000</td>\n",
              "      <td>0.100000</td>\n",
              "      <td>0.300000</td>\n",
              "      <td>22.400000</td>\n",
              "      <td>1.000000</td>\n",
              "      <td>1.500000</td>\n",
              "      <td>71.250000</td>\n",
              "      <td>0.800000</td>\n",
              "      <td>1.700000</td>\n",
              "      <td>2.500000</td>\n",
              "      <td>1.100000</td>\n",
              "      <td>0.500000</td>\n",
              "      <td>0.200000</td>\n",
              "      <td>1.000000</td>\n",
              "      <td>1.000000</td>\n",
              "    </tr>\n",
              "    <tr>\n",
              "      <th>75%</th>\n",
              "      <td>77.000000</td>\n",
              "      <td>22.900000</td>\n",
              "      <td>8.800000</td>\n",
              "      <td>3.400000</td>\n",
              "      <td>7.500000</td>\n",
              "      <td>47.900000</td>\n",
              "      <td>0.400000</td>\n",
              "      <td>1.200000</td>\n",
              "      <td>32.500000</td>\n",
              "      <td>1.600000</td>\n",
              "      <td>2.300000</td>\n",
              "      <td>77.600000</td>\n",
              "      <td>1.400000</td>\n",
              "      <td>2.600000</td>\n",
              "      <td>4.000000</td>\n",
              "      <td>2.000000</td>\n",
              "      <td>0.800000</td>\n",
              "      <td>0.500000</td>\n",
              "      <td>1.500000</td>\n",
              "      <td>1.000000</td>\n",
              "    </tr>\n",
              "    <tr>\n",
              "      <th>max</th>\n",
              "      <td>82.000000</td>\n",
              "      <td>40.900000</td>\n",
              "      <td>28.200000</td>\n",
              "      <td>10.200000</td>\n",
              "      <td>19.800000</td>\n",
              "      <td>73.700000</td>\n",
              "      <td>2.300000</td>\n",
              "      <td>6.500000</td>\n",
              "      <td>100.000000</td>\n",
              "      <td>7.700000</td>\n",
              "      <td>10.200000</td>\n",
              "      <td>100.000000</td>\n",
              "      <td>5.300000</td>\n",
              "      <td>9.600000</td>\n",
              "      <td>13.900000</td>\n",
              "      <td>10.600000</td>\n",
              "      <td>2.500000</td>\n",
              "      <td>3.900000</td>\n",
              "      <td>4.400000</td>\n",
              "      <td>1.000000</td>\n",
              "    </tr>\n",
              "  </tbody>\n",
              "</table>\n",
              "</div>\n",
              "      <button class=\"colab-df-convert\" onclick=\"convertToInteractive('df-543dbd0d-5750-4d1d-abd4-5efba6b41623')\"\n",
              "              title=\"Convert this dataframe to an interactive table.\"\n",
              "              style=\"display:none;\">\n",
              "        \n",
              "  <svg xmlns=\"http://www.w3.org/2000/svg\" height=\"24px\"viewBox=\"0 0 24 24\"\n",
              "       width=\"24px\">\n",
              "    <path d=\"M0 0h24v24H0V0z\" fill=\"none\"/>\n",
              "    <path d=\"M18.56 5.44l.94 2.06.94-2.06 2.06-.94-2.06-.94-.94-2.06-.94 2.06-2.06.94zm-11 1L8.5 8.5l.94-2.06 2.06-.94-2.06-.94L8.5 2.5l-.94 2.06-2.06.94zm10 10l.94 2.06.94-2.06 2.06-.94-2.06-.94-.94-2.06-.94 2.06-2.06.94z\"/><path d=\"M17.41 7.96l-1.37-1.37c-.4-.4-.92-.59-1.43-.59-.52 0-1.04.2-1.43.59L10.3 9.45l-7.72 7.72c-.78.78-.78 2.05 0 2.83L4 21.41c.39.39.9.59 1.41.59.51 0 1.02-.2 1.41-.59l7.78-7.78 2.81-2.81c.8-.78.8-2.07 0-2.86zM5.41 20L4 18.59l7.72-7.72 1.47 1.35L5.41 20z\"/>\n",
              "  </svg>\n",
              "      </button>\n",
              "      \n",
              "  <style>\n",
              "    .colab-df-container {\n",
              "      display:flex;\n",
              "      flex-wrap:wrap;\n",
              "      gap: 12px;\n",
              "    }\n",
              "\n",
              "    .colab-df-convert {\n",
              "      background-color: #E8F0FE;\n",
              "      border: none;\n",
              "      border-radius: 50%;\n",
              "      cursor: pointer;\n",
              "      display: none;\n",
              "      fill: #1967D2;\n",
              "      height: 32px;\n",
              "      padding: 0 0 0 0;\n",
              "      width: 32px;\n",
              "    }\n",
              "\n",
              "    .colab-df-convert:hover {\n",
              "      background-color: #E2EBFA;\n",
              "      box-shadow: 0px 1px 2px rgba(60, 64, 67, 0.3), 0px 1px 3px 1px rgba(60, 64, 67, 0.15);\n",
              "      fill: #174EA6;\n",
              "    }\n",
              "\n",
              "    [theme=dark] .colab-df-convert {\n",
              "      background-color: #3B4455;\n",
              "      fill: #D2E3FC;\n",
              "    }\n",
              "\n",
              "    [theme=dark] .colab-df-convert:hover {\n",
              "      background-color: #434B5C;\n",
              "      box-shadow: 0px 1px 3px 1px rgba(0, 0, 0, 0.15);\n",
              "      filter: drop-shadow(0px 1px 2px rgba(0, 0, 0, 0.3));\n",
              "      fill: #FFFFFF;\n",
              "    }\n",
              "  </style>\n",
              "\n",
              "      <script>\n",
              "        const buttonEl =\n",
              "          document.querySelector('#df-543dbd0d-5750-4d1d-abd4-5efba6b41623 button.colab-df-convert');\n",
              "        buttonEl.style.display =\n",
              "          google.colab.kernel.accessAllowed ? 'block' : 'none';\n",
              "\n",
              "        async function convertToInteractive(key) {\n",
              "          const element = document.querySelector('#df-543dbd0d-5750-4d1d-abd4-5efba6b41623');\n",
              "          const dataTable =\n",
              "            await google.colab.kernel.invokeFunction('convertToInteractive',\n",
              "                                                     [key], {});\n",
              "          if (!dataTable) return;\n",
              "\n",
              "          const docLinkHtml = 'Like what you see? Visit the ' +\n",
              "            '<a target=\"_blank\" href=https://colab.research.google.com/notebooks/data_table.ipynb>data table notebook</a>'\n",
              "            + ' to learn more about interactive tables.';\n",
              "          element.innerHTML = '';\n",
              "          dataTable['output_type'] = 'display_data';\n",
              "          await google.colab.output.renderOutput(dataTable, element);\n",
              "          const docLink = document.createElement('div');\n",
              "          docLink.innerHTML = docLinkHtml;\n",
              "          element.appendChild(docLink);\n",
              "        }\n",
              "      </script>\n",
              "    </div>\n",
              "  </div>\n",
              "  "
            ]
          },
          "metadata": {},
          "execution_count": 4
        }
      ]
    },
    {
      "cell_type": "code",
      "source": [
        "df.shape"
      ],
      "metadata": {
        "colab": {
          "base_uri": "https://localhost:8080/"
        },
        "id": "qgZb8Huz4taK",
        "outputId": "28212b58-2cd2-41d2-f487-06678b806607"
      },
      "execution_count": null,
      "outputs": [
        {
          "output_type": "execute_result",
          "data": {
            "text/plain": [
              "(1340, 21)"
            ]
          },
          "metadata": {},
          "execution_count": 5
        }
      ]
    },
    {
      "cell_type": "code",
      "source": [
        "df.info()"
      ],
      "metadata": {
        "colab": {
          "base_uri": "https://localhost:8080/"
        },
        "id": "I-hHWCK04yXk",
        "outputId": "57f68c3b-e2ed-47f5-d967-3e47ac72c7d2"
      },
      "execution_count": null,
      "outputs": [
        {
          "output_type": "stream",
          "name": "stdout",
          "text": [
            "<class 'pandas.core.frame.DataFrame'>\n",
            "RangeIndex: 1340 entries, 0 to 1339\n",
            "Data columns (total 21 columns):\n",
            " #   Column       Non-Null Count  Dtype  \n",
            "---  ------       --------------  -----  \n",
            " 0   Name         1340 non-null   object \n",
            " 1   GP           1340 non-null   int64  \n",
            " 2   MIN          1340 non-null   float64\n",
            " 3   PTS          1340 non-null   float64\n",
            " 4   FGM          1340 non-null   float64\n",
            " 5   FGA          1340 non-null   float64\n",
            " 6   FG%          1340 non-null   float64\n",
            " 7   3P Made      1340 non-null   float64\n",
            " 8   3PA          1340 non-null   float64\n",
            " 9   3P%          1329 non-null   float64\n",
            " 10  FTM          1340 non-null   float64\n",
            " 11  FTA          1340 non-null   float64\n",
            " 12  FT%          1340 non-null   float64\n",
            " 13  OREB         1340 non-null   float64\n",
            " 14  DREB         1340 non-null   float64\n",
            " 15  REB          1340 non-null   float64\n",
            " 16  AST          1340 non-null   float64\n",
            " 17  STL          1340 non-null   float64\n",
            " 18  BLK          1340 non-null   float64\n",
            " 19  TOV          1340 non-null   float64\n",
            " 20  TARGET_5Yrs  1340 non-null   float64\n",
            "dtypes: float64(19), int64(1), object(1)\n",
            "memory usage: 220.0+ KB\n"
          ]
        }
      ]
    },
    {
      "cell_type": "code",
      "source": [
        "df"
      ],
      "metadata": {
        "colab": {
          "base_uri": "https://localhost:8080/",
          "height": 424
        },
        "id": "9JBIC5ng18ZE",
        "outputId": "d5d36125-1eb1-4d8c-ba37-4ebc296ddb8a"
      },
      "execution_count": null,
      "outputs": [
        {
          "output_type": "execute_result",
          "data": {
            "text/plain": [
              "                 Name  GP   MIN  PTS  FGM  FGA   FG%  3P Made  3PA   3P%  ...  \\\n",
              "0      Brandon Ingram  36  27.4  7.4  2.6  7.6  34.7      0.5  2.1  25.0  ...   \n",
              "1     Andrew Harrison  35  26.9  7.2  2.0  6.7  29.6      0.7  2.8  23.5  ...   \n",
              "2      JaKarr Sampson  74  15.3  5.2  2.0  4.7  42.2      0.4  1.7  24.4  ...   \n",
              "3         Malik Sealy  58  11.6  5.7  2.3  5.5  42.6      0.1  0.5  22.6  ...   \n",
              "4         Matt Geiger  48  11.5  4.5  1.6  3.0  52.4      0.0  0.1   0.0  ...   \n",
              "...               ...  ..   ...  ...  ...  ...   ...      ...  ...   ...  ...   \n",
              "1335      Chris Smith  80  15.8  4.3  1.6  3.6  43.3      0.0  0.2  14.3  ...   \n",
              "1336      Brent Price  68  12.6  3.9  1.5  4.1  35.8      0.1  0.7  16.7  ...   \n",
              "1337     Marlon Maxey  43  12.1  5.4  2.2  3.9  55.0      0.0  0.0   0.0  ...   \n",
              "1338  Litterial Green  52  12.0  4.5  1.7  3.8  43.9      0.0  0.2  10.0  ...   \n",
              "1339        Jon Barry  47  11.7  4.4  1.6  4.4  36.9      0.4  1.3  33.3  ...   \n",
              "\n",
              "      FTA   FT%  OREB  DREB  REB  AST  STL  BLK  TOV  TARGET_5Yrs  \n",
              "0     2.3  69.9   0.7   3.4  4.1  1.9  0.4  0.4  1.3          0.0  \n",
              "1     3.4  76.5   0.5   2.0  2.4  3.7  1.1  0.5  1.6          0.0  \n",
              "2     1.3  67.0   0.5   1.7  2.2  1.0  0.5  0.3  1.0          0.0  \n",
              "3     1.3  68.9   1.0   0.9  1.9  0.8  0.6  0.1  1.0          1.0  \n",
              "4     1.9  67.4   1.0   1.5  2.5  0.3  0.3  0.4  0.8          1.0  \n",
              "...   ...   ...   ...   ...  ...  ...  ...  ...  ...          ...  \n",
              "1335  1.5  79.2   0.4   0.8  1.2  2.5  0.6  0.2  0.8          0.0  \n",
              "1336  1.0  79.4   0.4   1.1  1.5  2.3  0.8  0.0  1.3          1.0  \n",
              "1337  1.6  64.3   1.5   2.3  3.8  0.3  0.3  0.4  0.9          0.0  \n",
              "1338  1.8  62.5   0.2   0.4  0.7  2.2  0.4  0.1  0.8          1.0  \n",
              "1339  1.0  67.3   0.2   0.7  0.9  1.4  0.7  0.1  0.9          1.0  \n",
              "\n",
              "[1340 rows x 21 columns]"
            ],
            "text/html": [
              "\n",
              "  <div id=\"df-7e873404-c8a6-4d4f-a6b5-67fb4b8ef2b5\">\n",
              "    <div class=\"colab-df-container\">\n",
              "      <div>\n",
              "<style scoped>\n",
              "    .dataframe tbody tr th:only-of-type {\n",
              "        vertical-align: middle;\n",
              "    }\n",
              "\n",
              "    .dataframe tbody tr th {\n",
              "        vertical-align: top;\n",
              "    }\n",
              "\n",
              "    .dataframe thead th {\n",
              "        text-align: right;\n",
              "    }\n",
              "</style>\n",
              "<table border=\"1\" class=\"dataframe\">\n",
              "  <thead>\n",
              "    <tr style=\"text-align: right;\">\n",
              "      <th></th>\n",
              "      <th>Name</th>\n",
              "      <th>GP</th>\n",
              "      <th>MIN</th>\n",
              "      <th>PTS</th>\n",
              "      <th>FGM</th>\n",
              "      <th>FGA</th>\n",
              "      <th>FG%</th>\n",
              "      <th>3P Made</th>\n",
              "      <th>3PA</th>\n",
              "      <th>3P%</th>\n",
              "      <th>...</th>\n",
              "      <th>FTA</th>\n",
              "      <th>FT%</th>\n",
              "      <th>OREB</th>\n",
              "      <th>DREB</th>\n",
              "      <th>REB</th>\n",
              "      <th>AST</th>\n",
              "      <th>STL</th>\n",
              "      <th>BLK</th>\n",
              "      <th>TOV</th>\n",
              "      <th>TARGET_5Yrs</th>\n",
              "    </tr>\n",
              "  </thead>\n",
              "  <tbody>\n",
              "    <tr>\n",
              "      <th>0</th>\n",
              "      <td>Brandon Ingram</td>\n",
              "      <td>36</td>\n",
              "      <td>27.4</td>\n",
              "      <td>7.4</td>\n",
              "      <td>2.6</td>\n",
              "      <td>7.6</td>\n",
              "      <td>34.7</td>\n",
              "      <td>0.5</td>\n",
              "      <td>2.1</td>\n",
              "      <td>25.0</td>\n",
              "      <td>...</td>\n",
              "      <td>2.3</td>\n",
              "      <td>69.9</td>\n",
              "      <td>0.7</td>\n",
              "      <td>3.4</td>\n",
              "      <td>4.1</td>\n",
              "      <td>1.9</td>\n",
              "      <td>0.4</td>\n",
              "      <td>0.4</td>\n",
              "      <td>1.3</td>\n",
              "      <td>0.0</td>\n",
              "    </tr>\n",
              "    <tr>\n",
              "      <th>1</th>\n",
              "      <td>Andrew Harrison</td>\n",
              "      <td>35</td>\n",
              "      <td>26.9</td>\n",
              "      <td>7.2</td>\n",
              "      <td>2.0</td>\n",
              "      <td>6.7</td>\n",
              "      <td>29.6</td>\n",
              "      <td>0.7</td>\n",
              "      <td>2.8</td>\n",
              "      <td>23.5</td>\n",
              "      <td>...</td>\n",
              "      <td>3.4</td>\n",
              "      <td>76.5</td>\n",
              "      <td>0.5</td>\n",
              "      <td>2.0</td>\n",
              "      <td>2.4</td>\n",
              "      <td>3.7</td>\n",
              "      <td>1.1</td>\n",
              "      <td>0.5</td>\n",
              "      <td>1.6</td>\n",
              "      <td>0.0</td>\n",
              "    </tr>\n",
              "    <tr>\n",
              "      <th>2</th>\n",
              "      <td>JaKarr Sampson</td>\n",
              "      <td>74</td>\n",
              "      <td>15.3</td>\n",
              "      <td>5.2</td>\n",
              "      <td>2.0</td>\n",
              "      <td>4.7</td>\n",
              "      <td>42.2</td>\n",
              "      <td>0.4</td>\n",
              "      <td>1.7</td>\n",
              "      <td>24.4</td>\n",
              "      <td>...</td>\n",
              "      <td>1.3</td>\n",
              "      <td>67.0</td>\n",
              "      <td>0.5</td>\n",
              "      <td>1.7</td>\n",
              "      <td>2.2</td>\n",
              "      <td>1.0</td>\n",
              "      <td>0.5</td>\n",
              "      <td>0.3</td>\n",
              "      <td>1.0</td>\n",
              "      <td>0.0</td>\n",
              "    </tr>\n",
              "    <tr>\n",
              "      <th>3</th>\n",
              "      <td>Malik Sealy</td>\n",
              "      <td>58</td>\n",
              "      <td>11.6</td>\n",
              "      <td>5.7</td>\n",
              "      <td>2.3</td>\n",
              "      <td>5.5</td>\n",
              "      <td>42.6</td>\n",
              "      <td>0.1</td>\n",
              "      <td>0.5</td>\n",
              "      <td>22.6</td>\n",
              "      <td>...</td>\n",
              "      <td>1.3</td>\n",
              "      <td>68.9</td>\n",
              "      <td>1.0</td>\n",
              "      <td>0.9</td>\n",
              "      <td>1.9</td>\n",
              "      <td>0.8</td>\n",
              "      <td>0.6</td>\n",
              "      <td>0.1</td>\n",
              "      <td>1.0</td>\n",
              "      <td>1.0</td>\n",
              "    </tr>\n",
              "    <tr>\n",
              "      <th>4</th>\n",
              "      <td>Matt Geiger</td>\n",
              "      <td>48</td>\n",
              "      <td>11.5</td>\n",
              "      <td>4.5</td>\n",
              "      <td>1.6</td>\n",
              "      <td>3.0</td>\n",
              "      <td>52.4</td>\n",
              "      <td>0.0</td>\n",
              "      <td>0.1</td>\n",
              "      <td>0.0</td>\n",
              "      <td>...</td>\n",
              "      <td>1.9</td>\n",
              "      <td>67.4</td>\n",
              "      <td>1.0</td>\n",
              "      <td>1.5</td>\n",
              "      <td>2.5</td>\n",
              "      <td>0.3</td>\n",
              "      <td>0.3</td>\n",
              "      <td>0.4</td>\n",
              "      <td>0.8</td>\n",
              "      <td>1.0</td>\n",
              "    </tr>\n",
              "    <tr>\n",
              "      <th>...</th>\n",
              "      <td>...</td>\n",
              "      <td>...</td>\n",
              "      <td>...</td>\n",
              "      <td>...</td>\n",
              "      <td>...</td>\n",
              "      <td>...</td>\n",
              "      <td>...</td>\n",
              "      <td>...</td>\n",
              "      <td>...</td>\n",
              "      <td>...</td>\n",
              "      <td>...</td>\n",
              "      <td>...</td>\n",
              "      <td>...</td>\n",
              "      <td>...</td>\n",
              "      <td>...</td>\n",
              "      <td>...</td>\n",
              "      <td>...</td>\n",
              "      <td>...</td>\n",
              "      <td>...</td>\n",
              "      <td>...</td>\n",
              "      <td>...</td>\n",
              "    </tr>\n",
              "    <tr>\n",
              "      <th>1335</th>\n",
              "      <td>Chris Smith</td>\n",
              "      <td>80</td>\n",
              "      <td>15.8</td>\n",
              "      <td>4.3</td>\n",
              "      <td>1.6</td>\n",
              "      <td>3.6</td>\n",
              "      <td>43.3</td>\n",
              "      <td>0.0</td>\n",
              "      <td>0.2</td>\n",
              "      <td>14.3</td>\n",
              "      <td>...</td>\n",
              "      <td>1.5</td>\n",
              "      <td>79.2</td>\n",
              "      <td>0.4</td>\n",
              "      <td>0.8</td>\n",
              "      <td>1.2</td>\n",
              "      <td>2.5</td>\n",
              "      <td>0.6</td>\n",
              "      <td>0.2</td>\n",
              "      <td>0.8</td>\n",
              "      <td>0.0</td>\n",
              "    </tr>\n",
              "    <tr>\n",
              "      <th>1336</th>\n",
              "      <td>Brent Price</td>\n",
              "      <td>68</td>\n",
              "      <td>12.6</td>\n",
              "      <td>3.9</td>\n",
              "      <td>1.5</td>\n",
              "      <td>4.1</td>\n",
              "      <td>35.8</td>\n",
              "      <td>0.1</td>\n",
              "      <td>0.7</td>\n",
              "      <td>16.7</td>\n",
              "      <td>...</td>\n",
              "      <td>1.0</td>\n",
              "      <td>79.4</td>\n",
              "      <td>0.4</td>\n",
              "      <td>1.1</td>\n",
              "      <td>1.5</td>\n",
              "      <td>2.3</td>\n",
              "      <td>0.8</td>\n",
              "      <td>0.0</td>\n",
              "      <td>1.3</td>\n",
              "      <td>1.0</td>\n",
              "    </tr>\n",
              "    <tr>\n",
              "      <th>1337</th>\n",
              "      <td>Marlon Maxey</td>\n",
              "      <td>43</td>\n",
              "      <td>12.1</td>\n",
              "      <td>5.4</td>\n",
              "      <td>2.2</td>\n",
              "      <td>3.9</td>\n",
              "      <td>55.0</td>\n",
              "      <td>0.0</td>\n",
              "      <td>0.0</td>\n",
              "      <td>0.0</td>\n",
              "      <td>...</td>\n",
              "      <td>1.6</td>\n",
              "      <td>64.3</td>\n",
              "      <td>1.5</td>\n",
              "      <td>2.3</td>\n",
              "      <td>3.8</td>\n",
              "      <td>0.3</td>\n",
              "      <td>0.3</td>\n",
              "      <td>0.4</td>\n",
              "      <td>0.9</td>\n",
              "      <td>0.0</td>\n",
              "    </tr>\n",
              "    <tr>\n",
              "      <th>1338</th>\n",
              "      <td>Litterial Green</td>\n",
              "      <td>52</td>\n",
              "      <td>12.0</td>\n",
              "      <td>4.5</td>\n",
              "      <td>1.7</td>\n",
              "      <td>3.8</td>\n",
              "      <td>43.9</td>\n",
              "      <td>0.0</td>\n",
              "      <td>0.2</td>\n",
              "      <td>10.0</td>\n",
              "      <td>...</td>\n",
              "      <td>1.8</td>\n",
              "      <td>62.5</td>\n",
              "      <td>0.2</td>\n",
              "      <td>0.4</td>\n",
              "      <td>0.7</td>\n",
              "      <td>2.2</td>\n",
              "      <td>0.4</td>\n",
              "      <td>0.1</td>\n",
              "      <td>0.8</td>\n",
              "      <td>1.0</td>\n",
              "    </tr>\n",
              "    <tr>\n",
              "      <th>1339</th>\n",
              "      <td>Jon Barry</td>\n",
              "      <td>47</td>\n",
              "      <td>11.7</td>\n",
              "      <td>4.4</td>\n",
              "      <td>1.6</td>\n",
              "      <td>4.4</td>\n",
              "      <td>36.9</td>\n",
              "      <td>0.4</td>\n",
              "      <td>1.3</td>\n",
              "      <td>33.3</td>\n",
              "      <td>...</td>\n",
              "      <td>1.0</td>\n",
              "      <td>67.3</td>\n",
              "      <td>0.2</td>\n",
              "      <td>0.7</td>\n",
              "      <td>0.9</td>\n",
              "      <td>1.4</td>\n",
              "      <td>0.7</td>\n",
              "      <td>0.1</td>\n",
              "      <td>0.9</td>\n",
              "      <td>1.0</td>\n",
              "    </tr>\n",
              "  </tbody>\n",
              "</table>\n",
              "<p>1340 rows × 21 columns</p>\n",
              "</div>\n",
              "      <button class=\"colab-df-convert\" onclick=\"convertToInteractive('df-7e873404-c8a6-4d4f-a6b5-67fb4b8ef2b5')\"\n",
              "              title=\"Convert this dataframe to an interactive table.\"\n",
              "              style=\"display:none;\">\n",
              "        \n",
              "  <svg xmlns=\"http://www.w3.org/2000/svg\" height=\"24px\"viewBox=\"0 0 24 24\"\n",
              "       width=\"24px\">\n",
              "    <path d=\"M0 0h24v24H0V0z\" fill=\"none\"/>\n",
              "    <path d=\"M18.56 5.44l.94 2.06.94-2.06 2.06-.94-2.06-.94-.94-2.06-.94 2.06-2.06.94zm-11 1L8.5 8.5l.94-2.06 2.06-.94-2.06-.94L8.5 2.5l-.94 2.06-2.06.94zm10 10l.94 2.06.94-2.06 2.06-.94-2.06-.94-.94-2.06-.94 2.06-2.06.94z\"/><path d=\"M17.41 7.96l-1.37-1.37c-.4-.4-.92-.59-1.43-.59-.52 0-1.04.2-1.43.59L10.3 9.45l-7.72 7.72c-.78.78-.78 2.05 0 2.83L4 21.41c.39.39.9.59 1.41.59.51 0 1.02-.2 1.41-.59l7.78-7.78 2.81-2.81c.8-.78.8-2.07 0-2.86zM5.41 20L4 18.59l7.72-7.72 1.47 1.35L5.41 20z\"/>\n",
              "  </svg>\n",
              "      </button>\n",
              "      \n",
              "  <style>\n",
              "    .colab-df-container {\n",
              "      display:flex;\n",
              "      flex-wrap:wrap;\n",
              "      gap: 12px;\n",
              "    }\n",
              "\n",
              "    .colab-df-convert {\n",
              "      background-color: #E8F0FE;\n",
              "      border: none;\n",
              "      border-radius: 50%;\n",
              "      cursor: pointer;\n",
              "      display: none;\n",
              "      fill: #1967D2;\n",
              "      height: 32px;\n",
              "      padding: 0 0 0 0;\n",
              "      width: 32px;\n",
              "    }\n",
              "\n",
              "    .colab-df-convert:hover {\n",
              "      background-color: #E2EBFA;\n",
              "      box-shadow: 0px 1px 2px rgba(60, 64, 67, 0.3), 0px 1px 3px 1px rgba(60, 64, 67, 0.15);\n",
              "      fill: #174EA6;\n",
              "    }\n",
              "\n",
              "    [theme=dark] .colab-df-convert {\n",
              "      background-color: #3B4455;\n",
              "      fill: #D2E3FC;\n",
              "    }\n",
              "\n",
              "    [theme=dark] .colab-df-convert:hover {\n",
              "      background-color: #434B5C;\n",
              "      box-shadow: 0px 1px 3px 1px rgba(0, 0, 0, 0.15);\n",
              "      filter: drop-shadow(0px 1px 2px rgba(0, 0, 0, 0.3));\n",
              "      fill: #FFFFFF;\n",
              "    }\n",
              "  </style>\n",
              "\n",
              "      <script>\n",
              "        const buttonEl =\n",
              "          document.querySelector('#df-7e873404-c8a6-4d4f-a6b5-67fb4b8ef2b5 button.colab-df-convert');\n",
              "        buttonEl.style.display =\n",
              "          google.colab.kernel.accessAllowed ? 'block' : 'none';\n",
              "\n",
              "        async function convertToInteractive(key) {\n",
              "          const element = document.querySelector('#df-7e873404-c8a6-4d4f-a6b5-67fb4b8ef2b5');\n",
              "          const dataTable =\n",
              "            await google.colab.kernel.invokeFunction('convertToInteractive',\n",
              "                                                     [key], {});\n",
              "          if (!dataTable) return;\n",
              "\n",
              "          const docLinkHtml = 'Like what you see? Visit the ' +\n",
              "            '<a target=\"_blank\" href=https://colab.research.google.com/notebooks/data_table.ipynb>data table notebook</a>'\n",
              "            + ' to learn more about interactive tables.';\n",
              "          element.innerHTML = '';\n",
              "          dataTable['output_type'] = 'display_data';\n",
              "          await google.colab.output.renderOutput(dataTable, element);\n",
              "          const docLink = document.createElement('div');\n",
              "          docLink.innerHTML = docLinkHtml;\n",
              "          element.appendChild(docLink);\n",
              "        }\n",
              "      </script>\n",
              "    </div>\n",
              "  </div>\n",
              "  "
            ]
          },
          "metadata": {},
          "execution_count": 7
        }
      ]
    },
    {
      "cell_type": "code",
      "source": [
        "df.nunique()"
      ],
      "metadata": {
        "colab": {
          "base_uri": "https://localhost:8080/"
        },
        "id": "JPRge8LB44T7",
        "outputId": "f686585d-e9b2-4c9f-a6d2-09a643169a89"
      },
      "execution_count": null,
      "outputs": [
        {
          "output_type": "execute_result",
          "data": {
            "text/plain": [
              "Name           1294\n",
              "GP               70\n",
              "MIN             325\n",
              "PTS             191\n",
              "FGM              87\n",
              "FGA             159\n",
              "FG%             284\n",
              "3P Made          23\n",
              "3PA              54\n",
              "3P%             254\n",
              "FTM              59\n",
              "FTA              76\n",
              "FT%             383\n",
              "OREB             44\n",
              "DREB             74\n",
              "REB             101\n",
              "AST              77\n",
              "STL              26\n",
              "BLK              28\n",
              "TOV              41\n",
              "TARGET_5Yrs       2\n",
              "dtype: int64"
            ]
          },
          "metadata": {},
          "execution_count": 8
        }
      ]
    },
    {
      "cell_type": "code",
      "source": [],
      "metadata": {
        "id": "wJqhqzp-25MX"
      },
      "execution_count": null,
      "outputs": []
    },
    {
      "cell_type": "code",
      "source": [
        "df.TARGET_5Yrs.unique()"
      ],
      "metadata": {
        "colab": {
          "base_uri": "https://localhost:8080/"
        },
        "id": "Z40sDs7y5I5Z",
        "outputId": "3ef17e06-de8e-4b51-a0e1-555b72b2fe0b"
      },
      "execution_count": null,
      "outputs": [
        {
          "output_type": "execute_result",
          "data": {
            "text/plain": [
              "array([0., 1.])"
            ]
          },
          "metadata": {},
          "execution_count": 9
        }
      ]
    },
    {
      "cell_type": "code",
      "source": [
        "df.corr()"
      ],
      "metadata": {
        "colab": {
          "base_uri": "https://localhost:8080/",
          "height": 741
        },
        "id": "H6gZE_GP5Q_e",
        "outputId": "145aaba0-af80-4d16-c171-0f594375dfe8"
      },
      "execution_count": null,
      "outputs": [
        {
          "output_type": "execute_result",
          "data": {
            "text/plain": [
              "                   GP       MIN       PTS       FGM       FGA       FG%  \\\n",
              "GP           1.000000  0.590240  0.538471  0.542724  0.516625  0.296289   \n",
              "MIN          0.590240  1.000000  0.911822  0.903060  0.910247  0.203901   \n",
              "PTS          0.538471  0.911822  1.000000  0.990834  0.979733  0.255333   \n",
              "FGM          0.542724  0.903060  0.990834  1.000000  0.980050  0.291693   \n",
              "FGA          0.516625  0.910247  0.979733  0.980050  1.000000  0.129798   \n",
              "FG%          0.296289  0.203901  0.255333  0.291693  0.129798  1.000000   \n",
              "3P Made      0.107423  0.389920  0.346682  0.289007  0.390253 -0.294471   \n",
              "3PA          0.098772  0.403258  0.356751  0.299057  0.413560 -0.350658   \n",
              "3P%          0.038209  0.165997  0.151072  0.119493  0.197160 -0.330690   \n",
              "FTM          0.482123  0.791000  0.896297  0.848019  0.826616  0.245776   \n",
              "FTA          0.479487  0.779609  0.880703  0.840408  0.805559  0.300154   \n",
              "FT%          0.196299  0.239878  0.258931  0.223566  0.269614 -0.161183   \n",
              "OREB         0.401136  0.573062  0.575106  0.596687  0.504212  0.511367   \n",
              "DREB         0.466840  0.745513  0.693934  0.703278  0.640123  0.410555   \n",
              "REB          0.460406  0.709707  0.676849  0.691186  0.614328  0.465423   \n",
              "AST          0.372749  0.629015  0.552338  0.532534  0.589818 -0.108797   \n",
              "STL          0.451137  0.757034  0.675341  0.662640  0.690168  0.056658   \n",
              "BLK          0.276498  0.399088  0.387043  0.398125  0.322184  0.391626   \n",
              "TOV          0.518167  0.826500  0.850366  0.834352  0.845989  0.121806   \n",
              "TARGET_5Yrs  0.396833  0.317805  0.315981  0.317594  0.292660  0.227134   \n",
              "\n",
              "              3P Made       3PA       3P%       FTM       FTA       FT%  \\\n",
              "GP           0.107423  0.098772  0.038209  0.482123  0.479487  0.196299   \n",
              "MIN          0.389920  0.403258  0.165997  0.791000  0.779609  0.239878   \n",
              "PTS          0.346682  0.356751  0.151072  0.896297  0.880703  0.258931   \n",
              "FGM          0.289007  0.299057  0.119493  0.848019  0.840408  0.223566   \n",
              "FGA          0.390253  0.413560  0.197160  0.826616  0.805559  0.269614   \n",
              "FG%         -0.294471 -0.350658 -0.330690  0.245776  0.300154 -0.161183   \n",
              "3P Made      1.000000  0.982616  0.589855  0.158472  0.095396  0.314355   \n",
              "3PA          0.982616  1.000000  0.582337  0.173533  0.108388  0.323612   \n",
              "3P%          0.589855  0.582337  1.000000  0.030320 -0.032333  0.326372   \n",
              "FTM          0.158472  0.173533  0.030320  1.000000  0.980505  0.257818   \n",
              "FTA          0.095396  0.108388 -0.032333  0.980505  1.000000  0.114872   \n",
              "FT%          0.314355  0.323612  0.326372  0.257818  0.114872  1.000000   \n",
              "OREB        -0.219010 -0.231897 -0.288759  0.583865  0.653445 -0.146786   \n",
              "DREB         0.016570  0.011226 -0.122949  0.653823  0.700863 -0.022905   \n",
              "REB         -0.072503 -0.080939 -0.191071  0.653833  0.711425 -0.071105   \n",
              "AST          0.376604  0.410531  0.262120  0.476214  0.428624  0.296315   \n",
              "STL          0.306908  0.338631  0.194329  0.600158  0.580065  0.207205   \n",
              "BLK         -0.158535 -0.172150 -0.242274  0.407466  0.468974 -0.161152   \n",
              "TOV          0.258369  0.283925  0.108277  0.804990  0.798936  0.199742   \n",
              "TARGET_5Yrs  0.036619  0.018110 -0.003411  0.296841  0.296089  0.106706   \n",
              "\n",
              "                 OREB      DREB       REB       AST       STL       BLK  \\\n",
              "GP           0.401136  0.466840  0.460406  0.372749  0.451137  0.276498   \n",
              "MIN          0.573062  0.745513  0.709707  0.629015  0.757034  0.399088   \n",
              "PTS          0.575106  0.693934  0.676849  0.552338  0.675341  0.387043   \n",
              "FGM          0.596687  0.703278  0.691186  0.532534  0.662640  0.398125   \n",
              "FGA          0.504212  0.640123  0.614328  0.589818  0.690168  0.322184   \n",
              "FG%          0.511367  0.410555  0.465423 -0.108797  0.056658  0.391626   \n",
              "3P Made     -0.219010  0.016570 -0.072503  0.376604  0.306908 -0.158535   \n",
              "3PA         -0.231897  0.011226 -0.080939  0.410531  0.338631 -0.172150   \n",
              "3P%         -0.288759 -0.122949 -0.191071  0.262120  0.194329 -0.242274   \n",
              "FTM          0.583865  0.653823  0.653833  0.476214  0.600158  0.407466   \n",
              "FTA          0.653445  0.700863  0.711425  0.428624  0.580065  0.468974   \n",
              "FT%         -0.146786 -0.022905 -0.071105  0.296315  0.207205 -0.161152   \n",
              "OREB         1.000000  0.838580  0.932694 -0.012109  0.286545  0.648346   \n",
              "DREB         0.838580  1.000000  0.978177  0.186679  0.411894  0.688135   \n",
              "REB          0.932694  0.978177  1.000000  0.119081  0.381154  0.699672   \n",
              "AST         -0.012109  0.186679  0.119081  1.000000  0.751289 -0.086470   \n",
              "STL          0.286545  0.411894  0.381154  0.751289  1.000000  0.133808   \n",
              "BLK          0.648346  0.688135  0.699672 -0.086470  0.133808  1.000000   \n",
              "TOV          0.421695  0.570187  0.536716  0.747286  0.741988  0.282150   \n",
              "TARGET_5Yrs  0.293307  0.284677  0.299406  0.175353  0.229811  0.210114   \n",
              "\n",
              "                  TOV  TARGET_5Yrs  \n",
              "GP           0.518167     0.396833  \n",
              "MIN          0.826500     0.317805  \n",
              "PTS          0.850366     0.315981  \n",
              "FGM          0.834352     0.317594  \n",
              "FGA          0.845989     0.292660  \n",
              "FG%          0.121806     0.227134  \n",
              "3P Made      0.258369     0.036619  \n",
              "3PA          0.283925     0.018110  \n",
              "3P%          0.108277    -0.003411  \n",
              "FTM          0.804990     0.296841  \n",
              "FTA          0.798936     0.296089  \n",
              "FT%          0.199742     0.106706  \n",
              "OREB         0.421695     0.293307  \n",
              "DREB         0.570187     0.284677  \n",
              "REB          0.536716     0.299406  \n",
              "AST          0.747286     0.175353  \n",
              "STL          0.741988     0.229811  \n",
              "BLK          0.282150     0.210114  \n",
              "TOV          1.000000     0.272348  \n",
              "TARGET_5Yrs  0.272348     1.000000  "
            ],
            "text/html": [
              "\n",
              "  <div id=\"df-47b9a831-c584-47f2-b243-0c9fb8f0097b\">\n",
              "    <div class=\"colab-df-container\">\n",
              "      <div>\n",
              "<style scoped>\n",
              "    .dataframe tbody tr th:only-of-type {\n",
              "        vertical-align: middle;\n",
              "    }\n",
              "\n",
              "    .dataframe tbody tr th {\n",
              "        vertical-align: top;\n",
              "    }\n",
              "\n",
              "    .dataframe thead th {\n",
              "        text-align: right;\n",
              "    }\n",
              "</style>\n",
              "<table border=\"1\" class=\"dataframe\">\n",
              "  <thead>\n",
              "    <tr style=\"text-align: right;\">\n",
              "      <th></th>\n",
              "      <th>GP</th>\n",
              "      <th>MIN</th>\n",
              "      <th>PTS</th>\n",
              "      <th>FGM</th>\n",
              "      <th>FGA</th>\n",
              "      <th>FG%</th>\n",
              "      <th>3P Made</th>\n",
              "      <th>3PA</th>\n",
              "      <th>3P%</th>\n",
              "      <th>FTM</th>\n",
              "      <th>FTA</th>\n",
              "      <th>FT%</th>\n",
              "      <th>OREB</th>\n",
              "      <th>DREB</th>\n",
              "      <th>REB</th>\n",
              "      <th>AST</th>\n",
              "      <th>STL</th>\n",
              "      <th>BLK</th>\n",
              "      <th>TOV</th>\n",
              "      <th>TARGET_5Yrs</th>\n",
              "    </tr>\n",
              "  </thead>\n",
              "  <tbody>\n",
              "    <tr>\n",
              "      <th>GP</th>\n",
              "      <td>1.000000</td>\n",
              "      <td>0.590240</td>\n",
              "      <td>0.538471</td>\n",
              "      <td>0.542724</td>\n",
              "      <td>0.516625</td>\n",
              "      <td>0.296289</td>\n",
              "      <td>0.107423</td>\n",
              "      <td>0.098772</td>\n",
              "      <td>0.038209</td>\n",
              "      <td>0.482123</td>\n",
              "      <td>0.479487</td>\n",
              "      <td>0.196299</td>\n",
              "      <td>0.401136</td>\n",
              "      <td>0.466840</td>\n",
              "      <td>0.460406</td>\n",
              "      <td>0.372749</td>\n",
              "      <td>0.451137</td>\n",
              "      <td>0.276498</td>\n",
              "      <td>0.518167</td>\n",
              "      <td>0.396833</td>\n",
              "    </tr>\n",
              "    <tr>\n",
              "      <th>MIN</th>\n",
              "      <td>0.590240</td>\n",
              "      <td>1.000000</td>\n",
              "      <td>0.911822</td>\n",
              "      <td>0.903060</td>\n",
              "      <td>0.910247</td>\n",
              "      <td>0.203901</td>\n",
              "      <td>0.389920</td>\n",
              "      <td>0.403258</td>\n",
              "      <td>0.165997</td>\n",
              "      <td>0.791000</td>\n",
              "      <td>0.779609</td>\n",
              "      <td>0.239878</td>\n",
              "      <td>0.573062</td>\n",
              "      <td>0.745513</td>\n",
              "      <td>0.709707</td>\n",
              "      <td>0.629015</td>\n",
              "      <td>0.757034</td>\n",
              "      <td>0.399088</td>\n",
              "      <td>0.826500</td>\n",
              "      <td>0.317805</td>\n",
              "    </tr>\n",
              "    <tr>\n",
              "      <th>PTS</th>\n",
              "      <td>0.538471</td>\n",
              "      <td>0.911822</td>\n",
              "      <td>1.000000</td>\n",
              "      <td>0.990834</td>\n",
              "      <td>0.979733</td>\n",
              "      <td>0.255333</td>\n",
              "      <td>0.346682</td>\n",
              "      <td>0.356751</td>\n",
              "      <td>0.151072</td>\n",
              "      <td>0.896297</td>\n",
              "      <td>0.880703</td>\n",
              "      <td>0.258931</td>\n",
              "      <td>0.575106</td>\n",
              "      <td>0.693934</td>\n",
              "      <td>0.676849</td>\n",
              "      <td>0.552338</td>\n",
              "      <td>0.675341</td>\n",
              "      <td>0.387043</td>\n",
              "      <td>0.850366</td>\n",
              "      <td>0.315981</td>\n",
              "    </tr>\n",
              "    <tr>\n",
              "      <th>FGM</th>\n",
              "      <td>0.542724</td>\n",
              "      <td>0.903060</td>\n",
              "      <td>0.990834</td>\n",
              "      <td>1.000000</td>\n",
              "      <td>0.980050</td>\n",
              "      <td>0.291693</td>\n",
              "      <td>0.289007</td>\n",
              "      <td>0.299057</td>\n",
              "      <td>0.119493</td>\n",
              "      <td>0.848019</td>\n",
              "      <td>0.840408</td>\n",
              "      <td>0.223566</td>\n",
              "      <td>0.596687</td>\n",
              "      <td>0.703278</td>\n",
              "      <td>0.691186</td>\n",
              "      <td>0.532534</td>\n",
              "      <td>0.662640</td>\n",
              "      <td>0.398125</td>\n",
              "      <td>0.834352</td>\n",
              "      <td>0.317594</td>\n",
              "    </tr>\n",
              "    <tr>\n",
              "      <th>FGA</th>\n",
              "      <td>0.516625</td>\n",
              "      <td>0.910247</td>\n",
              "      <td>0.979733</td>\n",
              "      <td>0.980050</td>\n",
              "      <td>1.000000</td>\n",
              "      <td>0.129798</td>\n",
              "      <td>0.390253</td>\n",
              "      <td>0.413560</td>\n",
              "      <td>0.197160</td>\n",
              "      <td>0.826616</td>\n",
              "      <td>0.805559</td>\n",
              "      <td>0.269614</td>\n",
              "      <td>0.504212</td>\n",
              "      <td>0.640123</td>\n",
              "      <td>0.614328</td>\n",
              "      <td>0.589818</td>\n",
              "      <td>0.690168</td>\n",
              "      <td>0.322184</td>\n",
              "      <td>0.845989</td>\n",
              "      <td>0.292660</td>\n",
              "    </tr>\n",
              "    <tr>\n",
              "      <th>FG%</th>\n",
              "      <td>0.296289</td>\n",
              "      <td>0.203901</td>\n",
              "      <td>0.255333</td>\n",
              "      <td>0.291693</td>\n",
              "      <td>0.129798</td>\n",
              "      <td>1.000000</td>\n",
              "      <td>-0.294471</td>\n",
              "      <td>-0.350658</td>\n",
              "      <td>-0.330690</td>\n",
              "      <td>0.245776</td>\n",
              "      <td>0.300154</td>\n",
              "      <td>-0.161183</td>\n",
              "      <td>0.511367</td>\n",
              "      <td>0.410555</td>\n",
              "      <td>0.465423</td>\n",
              "      <td>-0.108797</td>\n",
              "      <td>0.056658</td>\n",
              "      <td>0.391626</td>\n",
              "      <td>0.121806</td>\n",
              "      <td>0.227134</td>\n",
              "    </tr>\n",
              "    <tr>\n",
              "      <th>3P Made</th>\n",
              "      <td>0.107423</td>\n",
              "      <td>0.389920</td>\n",
              "      <td>0.346682</td>\n",
              "      <td>0.289007</td>\n",
              "      <td>0.390253</td>\n",
              "      <td>-0.294471</td>\n",
              "      <td>1.000000</td>\n",
              "      <td>0.982616</td>\n",
              "      <td>0.589855</td>\n",
              "      <td>0.158472</td>\n",
              "      <td>0.095396</td>\n",
              "      <td>0.314355</td>\n",
              "      <td>-0.219010</td>\n",
              "      <td>0.016570</td>\n",
              "      <td>-0.072503</td>\n",
              "      <td>0.376604</td>\n",
              "      <td>0.306908</td>\n",
              "      <td>-0.158535</td>\n",
              "      <td>0.258369</td>\n",
              "      <td>0.036619</td>\n",
              "    </tr>\n",
              "    <tr>\n",
              "      <th>3PA</th>\n",
              "      <td>0.098772</td>\n",
              "      <td>0.403258</td>\n",
              "      <td>0.356751</td>\n",
              "      <td>0.299057</td>\n",
              "      <td>0.413560</td>\n",
              "      <td>-0.350658</td>\n",
              "      <td>0.982616</td>\n",
              "      <td>1.000000</td>\n",
              "      <td>0.582337</td>\n",
              "      <td>0.173533</td>\n",
              "      <td>0.108388</td>\n",
              "      <td>0.323612</td>\n",
              "      <td>-0.231897</td>\n",
              "      <td>0.011226</td>\n",
              "      <td>-0.080939</td>\n",
              "      <td>0.410531</td>\n",
              "      <td>0.338631</td>\n",
              "      <td>-0.172150</td>\n",
              "      <td>0.283925</td>\n",
              "      <td>0.018110</td>\n",
              "    </tr>\n",
              "    <tr>\n",
              "      <th>3P%</th>\n",
              "      <td>0.038209</td>\n",
              "      <td>0.165997</td>\n",
              "      <td>0.151072</td>\n",
              "      <td>0.119493</td>\n",
              "      <td>0.197160</td>\n",
              "      <td>-0.330690</td>\n",
              "      <td>0.589855</td>\n",
              "      <td>0.582337</td>\n",
              "      <td>1.000000</td>\n",
              "      <td>0.030320</td>\n",
              "      <td>-0.032333</td>\n",
              "      <td>0.326372</td>\n",
              "      <td>-0.288759</td>\n",
              "      <td>-0.122949</td>\n",
              "      <td>-0.191071</td>\n",
              "      <td>0.262120</td>\n",
              "      <td>0.194329</td>\n",
              "      <td>-0.242274</td>\n",
              "      <td>0.108277</td>\n",
              "      <td>-0.003411</td>\n",
              "    </tr>\n",
              "    <tr>\n",
              "      <th>FTM</th>\n",
              "      <td>0.482123</td>\n",
              "      <td>0.791000</td>\n",
              "      <td>0.896297</td>\n",
              "      <td>0.848019</td>\n",
              "      <td>0.826616</td>\n",
              "      <td>0.245776</td>\n",
              "      <td>0.158472</td>\n",
              "      <td>0.173533</td>\n",
              "      <td>0.030320</td>\n",
              "      <td>1.000000</td>\n",
              "      <td>0.980505</td>\n",
              "      <td>0.257818</td>\n",
              "      <td>0.583865</td>\n",
              "      <td>0.653823</td>\n",
              "      <td>0.653833</td>\n",
              "      <td>0.476214</td>\n",
              "      <td>0.600158</td>\n",
              "      <td>0.407466</td>\n",
              "      <td>0.804990</td>\n",
              "      <td>0.296841</td>\n",
              "    </tr>\n",
              "    <tr>\n",
              "      <th>FTA</th>\n",
              "      <td>0.479487</td>\n",
              "      <td>0.779609</td>\n",
              "      <td>0.880703</td>\n",
              "      <td>0.840408</td>\n",
              "      <td>0.805559</td>\n",
              "      <td>0.300154</td>\n",
              "      <td>0.095396</td>\n",
              "      <td>0.108388</td>\n",
              "      <td>-0.032333</td>\n",
              "      <td>0.980505</td>\n",
              "      <td>1.000000</td>\n",
              "      <td>0.114872</td>\n",
              "      <td>0.653445</td>\n",
              "      <td>0.700863</td>\n",
              "      <td>0.711425</td>\n",
              "      <td>0.428624</td>\n",
              "      <td>0.580065</td>\n",
              "      <td>0.468974</td>\n",
              "      <td>0.798936</td>\n",
              "      <td>0.296089</td>\n",
              "    </tr>\n",
              "    <tr>\n",
              "      <th>FT%</th>\n",
              "      <td>0.196299</td>\n",
              "      <td>0.239878</td>\n",
              "      <td>0.258931</td>\n",
              "      <td>0.223566</td>\n",
              "      <td>0.269614</td>\n",
              "      <td>-0.161183</td>\n",
              "      <td>0.314355</td>\n",
              "      <td>0.323612</td>\n",
              "      <td>0.326372</td>\n",
              "      <td>0.257818</td>\n",
              "      <td>0.114872</td>\n",
              "      <td>1.000000</td>\n",
              "      <td>-0.146786</td>\n",
              "      <td>-0.022905</td>\n",
              "      <td>-0.071105</td>\n",
              "      <td>0.296315</td>\n",
              "      <td>0.207205</td>\n",
              "      <td>-0.161152</td>\n",
              "      <td>0.199742</td>\n",
              "      <td>0.106706</td>\n",
              "    </tr>\n",
              "    <tr>\n",
              "      <th>OREB</th>\n",
              "      <td>0.401136</td>\n",
              "      <td>0.573062</td>\n",
              "      <td>0.575106</td>\n",
              "      <td>0.596687</td>\n",
              "      <td>0.504212</td>\n",
              "      <td>0.511367</td>\n",
              "      <td>-0.219010</td>\n",
              "      <td>-0.231897</td>\n",
              "      <td>-0.288759</td>\n",
              "      <td>0.583865</td>\n",
              "      <td>0.653445</td>\n",
              "      <td>-0.146786</td>\n",
              "      <td>1.000000</td>\n",
              "      <td>0.838580</td>\n",
              "      <td>0.932694</td>\n",
              "      <td>-0.012109</td>\n",
              "      <td>0.286545</td>\n",
              "      <td>0.648346</td>\n",
              "      <td>0.421695</td>\n",
              "      <td>0.293307</td>\n",
              "    </tr>\n",
              "    <tr>\n",
              "      <th>DREB</th>\n",
              "      <td>0.466840</td>\n",
              "      <td>0.745513</td>\n",
              "      <td>0.693934</td>\n",
              "      <td>0.703278</td>\n",
              "      <td>0.640123</td>\n",
              "      <td>0.410555</td>\n",
              "      <td>0.016570</td>\n",
              "      <td>0.011226</td>\n",
              "      <td>-0.122949</td>\n",
              "      <td>0.653823</td>\n",
              "      <td>0.700863</td>\n",
              "      <td>-0.022905</td>\n",
              "      <td>0.838580</td>\n",
              "      <td>1.000000</td>\n",
              "      <td>0.978177</td>\n",
              "      <td>0.186679</td>\n",
              "      <td>0.411894</td>\n",
              "      <td>0.688135</td>\n",
              "      <td>0.570187</td>\n",
              "      <td>0.284677</td>\n",
              "    </tr>\n",
              "    <tr>\n",
              "      <th>REB</th>\n",
              "      <td>0.460406</td>\n",
              "      <td>0.709707</td>\n",
              "      <td>0.676849</td>\n",
              "      <td>0.691186</td>\n",
              "      <td>0.614328</td>\n",
              "      <td>0.465423</td>\n",
              "      <td>-0.072503</td>\n",
              "      <td>-0.080939</td>\n",
              "      <td>-0.191071</td>\n",
              "      <td>0.653833</td>\n",
              "      <td>0.711425</td>\n",
              "      <td>-0.071105</td>\n",
              "      <td>0.932694</td>\n",
              "      <td>0.978177</td>\n",
              "      <td>1.000000</td>\n",
              "      <td>0.119081</td>\n",
              "      <td>0.381154</td>\n",
              "      <td>0.699672</td>\n",
              "      <td>0.536716</td>\n",
              "      <td>0.299406</td>\n",
              "    </tr>\n",
              "    <tr>\n",
              "      <th>AST</th>\n",
              "      <td>0.372749</td>\n",
              "      <td>0.629015</td>\n",
              "      <td>0.552338</td>\n",
              "      <td>0.532534</td>\n",
              "      <td>0.589818</td>\n",
              "      <td>-0.108797</td>\n",
              "      <td>0.376604</td>\n",
              "      <td>0.410531</td>\n",
              "      <td>0.262120</td>\n",
              "      <td>0.476214</td>\n",
              "      <td>0.428624</td>\n",
              "      <td>0.296315</td>\n",
              "      <td>-0.012109</td>\n",
              "      <td>0.186679</td>\n",
              "      <td>0.119081</td>\n",
              "      <td>1.000000</td>\n",
              "      <td>0.751289</td>\n",
              "      <td>-0.086470</td>\n",
              "      <td>0.747286</td>\n",
              "      <td>0.175353</td>\n",
              "    </tr>\n",
              "    <tr>\n",
              "      <th>STL</th>\n",
              "      <td>0.451137</td>\n",
              "      <td>0.757034</td>\n",
              "      <td>0.675341</td>\n",
              "      <td>0.662640</td>\n",
              "      <td>0.690168</td>\n",
              "      <td>0.056658</td>\n",
              "      <td>0.306908</td>\n",
              "      <td>0.338631</td>\n",
              "      <td>0.194329</td>\n",
              "      <td>0.600158</td>\n",
              "      <td>0.580065</td>\n",
              "      <td>0.207205</td>\n",
              "      <td>0.286545</td>\n",
              "      <td>0.411894</td>\n",
              "      <td>0.381154</td>\n",
              "      <td>0.751289</td>\n",
              "      <td>1.000000</td>\n",
              "      <td>0.133808</td>\n",
              "      <td>0.741988</td>\n",
              "      <td>0.229811</td>\n",
              "    </tr>\n",
              "    <tr>\n",
              "      <th>BLK</th>\n",
              "      <td>0.276498</td>\n",
              "      <td>0.399088</td>\n",
              "      <td>0.387043</td>\n",
              "      <td>0.398125</td>\n",
              "      <td>0.322184</td>\n",
              "      <td>0.391626</td>\n",
              "      <td>-0.158535</td>\n",
              "      <td>-0.172150</td>\n",
              "      <td>-0.242274</td>\n",
              "      <td>0.407466</td>\n",
              "      <td>0.468974</td>\n",
              "      <td>-0.161152</td>\n",
              "      <td>0.648346</td>\n",
              "      <td>0.688135</td>\n",
              "      <td>0.699672</td>\n",
              "      <td>-0.086470</td>\n",
              "      <td>0.133808</td>\n",
              "      <td>1.000000</td>\n",
              "      <td>0.282150</td>\n",
              "      <td>0.210114</td>\n",
              "    </tr>\n",
              "    <tr>\n",
              "      <th>TOV</th>\n",
              "      <td>0.518167</td>\n",
              "      <td>0.826500</td>\n",
              "      <td>0.850366</td>\n",
              "      <td>0.834352</td>\n",
              "      <td>0.845989</td>\n",
              "      <td>0.121806</td>\n",
              "      <td>0.258369</td>\n",
              "      <td>0.283925</td>\n",
              "      <td>0.108277</td>\n",
              "      <td>0.804990</td>\n",
              "      <td>0.798936</td>\n",
              "      <td>0.199742</td>\n",
              "      <td>0.421695</td>\n",
              "      <td>0.570187</td>\n",
              "      <td>0.536716</td>\n",
              "      <td>0.747286</td>\n",
              "      <td>0.741988</td>\n",
              "      <td>0.282150</td>\n",
              "      <td>1.000000</td>\n",
              "      <td>0.272348</td>\n",
              "    </tr>\n",
              "    <tr>\n",
              "      <th>TARGET_5Yrs</th>\n",
              "      <td>0.396833</td>\n",
              "      <td>0.317805</td>\n",
              "      <td>0.315981</td>\n",
              "      <td>0.317594</td>\n",
              "      <td>0.292660</td>\n",
              "      <td>0.227134</td>\n",
              "      <td>0.036619</td>\n",
              "      <td>0.018110</td>\n",
              "      <td>-0.003411</td>\n",
              "      <td>0.296841</td>\n",
              "      <td>0.296089</td>\n",
              "      <td>0.106706</td>\n",
              "      <td>0.293307</td>\n",
              "      <td>0.284677</td>\n",
              "      <td>0.299406</td>\n",
              "      <td>0.175353</td>\n",
              "      <td>0.229811</td>\n",
              "      <td>0.210114</td>\n",
              "      <td>0.272348</td>\n",
              "      <td>1.000000</td>\n",
              "    </tr>\n",
              "  </tbody>\n",
              "</table>\n",
              "</div>\n",
              "      <button class=\"colab-df-convert\" onclick=\"convertToInteractive('df-47b9a831-c584-47f2-b243-0c9fb8f0097b')\"\n",
              "              title=\"Convert this dataframe to an interactive table.\"\n",
              "              style=\"display:none;\">\n",
              "        \n",
              "  <svg xmlns=\"http://www.w3.org/2000/svg\" height=\"24px\"viewBox=\"0 0 24 24\"\n",
              "       width=\"24px\">\n",
              "    <path d=\"M0 0h24v24H0V0z\" fill=\"none\"/>\n",
              "    <path d=\"M18.56 5.44l.94 2.06.94-2.06 2.06-.94-2.06-.94-.94-2.06-.94 2.06-2.06.94zm-11 1L8.5 8.5l.94-2.06 2.06-.94-2.06-.94L8.5 2.5l-.94 2.06-2.06.94zm10 10l.94 2.06.94-2.06 2.06-.94-2.06-.94-.94-2.06-.94 2.06-2.06.94z\"/><path d=\"M17.41 7.96l-1.37-1.37c-.4-.4-.92-.59-1.43-.59-.52 0-1.04.2-1.43.59L10.3 9.45l-7.72 7.72c-.78.78-.78 2.05 0 2.83L4 21.41c.39.39.9.59 1.41.59.51 0 1.02-.2 1.41-.59l7.78-7.78 2.81-2.81c.8-.78.8-2.07 0-2.86zM5.41 20L4 18.59l7.72-7.72 1.47 1.35L5.41 20z\"/>\n",
              "  </svg>\n",
              "      </button>\n",
              "      \n",
              "  <style>\n",
              "    .colab-df-container {\n",
              "      display:flex;\n",
              "      flex-wrap:wrap;\n",
              "      gap: 12px;\n",
              "    }\n",
              "\n",
              "    .colab-df-convert {\n",
              "      background-color: #E8F0FE;\n",
              "      border: none;\n",
              "      border-radius: 50%;\n",
              "      cursor: pointer;\n",
              "      display: none;\n",
              "      fill: #1967D2;\n",
              "      height: 32px;\n",
              "      padding: 0 0 0 0;\n",
              "      width: 32px;\n",
              "    }\n",
              "\n",
              "    .colab-df-convert:hover {\n",
              "      background-color: #E2EBFA;\n",
              "      box-shadow: 0px 1px 2px rgba(60, 64, 67, 0.3), 0px 1px 3px 1px rgba(60, 64, 67, 0.15);\n",
              "      fill: #174EA6;\n",
              "    }\n",
              "\n",
              "    [theme=dark] .colab-df-convert {\n",
              "      background-color: #3B4455;\n",
              "      fill: #D2E3FC;\n",
              "    }\n",
              "\n",
              "    [theme=dark] .colab-df-convert:hover {\n",
              "      background-color: #434B5C;\n",
              "      box-shadow: 0px 1px 3px 1px rgba(0, 0, 0, 0.15);\n",
              "      filter: drop-shadow(0px 1px 2px rgba(0, 0, 0, 0.3));\n",
              "      fill: #FFFFFF;\n",
              "    }\n",
              "  </style>\n",
              "\n",
              "      <script>\n",
              "        const buttonEl =\n",
              "          document.querySelector('#df-47b9a831-c584-47f2-b243-0c9fb8f0097b button.colab-df-convert');\n",
              "        buttonEl.style.display =\n",
              "          google.colab.kernel.accessAllowed ? 'block' : 'none';\n",
              "\n",
              "        async function convertToInteractive(key) {\n",
              "          const element = document.querySelector('#df-47b9a831-c584-47f2-b243-0c9fb8f0097b');\n",
              "          const dataTable =\n",
              "            await google.colab.kernel.invokeFunction('convertToInteractive',\n",
              "                                                     [key], {});\n",
              "          if (!dataTable) return;\n",
              "\n",
              "          const docLinkHtml = 'Like what you see? Visit the ' +\n",
              "            '<a target=\"_blank\" href=https://colab.research.google.com/notebooks/data_table.ipynb>data table notebook</a>'\n",
              "            + ' to learn more about interactive tables.';\n",
              "          element.innerHTML = '';\n",
              "          dataTable['output_type'] = 'display_data';\n",
              "          await google.colab.output.renderOutput(dataTable, element);\n",
              "          const docLink = document.createElement('div');\n",
              "          docLink.innerHTML = docLinkHtml;\n",
              "          element.appendChild(docLink);\n",
              "        }\n",
              "      </script>\n",
              "    </div>\n",
              "  </div>\n",
              "  "
            ]
          },
          "metadata": {},
          "execution_count": 10
        }
      ]
    },
    {
      "cell_type": "code",
      "source": [
        "# Basic Data Cleaning\n",
        "df.columns = df.columns.str.lower().str.replace(' ', '_') # A\n",
        " \n",
        "string_columns = list(df.dtypes[df.dtypes == 'object'].index) # B\n",
        " \n",
        "for col in string_columns:\n",
        "    df[col] = df[col].str.lower().str.replace(' ', '_') # C"
      ],
      "metadata": {
        "id": "e1IGrIA45TlJ"
      },
      "execution_count": null,
      "outputs": []
    },
    {
      "cell_type": "code",
      "source": [
        "df.sample(7)"
      ],
      "metadata": {
        "colab": {
          "base_uri": "https://localhost:8080/",
          "height": 298
        },
        "id": "8SmQcnGE5W5a",
        "outputId": "26e8acdb-96c8-451f-c597-e0cc46fdd64d"
      },
      "execution_count": null,
      "outputs": [
        {
          "output_type": "execute_result",
          "data": {
            "text/plain": [
              "                   name  gp   min   pts  fgm   fga   fg%  3p_made  3pa   3p%  \\\n",
              "133         stacey_king  82  21.7   8.9  3.3   6.5  50.4      0.0  0.0   0.0   \n",
              "125        sam_mitchell  80  30.2  12.7  4.7  10.4  44.6      0.0  0.1   0.0   \n",
              "168       charles_smith  34   8.6   3.5  1.4   3.7  39.2      0.4  1.4  31.9   \n",
              "776        kevin_durant  80  34.6  20.3  7.3  17.1  43.0      0.7  2.6  28.8   \n",
              "378   eddie_lee_wilkins  54  17.0   5.5  2.1   4.3  49.8      0.0  0.0   0.0   \n",
              "1284      rodney_rogers  79  17.8   8.1  3.0   6.9  43.9      0.4  1.2  38.0   \n",
              "1038     khalid_el-amin  50  18.7   6.3  2.3   6.2  37.0      0.6  1.7  33.3   \n",
              "\n",
              "      ...  fta   ft%  oreb  dreb  reb  ast  stl  blk  tov  target_5yrs  \n",
              "133   ...  3.3  72.7   2.1   2.6  4.7  1.1  0.5  0.7  1.4          1.0  \n",
              "125   ...  4.4  76.8   2.3   3.5  5.8  1.1  0.8  0.7  1.2          1.0  \n",
              "168   ...  0.3  54.5   0.4   0.4  0.8  0.6  0.3  0.2  0.8          1.0  \n",
              "776   ...  5.6  87.3   0.9   3.5  4.3  2.4  1.0  0.9  2.9          1.0  \n",
              "378   ...  2.3  54.1   1.6   3.3  4.9  0.3  0.4  0.3  1.2          1.0  \n",
              "1284  ...  2.4  67.2   1.1   1.7  2.9  1.3  0.8  0.6  1.7          1.0  \n",
              "1038  ...  1.4  77.8   0.4   1.2  1.6  2.9  1.0  0.0  1.1          0.0  \n",
              "\n",
              "[7 rows x 21 columns]"
            ],
            "text/html": [
              "\n",
              "  <div id=\"df-f7be6bfb-aa1e-4367-a8fc-0a6735936ff3\">\n",
              "    <div class=\"colab-df-container\">\n",
              "      <div>\n",
              "<style scoped>\n",
              "    .dataframe tbody tr th:only-of-type {\n",
              "        vertical-align: middle;\n",
              "    }\n",
              "\n",
              "    .dataframe tbody tr th {\n",
              "        vertical-align: top;\n",
              "    }\n",
              "\n",
              "    .dataframe thead th {\n",
              "        text-align: right;\n",
              "    }\n",
              "</style>\n",
              "<table border=\"1\" class=\"dataframe\">\n",
              "  <thead>\n",
              "    <tr style=\"text-align: right;\">\n",
              "      <th></th>\n",
              "      <th>name</th>\n",
              "      <th>gp</th>\n",
              "      <th>min</th>\n",
              "      <th>pts</th>\n",
              "      <th>fgm</th>\n",
              "      <th>fga</th>\n",
              "      <th>fg%</th>\n",
              "      <th>3p_made</th>\n",
              "      <th>3pa</th>\n",
              "      <th>3p%</th>\n",
              "      <th>...</th>\n",
              "      <th>fta</th>\n",
              "      <th>ft%</th>\n",
              "      <th>oreb</th>\n",
              "      <th>dreb</th>\n",
              "      <th>reb</th>\n",
              "      <th>ast</th>\n",
              "      <th>stl</th>\n",
              "      <th>blk</th>\n",
              "      <th>tov</th>\n",
              "      <th>target_5yrs</th>\n",
              "    </tr>\n",
              "  </thead>\n",
              "  <tbody>\n",
              "    <tr>\n",
              "      <th>133</th>\n",
              "      <td>stacey_king</td>\n",
              "      <td>82</td>\n",
              "      <td>21.7</td>\n",
              "      <td>8.9</td>\n",
              "      <td>3.3</td>\n",
              "      <td>6.5</td>\n",
              "      <td>50.4</td>\n",
              "      <td>0.0</td>\n",
              "      <td>0.0</td>\n",
              "      <td>0.0</td>\n",
              "      <td>...</td>\n",
              "      <td>3.3</td>\n",
              "      <td>72.7</td>\n",
              "      <td>2.1</td>\n",
              "      <td>2.6</td>\n",
              "      <td>4.7</td>\n",
              "      <td>1.1</td>\n",
              "      <td>0.5</td>\n",
              "      <td>0.7</td>\n",
              "      <td>1.4</td>\n",
              "      <td>1.0</td>\n",
              "    </tr>\n",
              "    <tr>\n",
              "      <th>125</th>\n",
              "      <td>sam_mitchell</td>\n",
              "      <td>80</td>\n",
              "      <td>30.2</td>\n",
              "      <td>12.7</td>\n",
              "      <td>4.7</td>\n",
              "      <td>10.4</td>\n",
              "      <td>44.6</td>\n",
              "      <td>0.0</td>\n",
              "      <td>0.1</td>\n",
              "      <td>0.0</td>\n",
              "      <td>...</td>\n",
              "      <td>4.4</td>\n",
              "      <td>76.8</td>\n",
              "      <td>2.3</td>\n",
              "      <td>3.5</td>\n",
              "      <td>5.8</td>\n",
              "      <td>1.1</td>\n",
              "      <td>0.8</td>\n",
              "      <td>0.7</td>\n",
              "      <td>1.2</td>\n",
              "      <td>1.0</td>\n",
              "    </tr>\n",
              "    <tr>\n",
              "      <th>168</th>\n",
              "      <td>charles_smith</td>\n",
              "      <td>34</td>\n",
              "      <td>8.6</td>\n",
              "      <td>3.5</td>\n",
              "      <td>1.4</td>\n",
              "      <td>3.7</td>\n",
              "      <td>39.2</td>\n",
              "      <td>0.4</td>\n",
              "      <td>1.4</td>\n",
              "      <td>31.9</td>\n",
              "      <td>...</td>\n",
              "      <td>0.3</td>\n",
              "      <td>54.5</td>\n",
              "      <td>0.4</td>\n",
              "      <td>0.4</td>\n",
              "      <td>0.8</td>\n",
              "      <td>0.6</td>\n",
              "      <td>0.3</td>\n",
              "      <td>0.2</td>\n",
              "      <td>0.8</td>\n",
              "      <td>1.0</td>\n",
              "    </tr>\n",
              "    <tr>\n",
              "      <th>776</th>\n",
              "      <td>kevin_durant</td>\n",
              "      <td>80</td>\n",
              "      <td>34.6</td>\n",
              "      <td>20.3</td>\n",
              "      <td>7.3</td>\n",
              "      <td>17.1</td>\n",
              "      <td>43.0</td>\n",
              "      <td>0.7</td>\n",
              "      <td>2.6</td>\n",
              "      <td>28.8</td>\n",
              "      <td>...</td>\n",
              "      <td>5.6</td>\n",
              "      <td>87.3</td>\n",
              "      <td>0.9</td>\n",
              "      <td>3.5</td>\n",
              "      <td>4.3</td>\n",
              "      <td>2.4</td>\n",
              "      <td>1.0</td>\n",
              "      <td>0.9</td>\n",
              "      <td>2.9</td>\n",
              "      <td>1.0</td>\n",
              "    </tr>\n",
              "    <tr>\n",
              "      <th>378</th>\n",
              "      <td>eddie_lee_wilkins</td>\n",
              "      <td>54</td>\n",
              "      <td>17.0</td>\n",
              "      <td>5.5</td>\n",
              "      <td>2.1</td>\n",
              "      <td>4.3</td>\n",
              "      <td>49.8</td>\n",
              "      <td>0.0</td>\n",
              "      <td>0.0</td>\n",
              "      <td>0.0</td>\n",
              "      <td>...</td>\n",
              "      <td>2.3</td>\n",
              "      <td>54.1</td>\n",
              "      <td>1.6</td>\n",
              "      <td>3.3</td>\n",
              "      <td>4.9</td>\n",
              "      <td>0.3</td>\n",
              "      <td>0.4</td>\n",
              "      <td>0.3</td>\n",
              "      <td>1.2</td>\n",
              "      <td>1.0</td>\n",
              "    </tr>\n",
              "    <tr>\n",
              "      <th>1284</th>\n",
              "      <td>rodney_rogers</td>\n",
              "      <td>79</td>\n",
              "      <td>17.8</td>\n",
              "      <td>8.1</td>\n",
              "      <td>3.0</td>\n",
              "      <td>6.9</td>\n",
              "      <td>43.9</td>\n",
              "      <td>0.4</td>\n",
              "      <td>1.2</td>\n",
              "      <td>38.0</td>\n",
              "      <td>...</td>\n",
              "      <td>2.4</td>\n",
              "      <td>67.2</td>\n",
              "      <td>1.1</td>\n",
              "      <td>1.7</td>\n",
              "      <td>2.9</td>\n",
              "      <td>1.3</td>\n",
              "      <td>0.8</td>\n",
              "      <td>0.6</td>\n",
              "      <td>1.7</td>\n",
              "      <td>1.0</td>\n",
              "    </tr>\n",
              "    <tr>\n",
              "      <th>1038</th>\n",
              "      <td>khalid_el-amin</td>\n",
              "      <td>50</td>\n",
              "      <td>18.7</td>\n",
              "      <td>6.3</td>\n",
              "      <td>2.3</td>\n",
              "      <td>6.2</td>\n",
              "      <td>37.0</td>\n",
              "      <td>0.6</td>\n",
              "      <td>1.7</td>\n",
              "      <td>33.3</td>\n",
              "      <td>...</td>\n",
              "      <td>1.4</td>\n",
              "      <td>77.8</td>\n",
              "      <td>0.4</td>\n",
              "      <td>1.2</td>\n",
              "      <td>1.6</td>\n",
              "      <td>2.9</td>\n",
              "      <td>1.0</td>\n",
              "      <td>0.0</td>\n",
              "      <td>1.1</td>\n",
              "      <td>0.0</td>\n",
              "    </tr>\n",
              "  </tbody>\n",
              "</table>\n",
              "<p>7 rows × 21 columns</p>\n",
              "</div>\n",
              "      <button class=\"colab-df-convert\" onclick=\"convertToInteractive('df-f7be6bfb-aa1e-4367-a8fc-0a6735936ff3')\"\n",
              "              title=\"Convert this dataframe to an interactive table.\"\n",
              "              style=\"display:none;\">\n",
              "        \n",
              "  <svg xmlns=\"http://www.w3.org/2000/svg\" height=\"24px\"viewBox=\"0 0 24 24\"\n",
              "       width=\"24px\">\n",
              "    <path d=\"M0 0h24v24H0V0z\" fill=\"none\"/>\n",
              "    <path d=\"M18.56 5.44l.94 2.06.94-2.06 2.06-.94-2.06-.94-.94-2.06-.94 2.06-2.06.94zm-11 1L8.5 8.5l.94-2.06 2.06-.94-2.06-.94L8.5 2.5l-.94 2.06-2.06.94zm10 10l.94 2.06.94-2.06 2.06-.94-2.06-.94-.94-2.06-.94 2.06-2.06.94z\"/><path d=\"M17.41 7.96l-1.37-1.37c-.4-.4-.92-.59-1.43-.59-.52 0-1.04.2-1.43.59L10.3 9.45l-7.72 7.72c-.78.78-.78 2.05 0 2.83L4 21.41c.39.39.9.59 1.41.59.51 0 1.02-.2 1.41-.59l7.78-7.78 2.81-2.81c.8-.78.8-2.07 0-2.86zM5.41 20L4 18.59l7.72-7.72 1.47 1.35L5.41 20z\"/>\n",
              "  </svg>\n",
              "      </button>\n",
              "      \n",
              "  <style>\n",
              "    .colab-df-container {\n",
              "      display:flex;\n",
              "      flex-wrap:wrap;\n",
              "      gap: 12px;\n",
              "    }\n",
              "\n",
              "    .colab-df-convert {\n",
              "      background-color: #E8F0FE;\n",
              "      border: none;\n",
              "      border-radius: 50%;\n",
              "      cursor: pointer;\n",
              "      display: none;\n",
              "      fill: #1967D2;\n",
              "      height: 32px;\n",
              "      padding: 0 0 0 0;\n",
              "      width: 32px;\n",
              "    }\n",
              "\n",
              "    .colab-df-convert:hover {\n",
              "      background-color: #E2EBFA;\n",
              "      box-shadow: 0px 1px 2px rgba(60, 64, 67, 0.3), 0px 1px 3px 1px rgba(60, 64, 67, 0.15);\n",
              "      fill: #174EA6;\n",
              "    }\n",
              "\n",
              "    [theme=dark] .colab-df-convert {\n",
              "      background-color: #3B4455;\n",
              "      fill: #D2E3FC;\n",
              "    }\n",
              "\n",
              "    [theme=dark] .colab-df-convert:hover {\n",
              "      background-color: #434B5C;\n",
              "      box-shadow: 0px 1px 3px 1px rgba(0, 0, 0, 0.15);\n",
              "      filter: drop-shadow(0px 1px 2px rgba(0, 0, 0, 0.3));\n",
              "      fill: #FFFFFF;\n",
              "    }\n",
              "  </style>\n",
              "\n",
              "      <script>\n",
              "        const buttonEl =\n",
              "          document.querySelector('#df-f7be6bfb-aa1e-4367-a8fc-0a6735936ff3 button.colab-df-convert');\n",
              "        buttonEl.style.display =\n",
              "          google.colab.kernel.accessAllowed ? 'block' : 'none';\n",
              "\n",
              "        async function convertToInteractive(key) {\n",
              "          const element = document.querySelector('#df-f7be6bfb-aa1e-4367-a8fc-0a6735936ff3');\n",
              "          const dataTable =\n",
              "            await google.colab.kernel.invokeFunction('convertToInteractive',\n",
              "                                                     [key], {});\n",
              "          if (!dataTable) return;\n",
              "\n",
              "          const docLinkHtml = 'Like what you see? Visit the ' +\n",
              "            '<a target=\"_blank\" href=https://colab.research.google.com/notebooks/data_table.ipynb>data table notebook</a>'\n",
              "            + ' to learn more about interactive tables.';\n",
              "          element.innerHTML = '';\n",
              "          dataTable['output_type'] = 'display_data';\n",
              "          await google.colab.output.renderOutput(dataTable, element);\n",
              "          const docLink = document.createElement('div');\n",
              "          docLink.innerHTML = docLinkHtml;\n",
              "          element.appendChild(docLink);\n",
              "        }\n",
              "      </script>\n",
              "    </div>\n",
              "  </div>\n",
              "  "
            ]
          },
          "metadata": {},
          "execution_count": 12
        }
      ]
    },
    {
      "cell_type": "code",
      "source": [
        "# change 5 year to int\n",
        "df[\"target_5yrs\"] = df[\"target_5yrs\"].astype('int')"
      ],
      "metadata": {
        "id": "pKyvQ3-b2-st"
      },
      "execution_count": null,
      "outputs": []
    },
    {
      "cell_type": "code",
      "source": [
        "\"\"\"for c in ['income', 'assets', 'debt']:\n",
        "    df[c] = df[c].replace(to_replace=99999999, value=np.nan)\n",
        "df = df[df.status != 0]   # Also make sure to treat the target variable\"\"\""
      ],
      "metadata": {
        "id": "PG-dDdbn5kIr",
        "colab": {
          "base_uri": "https://localhost:8080/",
          "height": 53
        },
        "outputId": "6a03842c-4214-4186-ccb0-f4eece69475c"
      },
      "execution_count": null,
      "outputs": [
        {
          "output_type": "execute_result",
          "data": {
            "text/plain": [
              "\"for c in ['income', 'assets', 'debt']:\\n    df[c] = df[c].replace(to_replace=99999999, value=np.nan)\\ndf = df[df.status != 0]   # Also make sure to treat the target variable\""
            ],
            "application/vnd.google.colaboratory.intrinsic+json": {
              "type": "string"
            }
          },
          "metadata": {},
          "execution_count": 14
        }
      ]
    },
    {
      "cell_type": "code",
      "source": [
        "\"\"\"df.status.unique()\"\"\""
      ],
      "metadata": {
        "colab": {
          "base_uri": "https://localhost:8080/",
          "height": 35
        },
        "id": "HIb1twj352DC",
        "outputId": "46bd1b49-1567-4e7c-903e-be40129d10b0"
      },
      "execution_count": null,
      "outputs": [
        {
          "output_type": "execute_result",
          "data": {
            "text/plain": [
              "'df.status.unique()'"
            ],
            "application/vnd.google.colaboratory.intrinsic+json": {
              "type": "string"
            }
          },
          "metadata": {},
          "execution_count": 15
        }
      ]
    },
    {
      "cell_type": "code",
      "source": [
        "\"\"\"df['status'].unique()\"\"\"\n",
        "df.columns"
      ],
      "metadata": {
        "colab": {
          "base_uri": "https://localhost:8080/"
        },
        "id": "ko06PZnD6Bx8",
        "outputId": "98f74828-9af3-42fc-9137-51548b2e9687"
      },
      "execution_count": null,
      "outputs": [
        {
          "output_type": "execute_result",
          "data": {
            "text/plain": [
              "Index(['name', 'gp', 'min', 'pts', 'fgm', 'fga', 'fg%', '3p_made', '3pa',\n",
              "       '3p%', 'ftm', 'fta', 'ft%', 'oreb', 'dreb', 'reb', 'ast', 'stl', 'blk',\n",
              "       'tov', 'target_5yrs'],\n",
              "      dtype='object')"
            ]
          },
          "metadata": {},
          "execution_count": 16
        }
      ]
    },
    {
      "cell_type": "code",
      "source": [
        "\"\"\"# Replace with your target variable --- df.YOUR_TARGET_VARIABLE  \n",
        "# Look for major data imbalances\n",
        "# Also replace your X label\n",
        "# REPLACE YOUR TARGET VARIABLE\n",
        "plt.figure(figsize=(6, 4))\n",
        "\n",
        "sns.histplot(df.status, bins=40, color='black', alpha=1)\n",
        "plt.ylabel('Frequency')\n",
        "plt.xlabel('status')\n",
        "plt.title('status')\n",
        "\n",
        "plt.show()\"\"\"\n",
        "import seaborn as sns\n",
        "sns.set_theme(style=\"whitegrid\")\n",
        "\n",
        "# df = sns.load_dataset(\"titanic\")\n",
        "sns.countplot(x=df[\"target_5yrs\"])"
      ],
      "metadata": {
        "colab": {
          "base_uri": "https://localhost:8080/",
          "height": 303
        },
        "id": "NNxz1fqq6H5c",
        "outputId": "c8c0849d-afb9-445d-9677-53c49a7fb814"
      },
      "execution_count": null,
      "outputs": [
        {
          "output_type": "execute_result",
          "data": {
            "text/plain": [
              "<matplotlib.axes._subplots.AxesSubplot at 0x7ff71d1340d0>"
            ]
          },
          "metadata": {},
          "execution_count": 17
        },
        {
          "output_type": "display_data",
          "data": {
            "text/plain": [
              "<Figure size 432x288 with 1 Axes>"
            ],
            "image/png": "[encoded data removed]"
          },
          "metadata": {}
        }
      ]
    },
    {
      "cell_type": "code",
      "source": [
        "# Check for nulls --- you do NOT want nulls when you train\n",
        "df.isnull().sum()"
      ],
      "metadata": {
        "colab": {
          "base_uri": "https://localhost:8080/"
        },
        "id": "tTfloKQQ6Qx8",
        "outputId": "ec297283-489c-4bac-ef45-d61b7a959863"
      },
      "execution_count": null,
      "outputs": [
        {
          "output_type": "execute_result",
          "data": {
            "text/plain": [
              "name            0\n",
              "gp              0\n",
              "min             0\n",
              "pts             0\n",
              "fgm             0\n",
              "fga             0\n",
              "fg%             0\n",
              "3p_made         0\n",
              "3pa             0\n",
              "3p%            11\n",
              "ftm             0\n",
              "fta             0\n",
              "ft%             0\n",
              "oreb            0\n",
              "dreb            0\n",
              "reb             0\n",
              "ast             0\n",
              "stl             0\n",
              "blk             0\n",
              "tov             0\n",
              "target_5yrs     0\n",
              "dtype: int64"
            ]
          },
          "metadata": {},
          "execution_count": 18
        }
      ]
    },
    {
      "cell_type": "code",
      "source": [
        "df[df[\"3p%\"].isnull()]"
      ],
      "metadata": {
        "colab": {
          "base_uri": "https://localhost:8080/",
          "height": 424
        },
        "id": "A4WgDRAS3efw",
        "outputId": "a5354944-d3f2-4c87-f812-8d08d24c903e"
      },
      "execution_count": null,
      "outputs": [
        {
          "output_type": "execute_result",
          "data": {
            "text/plain": [
              "               name  gp   min   pts  fgm  fga   fg%  3p_made  3pa  3p%  ...  \\\n",
              "338     ken_johnson  64  12.7   4.1  1.8  3.3  52.8      0.0  0.0  NaN  ...   \n",
              "339     ken_johnson  64  12.7   4.1  1.8  3.3  52.8      0.0  0.0  NaN  ...   \n",
              "340   pete_williams  53  10.8   2.8  1.3  2.1  60.4      0.0  0.0  NaN  ...   \n",
              "358   melvin_turpin  79  24.7  10.6  4.6  9.0  51.1      0.0  0.0  NaN  ...   \n",
              "386    jim_petersen  60  11.9   3.2  1.2  2.4  48.6      0.0  0.0  NaN  ...   \n",
              "397   tom_scheffler  39   6.9   1.3  0.5  1.3  41.2      0.0  0.0  NaN  ...   \n",
              "507    sam_williams  59  18.2   6.1  2.6  4.7  55.6      0.0  0.0  NaN  ...   \n",
              "509   kurt_nimphius  63  17.2   5.3  2.2  4.7  46.1      0.0  0.0  NaN  ...   \n",
              "510  pete_verhoeven  71  17.0   4.9  2.1  4.2  50.3      0.0  0.0  NaN  ...   \n",
              "521       jim_smith  72  11.9   2.9  1.2  2.3  50.9      0.0  0.0  NaN  ...   \n",
              "559    jeff_wilkins  56  18.9   4.7  2.1  4.6  45.0      0.0  0.0  NaN  ...   \n",
              "\n",
              "     fta   ft%  oreb  dreb  reb  ast  stl  blk  tov  target_5yrs  \n",
              "338  1.3  43.5   1.4   2.4  3.8  0.3  0.2  0.3  0.9            0  \n",
              "339  1.3  43.5   1.4   2.4  3.8  0.3  0.2  0.3  0.9            0  \n",
              "340  0.8  42.5   0.9   1.9  2.8  0.3  0.4  0.4  0.4            0  \n",
              "358  1.8  78.4   2.0   3.8  5.7  0.5  0.5  1.1  1.5            1  \n",
              "386  1.1  75.8   0.7   1.7  2.5  0.5  0.2  0.5  1.2            1  \n",
              "397  0.5  50.0   0.5   1.5  1.9  0.3  0.2  0.3  0.4            0  \n",
              "507  1.5  55.1   1.5   3.7  5.2  0.6  0.8  1.3  1.1            0  \n",
              "509  1.7  58.3   1.5   3.2  4.7  1.0  0.3  1.3  0.9            1  \n",
              "510  1.0  70.8   1.5   2.1  3.6  0.7  0.6  0.3  0.8            1  \n",
              "521  1.2  45.9   1.0   1.5  2.5  0.6  0.3  0.7  0.7            0  \n",
              "559  0.7  67.5   1.1   3.8  4.9  0.7  0.6  0.8  1.1            1  \n",
              "\n",
              "[11 rows x 21 columns]"
            ],
            "text/html": [
              "\n",
              "  <div id=\"df-86f5545b-96f3-4970-b5b9-e871414241c5\">\n",
              "    <div class=\"colab-df-container\">\n",
              "      <div>\n",
              "<style scoped>\n",
              "    .dataframe tbody tr th:only-of-type {\n",
              "        vertical-align: middle;\n",
              "    }\n",
              "\n",
              "    .dataframe tbody tr th {\n",
              "        vertical-align: top;\n",
              "    }\n",
              "\n",
              "    .dataframe thead th {\n",
              "        text-align: right;\n",
              "    }\n",
              "</style>\n",
              "<table border=\"1\" class=\"dataframe\">\n",
              "  <thead>\n",
              "    <tr style=\"text-align: right;\">\n",
              "      <th></th>\n",
              "      <th>name</th>\n",
              "      <th>gp</th>\n",
              "      <th>min</th>\n",
              "      <th>pts</th>\n",
              "      <th>fgm</th>\n",
              "      <th>fga</th>\n",
              "      <th>fg%</th>\n",
              "      <th>3p_made</th>\n",
              "      <th>3pa</th>\n",
              "      <th>3p%</th>\n",
              "      <th>...</th>\n",
              "      <th>fta</th>\n",
              "      <th>ft%</th>\n",
              "      <th>oreb</th>\n",
              "      <th>dreb</th>\n",
              "      <th>reb</th>\n",
              "      <th>ast</th>\n",
              "      <th>stl</th>\n",
              "      <th>blk</th>\n",
              "      <th>tov</th>\n",
              "      <th>target_5yrs</th>\n",
              "    </tr>\n",
              "  </thead>\n",
              "  <tbody>\n",
              "    <tr>\n",
              "      <th>338</th>\n",
              "      <td>ken_johnson</td>\n",
              "      <td>64</td>\n",
              "      <td>12.7</td>\n",
              "      <td>4.1</td>\n",
              "      <td>1.8</td>\n",
              "      <td>3.3</td>\n",
              "      <td>52.8</td>\n",
              "      <td>0.0</td>\n",
              "      <td>0.0</td>\n",
              "      <td>NaN</td>\n",
              "      <td>...</td>\n",
              "      <td>1.3</td>\n",
              "      <td>43.5</td>\n",
              "      <td>1.4</td>\n",
              "      <td>2.4</td>\n",
              "      <td>3.8</td>\n",
              "      <td>0.3</td>\n",
              "      <td>0.2</td>\n",
              "      <td>0.3</td>\n",
              "      <td>0.9</td>\n",
              "      <td>0</td>\n",
              "    </tr>\n",
              "    <tr>\n",
              "      <th>339</th>\n",
              "      <td>ken_johnson</td>\n",
              "      <td>64</td>\n",
              "      <td>12.7</td>\n",
              "      <td>4.1</td>\n",
              "      <td>1.8</td>\n",
              "      <td>3.3</td>\n",
              "      <td>52.8</td>\n",
              "      <td>0.0</td>\n",
              "      <td>0.0</td>\n",
              "      <td>NaN</td>\n",
              "      <td>...</td>\n",
              "      <td>1.3</td>\n",
              "      <td>43.5</td>\n",
              "      <td>1.4</td>\n",
              "      <td>2.4</td>\n",
              "      <td>3.8</td>\n",
              "      <td>0.3</td>\n",
              "      <td>0.2</td>\n",
              "      <td>0.3</td>\n",
              "      <td>0.9</td>\n",
              "      <td>0</td>\n",
              "    </tr>\n",
              "    <tr>\n",
              "      <th>340</th>\n",
              "      <td>pete_williams</td>\n",
              "      <td>53</td>\n",
              "      <td>10.8</td>\n",
              "      <td>2.8</td>\n",
              "      <td>1.3</td>\n",
              "      <td>2.1</td>\n",
              "      <td>60.4</td>\n",
              "      <td>0.0</td>\n",
              "      <td>0.0</td>\n",
              "      <td>NaN</td>\n",
              "      <td>...</td>\n",
              "      <td>0.8</td>\n",
              "      <td>42.5</td>\n",
              "      <td>0.9</td>\n",
              "      <td>1.9</td>\n",
              "      <td>2.8</td>\n",
              "      <td>0.3</td>\n",
              "      <td>0.4</td>\n",
              "      <td>0.4</td>\n",
              "      <td>0.4</td>\n",
              "      <td>0</td>\n",
              "    </tr>\n",
              "    <tr>\n",
              "      <th>358</th>\n",
              "      <td>melvin_turpin</td>\n",
              "      <td>79</td>\n",
              "      <td>24.7</td>\n",
              "      <td>10.6</td>\n",
              "      <td>4.6</td>\n",
              "      <td>9.0</td>\n",
              "      <td>51.1</td>\n",
              "      <td>0.0</td>\n",
              "      <td>0.0</td>\n",
              "      <td>NaN</td>\n",
              "      <td>...</td>\n",
              "      <td>1.8</td>\n",
              "      <td>78.4</td>\n",
              "      <td>2.0</td>\n",
              "      <td>3.8</td>\n",
              "      <td>5.7</td>\n",
              "      <td>0.5</td>\n",
              "      <td>0.5</td>\n",
              "      <td>1.1</td>\n",
              "      <td>1.5</td>\n",
              "      <td>1</td>\n",
              "    </tr>\n",
              "    <tr>\n",
              "      <th>386</th>\n",
              "      <td>jim_petersen</td>\n",
              "      <td>60</td>\n",
              "      <td>11.9</td>\n",
              "      <td>3.2</td>\n",
              "      <td>1.2</td>\n",
              "      <td>2.4</td>\n",
              "      <td>48.6</td>\n",
              "      <td>0.0</td>\n",
              "      <td>0.0</td>\n",
              "      <td>NaN</td>\n",
              "      <td>...</td>\n",
              "      <td>1.1</td>\n",
              "      <td>75.8</td>\n",
              "      <td>0.7</td>\n",
              "      <td>1.7</td>\n",
              "      <td>2.5</td>\n",
              "      <td>0.5</td>\n",
              "      <td>0.2</td>\n",
              "      <td>0.5</td>\n",
              "      <td>1.2</td>\n",
              "      <td>1</td>\n",
              "    </tr>\n",
              "    <tr>\n",
              "      <th>397</th>\n",
              "      <td>tom_scheffler</td>\n",
              "      <td>39</td>\n",
              "      <td>6.9</td>\n",
              "      <td>1.3</td>\n",
              "      <td>0.5</td>\n",
              "      <td>1.3</td>\n",
              "      <td>41.2</td>\n",
              "      <td>0.0</td>\n",
              "      <td>0.0</td>\n",
              "      <td>NaN</td>\n",
              "      <td>...</td>\n",
              "      <td>0.5</td>\n",
              "      <td>50.0</td>\n",
              "      <td>0.5</td>\n",
              "      <td>1.5</td>\n",
              "      <td>1.9</td>\n",
              "      <td>0.3</td>\n",
              "      <td>0.2</td>\n",
              "      <td>0.3</td>\n",
              "      <td>0.4</td>\n",
              "      <td>0</td>\n",
              "    </tr>\n",
              "    <tr>\n",
              "      <th>507</th>\n",
              "      <td>sam_williams</td>\n",
              "      <td>59</td>\n",
              "      <td>18.2</td>\n",
              "      <td>6.1</td>\n",
              "      <td>2.6</td>\n",
              "      <td>4.7</td>\n",
              "      <td>55.6</td>\n",
              "      <td>0.0</td>\n",
              "      <td>0.0</td>\n",
              "      <td>NaN</td>\n",
              "      <td>...</td>\n",
              "      <td>1.5</td>\n",
              "      <td>55.1</td>\n",
              "      <td>1.5</td>\n",
              "      <td>3.7</td>\n",
              "      <td>5.2</td>\n",
              "      <td>0.6</td>\n",
              "      <td>0.8</td>\n",
              "      <td>1.3</td>\n",
              "      <td>1.1</td>\n",
              "      <td>0</td>\n",
              "    </tr>\n",
              "    <tr>\n",
              "      <th>509</th>\n",
              "      <td>kurt_nimphius</td>\n",
              "      <td>63</td>\n",
              "      <td>17.2</td>\n",
              "      <td>5.3</td>\n",
              "      <td>2.2</td>\n",
              "      <td>4.7</td>\n",
              "      <td>46.1</td>\n",
              "      <td>0.0</td>\n",
              "      <td>0.0</td>\n",
              "      <td>NaN</td>\n",
              "      <td>...</td>\n",
              "      <td>1.7</td>\n",
              "      <td>58.3</td>\n",
              "      <td>1.5</td>\n",
              "      <td>3.2</td>\n",
              "      <td>4.7</td>\n",
              "      <td>1.0</td>\n",
              "      <td>0.3</td>\n",
              "      <td>1.3</td>\n",
              "      <td>0.9</td>\n",
              "      <td>1</td>\n",
              "    </tr>\n",
              "    <tr>\n",
              "      <th>510</th>\n",
              "      <td>pete_verhoeven</td>\n",
              "      <td>71</td>\n",
              "      <td>17.0</td>\n",
              "      <td>4.9</td>\n",
              "      <td>2.1</td>\n",
              "      <td>4.2</td>\n",
              "      <td>50.3</td>\n",
              "      <td>0.0</td>\n",
              "      <td>0.0</td>\n",
              "      <td>NaN</td>\n",
              "      <td>...</td>\n",
              "      <td>1.0</td>\n",
              "      <td>70.8</td>\n",
              "      <td>1.5</td>\n",
              "      <td>2.1</td>\n",
              "      <td>3.6</td>\n",
              "      <td>0.7</td>\n",
              "      <td>0.6</td>\n",
              "      <td>0.3</td>\n",
              "      <td>0.8</td>\n",
              "      <td>1</td>\n",
              "    </tr>\n",
              "    <tr>\n",
              "      <th>521</th>\n",
              "      <td>jim_smith</td>\n",
              "      <td>72</td>\n",
              "      <td>11.9</td>\n",
              "      <td>2.9</td>\n",
              "      <td>1.2</td>\n",
              "      <td>2.3</td>\n",
              "      <td>50.9</td>\n",
              "      <td>0.0</td>\n",
              "      <td>0.0</td>\n",
              "      <td>NaN</td>\n",
              "      <td>...</td>\n",
              "      <td>1.2</td>\n",
              "      <td>45.9</td>\n",
              "      <td>1.0</td>\n",
              "      <td>1.5</td>\n",
              "      <td>2.5</td>\n",
              "      <td>0.6</td>\n",
              "      <td>0.3</td>\n",
              "      <td>0.7</td>\n",
              "      <td>0.7</td>\n",
              "      <td>0</td>\n",
              "    </tr>\n",
              "    <tr>\n",
              "      <th>559</th>\n",
              "      <td>jeff_wilkins</td>\n",
              "      <td>56</td>\n",
              "      <td>18.9</td>\n",
              "      <td>4.7</td>\n",
              "      <td>2.1</td>\n",
              "      <td>4.6</td>\n",
              "      <td>45.0</td>\n",
              "      <td>0.0</td>\n",
              "      <td>0.0</td>\n",
              "      <td>NaN</td>\n",
              "      <td>...</td>\n",
              "      <td>0.7</td>\n",
              "      <td>67.5</td>\n",
              "      <td>1.1</td>\n",
              "      <td>3.8</td>\n",
              "      <td>4.9</td>\n",
              "      <td>0.7</td>\n",
              "      <td>0.6</td>\n",
              "      <td>0.8</td>\n",
              "      <td>1.1</td>\n",
              "      <td>1</td>\n",
              "    </tr>\n",
              "  </tbody>\n",
              "</table>\n",
              "<p>11 rows × 21 columns</p>\n",
              "</div>\n",
              "      <button class=\"colab-df-convert\" onclick=\"convertToInteractive('df-86f5545b-96f3-4970-b5b9-e871414241c5')\"\n",
              "              title=\"Convert this dataframe to an interactive table.\"\n",
              "              style=\"display:none;\">\n",
              "        \n",
              "  <svg xmlns=\"http://www.w3.org/2000/svg\" height=\"24px\"viewBox=\"0 0 24 24\"\n",
              "       width=\"24px\">\n",
              "    <path d=\"M0 0h24v24H0V0z\" fill=\"none\"/>\n",
              "    <path d=\"M18.56 5.44l.94 2.06.94-2.06 2.06-.94-2.06-.94-.94-2.06-.94 2.06-2.06.94zm-11 1L8.5 8.5l.94-2.06 2.06-.94-2.06-.94L8.5 2.5l-.94 2.06-2.06.94zm10 10l.94 2.06.94-2.06 2.06-.94-2.06-.94-.94-2.06-.94 2.06-2.06.94z\"/><path d=\"M17.41 7.96l-1.37-1.37c-.4-.4-.92-.59-1.43-.59-.52 0-1.04.2-1.43.59L10.3 9.45l-7.72 7.72c-.78.78-.78 2.05 0 2.83L4 21.41c.39.39.9.59 1.41.59.51 0 1.02-.2 1.41-.59l7.78-7.78 2.81-2.81c.8-.78.8-2.07 0-2.86zM5.41 20L4 18.59l7.72-7.72 1.47 1.35L5.41 20z\"/>\n",
              "  </svg>\n",
              "      </button>\n",
              "      \n",
              "  <style>\n",
              "    .colab-df-container {\n",
              "      display:flex;\n",
              "      flex-wrap:wrap;\n",
              "      gap: 12px;\n",
              "    }\n",
              "\n",
              "    .colab-df-convert {\n",
              "      background-color: #E8F0FE;\n",
              "      border: none;\n",
              "      border-radius: 50%;\n",
              "      cursor: pointer;\n",
              "      display: none;\n",
              "      fill: #1967D2;\n",
              "      height: 32px;\n",
              "      padding: 0 0 0 0;\n",
              "      width: 32px;\n",
              "    }\n",
              "\n",
              "    .colab-df-convert:hover {\n",
              "      background-color: #E2EBFA;\n",
              "      box-shadow: 0px 1px 2px rgba(60, 64, 67, 0.3), 0px 1px 3px 1px rgba(60, 64, 67, 0.15);\n",
              "      fill: #174EA6;\n",
              "    }\n",
              "\n",
              "    [theme=dark] .colab-df-convert {\n",
              "      background-color: #3B4455;\n",
              "      fill: #D2E3FC;\n",
              "    }\n",
              "\n",
              "    [theme=dark] .colab-df-convert:hover {\n",
              "      background-color: #434B5C;\n",
              "      box-shadow: 0px 1px 3px 1px rgba(0, 0, 0, 0.15);\n",
              "      filter: drop-shadow(0px 1px 2px rgba(0, 0, 0, 0.3));\n",
              "      fill: #FFFFFF;\n",
              "    }\n",
              "  </style>\n",
              "\n",
              "      <script>\n",
              "        const buttonEl =\n",
              "          document.querySelector('#df-86f5545b-96f3-4970-b5b9-e871414241c5 button.colab-df-convert');\n",
              "        buttonEl.style.display =\n",
              "          google.colab.kernel.accessAllowed ? 'block' : 'none';\n",
              "\n",
              "        async function convertToInteractive(key) {\n",
              "          const element = document.querySelector('#df-86f5545b-96f3-4970-b5b9-e871414241c5');\n",
              "          const dataTable =\n",
              "            await google.colab.kernel.invokeFunction('convertToInteractive',\n",
              "                                                     [key], {});\n",
              "          if (!dataTable) return;\n",
              "\n",
              "          const docLinkHtml = 'Like what you see? Visit the ' +\n",
              "            '<a target=\"_blank\" href=https://colab.research.google.com/notebooks/data_table.ipynb>data table notebook</a>'\n",
              "            + ' to learn more about interactive tables.';\n",
              "          element.innerHTML = '';\n",
              "          dataTable['output_type'] = 'display_data';\n",
              "          await google.colab.output.renderOutput(dataTable, element);\n",
              "          const docLink = document.createElement('div');\n",
              "          docLink.innerHTML = docLinkHtml;\n",
              "          element.appendChild(docLink);\n",
              "        }\n",
              "      </script>\n",
              "    </div>\n",
              "  </div>\n",
              "  "
            ]
          },
          "metadata": {},
          "execution_count": 19
        }
      ]
    },
    {
      "cell_type": "code",
      "source": [
        "\"\"\"df.status.value_counts() \"\"\""
      ],
      "metadata": {
        "colab": {
          "base_uri": "https://localhost:8080/",
          "height": 35
        },
        "id": "MGLh6HM76W_-",
        "outputId": "727cba87-7292-4283-ea3f-04cd5b4a55ad"
      },
      "execution_count": null,
      "outputs": [
        {
          "output_type": "execute_result",
          "data": {
            "text/plain": [
              "'df.status.value_counts() '"
            ],
            "application/vnd.google.colaboratory.intrinsic+json": {
              "type": "string"
            }
          },
          "metadata": {},
          "execution_count": 20
        }
      ]
    },
    {
      "cell_type": "code",
      "source": [
        "#\n",
        "#\n",
        "#\n",
        "# drop columns that our model doesnt need\n",
        "#\n",
        "#\n",
        "#\n",
        "drop_columns = ['fg%', '3p%', 'ft%', 'name']\n",
        "\n",
        "df = df.drop(drop_columns, axis=1)\n",
        "\n",
        "df.columns\n",
        "\n",
        "# find points per minute"
      ],
      "metadata": {
        "colab": {
          "base_uri": "https://localhost:8080/"
        },
        "id": "nBi2Tf8J46BP",
        "outputId": "fa81ba2e-2169-407c-cc83-89bf376e6cc9"
      },
      "execution_count": null,
      "outputs": [
        {
          "output_type": "execute_result",
          "data": {
            "text/plain": [
              "Index(['gp', 'min', 'pts', 'fgm', 'fga', '3p_made', '3pa', 'ftm', 'fta',\n",
              "       'oreb', 'dreb', 'reb', 'ast', 'stl', 'blk', 'tov', 'target_5yrs'],\n",
              "      dtype='object')"
            ]
          },
          "metadata": {},
          "execution_count": 21
        }
      ]
    },
    {
      "cell_type": "code",
      "source": [
        "#delete columns --- this may or may NOT be needed.  As before - skip if you don't need it\n",
        "# You will encounter times where you will want to delete columns.  This is how you do that.\n",
        "# df = df.drop(['x5_latitude', 'x6_longitude', 'x1_transaction_date'], axis=1)\n",
        "# df"
      ],
      "metadata": {
        "id": "2AG4eU5M6bWe"
      },
      "execution_count": null,
      "outputs": []
    },
    {
      "cell_type": "code",
      "source": [
        "# Split the data into test, train, validation sets... 80/20\n",
        "from sklearn.model_selection import train_test_split\n",
        "\n",
        "# This gives the 80/20 train test split\n",
        "df_train_full, df_test = train_test_split(df, test_size=0.2, random_state=11)\n",
        "\n",
        "len(df_train_full), len(df_test)\n",
        "# Replace nulls with 0's - these are pandas dataframes\n",
        "df_train_full = df_train_full.fillna(0)\n",
        "\n",
        "df_test = df_test.fillna(0)\n",
        "len(df_train_full),len(df_test)"
      ],
      "metadata": {
        "colab": {
          "base_uri": "https://localhost:8080/"
        },
        "id": "Ix60keEz6iip",
        "outputId": "2b99faa8-c4f1-4e8e-f0d7-166eb44b81c9"
      },
      "execution_count": null,
      "outputs": [
        {
          "output_type": "execute_result",
          "data": {
            "text/plain": [
              "(1072, 268)"
            ]
          },
          "metadata": {},
          "execution_count": 23
        }
      ]
    },
    {
      "cell_type": "code",
      "source": [
        "#Split the y out into train/test/splits... these are numpy ndarrays ... msrp is your target variables\n",
        "# Replace with your target variable!!!  \n",
        "y_train = (df_train_full.target_5yrs).values\n",
        "y_test = (df_test.target_5yrs).values\n",
        "del df_train_full['target_5yrs']\n",
        "del df_test['target_5yrs']"
      ],
      "metadata": {
        "id": "D7tZ51oy6tFc"
      },
      "execution_count": null,
      "outputs": []
    },
    {
      "cell_type": "code",
      "source": [
        "len(y_train), len(y_test)"
      ],
      "metadata": {
        "colab": {
          "base_uri": "https://localhost:8080/"
        },
        "id": "EqQIZzgh6zwv",
        "outputId": "f358ab92-cea0-4d69-e6be-cd3838eb5b42"
      },
      "execution_count": null,
      "outputs": [
        {
          "output_type": "execute_result",
          "data": {
            "text/plain": [
              "(1072, 268)"
            ]
          },
          "metadata": {},
          "execution_count": 25
        }
      ]
    },
    {
      "cell_type": "code",
      "source": [
        "# Convert these data frames into a LIST of DICTIONARIES (each element in the list is a dictionary (the record))\n",
        "dict_train = df_train_full.to_dict(orient='records')\n",
        "dict_test = df_test.to_dict(orient='records')\n",
        "\n",
        "type(dict_train)"
      ],
      "metadata": {
        "id": "KhPWZMRA64U0",
        "colab": {
          "base_uri": "https://localhost:8080/"
        },
        "outputId": "893c9563-ffba-49e9-d833-612b51561732"
      },
      "execution_count": null,
      "outputs": [
        {
          "output_type": "execute_result",
          "data": {
            "text/plain": [
              "list"
            ]
          },
          "metadata": {},
          "execution_count": 26
        }
      ]
    },
    {
      "cell_type": "code",
      "source": [
        "# Convert the LIST OF DICTIONARIES into a Feature Matrix (does all of the encoding)\n",
        "from sklearn.feature_extraction import DictVectorizer\n",
        " \n",
        "dv = DictVectorizer(sparse=False)\n",
        " \n",
        "X_train = dv.fit_transform(dict_train)\n",
        "X_test = dv.transform(dict_test)\n",
        "features = dv.get_feature_names()  #Features as they exist in the Vectorized Dictionary (this is an ndarray)"
      ],
      "metadata": {
        "colab": {
          "base_uri": "https://localhost:8080/"
        },
        "id": "YL8BivB169Ck",
        "outputId": "910db428-d9fb-4421-e630-af0ca4d4ba59"
      },
      "execution_count": null,
      "outputs": [
        {
          "output_type": "stream",
          "name": "stderr",
          "text": [
            "/usr/local/lib/python3.7/dist-packages/sklearn/utils/deprecation.py:87: FutureWarning: Function get_feature_names is deprecated; get_feature_names is deprecated in 1.0 and will be removed in 1.2. Please use get_feature_names_out instead.\n",
            "  warnings.warn(msg, category=FutureWarning)\n"
          ]
        }
      ]
    },
    {
      "cell_type": "code",
      "source": [],
      "metadata": {
        "id": "7ZPmsk8e7B2z"
      },
      "execution_count": null,
      "outputs": []
    },
    {
      "cell_type": "code",
      "source": [
        "X_test.shape"
      ],
      "metadata": {
        "colab": {
          "base_uri": "https://localhost:8080/"
        },
        "id": "FQlsoKyr7HJk",
        "outputId": "16c98415-1c18-431b-a60a-dab23dd92589"
      },
      "execution_count": null,
      "outputs": [
        {
          "output_type": "execute_result",
          "data": {
            "text/plain": [
              "(268, 16)"
            ]
          },
          "metadata": {},
          "execution_count": 28
        }
      ]
    },
    {
      "cell_type": "code",
      "source": [
        "# Compare Algorithms with the Algorithm Harness\n",
        "# https://scikit-learn.org/stable/supervised_learning.html#supervised-learning\n",
        "from sklearn.metrics import roc_auc_score\n",
        "from time import time\n",
        "from sklearn.metrics import explained_variance_score,mean_absolute_error,r2_score\n",
        "from pandas import read_csv\n",
        "from matplotlib import pyplot\n",
        "from sklearn.model_selection import KFold\n",
        "from sklearn.model_selection import cross_val_score\n",
        "from sklearn.linear_model import LogisticRegression\n",
        "from sklearn.tree import DecisionTreeClassifier\n",
        "from sklearn.neighbors import KNeighborsClassifier\n",
        "from sklearn.discriminant_analysis import LinearDiscriminantAnalysis\n",
        "from sklearn.naive_bayes import GaussianNB\n",
        "from sklearn.svm import SVC\n",
        "models = []\n",
        "models.append(('LR', LogisticRegression(solver='liblinear')))\n",
        "models.append(('LDA', LinearDiscriminantAnalysis()))\n",
        "models.append(('KNN', KNeighborsClassifier()))\n",
        "models.append(('CART', DecisionTreeClassifier()))\n",
        "models.append(('NB', GaussianNB()))\n",
        "models.append(('SVM', SVC(gamma='auto')))\n",
        "# evaluate each model in turn\n",
        "results = []\n",
        "names = []\n",
        "scoring = 'roc_auc'\n",
        "# you can also use other metrics to score your models: https://iqcode.com/code/python/sklearn-cross-val-score-scoring-options\n",
        "for name, model in models:\n",
        "    start = time()\n",
        "    kfold = KFold(n_splits=10, random_state=7, shuffle=True)\n",
        "    model.fit(X_train, y_train)\n",
        "    train_time = time() - start\n",
        "    cv_results = cross_val_score(model, X_train, y_train, cv=kfold, scoring=scoring)\n",
        "    predict_time = time()-start \n",
        "    results.append(cv_results)\n",
        "    names.append(name)\n",
        "    msg = \"%s: %f (%f)\" % (name, cv_results.mean(), cv_results.std())\n",
        "    #y_pred = model.predict_proba(X_train)[:, 1]\n",
        "    #auc = roc_auc_score(y_train, y_pred)\n",
        "    print(msg)\n",
        "    print(\"Score for each of the 10 K-fold tests: \",cv_results)\n",
        "    print(model)\n",
        "    print(\"\\tTraining time: %0.3fs\" % train_time)\n",
        "    print(\"\\tPrediction time: %0.3fs\" % predict_time)\n",
        "    #y_pred = model.predict(X_test)\n",
        "    #print(\"\\tExplained variance:\", explained_variance_score(y_test, y_pred))\n",
        "    print()\n",
        "    \n",
        "    \n",
        "    \n",
        "# boxplot algorithm comparison\n",
        "fig = pyplot.figure()\n",
        "fig.suptitle('Algorithm Comparison')\n",
        "ax = fig.add_subplot(111)\n",
        "pyplot.boxplot(results)\n",
        "ax.set_xticklabels(names)\n",
        "pyplot.show()"
      ],
      "metadata": {
        "colab": {
          "base_uri": "https://localhost:8080/",
          "height": 1000
        },
        "id": "bg4VnxQk7Tlm",
        "outputId": "fffa3146-e066-40ca-c4a8-2dcfbadeeb79"
      },
      "execution_count": null,
      "outputs": [
        {
          "output_type": "stream",
          "name": "stdout",
          "text": [
            "LR: 0.748365 (0.041319)\n",
            "Score for each of the 10 K-fold tests:  [0.80050965 0.75436641 0.75384615 0.7534749  0.80543237 0.6921147\n",
            " 0.70277778 0.69416667 0.7290724  0.79788839]\n",
            "LogisticRegression(solver='liblinear')\n",
            "\tTraining time: 0.021s\n",
            "\tPrediction time: 0.235s\n",
            "\n",
            "LDA: 0.749205 (0.034932)\n",
            "Score for each of the 10 K-fold tests:  [0.78776847 0.74953549 0.75311355 0.74073359 0.80691057 0.7\n",
            " 0.71468254 0.70291667 0.74792609 0.78846154]\n",
            "LinearDiscriminantAnalysis()\n",
            "\tTraining time: 0.125s\n",
            "\tPrediction time: 0.295s\n",
            "\n",
            "KNN: 0.649200 (0.045597)\n",
            "Score for each of the 10 K-fold tests:  [0.67619221 0.61594203 0.60641026 0.67586873 0.72394678 0.60501792\n",
            " 0.65992063 0.71791667 0.5953997  0.61538462]\n",
            "KNeighborsClassifier()\n",
            "\tTraining time: 0.009s\n",
            "\tPrediction time: 0.188s\n",
            "\n",
            "CART: 0.565260 (0.037474)\n",
            "Score for each of the 10 K-fold tests:  [0.57571897 0.53251579 0.62454212 0.59305019 0.59608278 0.53566308\n",
            " 0.49126984 0.53916667 0.58484163 0.57975113]\n",
            "DecisionTreeClassifier()\n",
            "\tTraining time: 0.041s\n",
            "\tPrediction time: 0.287s\n",
            "\n",
            "NB: 0.718453 (0.051608)\n",
            "Score for each of the 10 K-fold tests:  [0.80633418 0.70122631 0.73608059 0.69942085 0.81855137 0.65412186\n",
            " 0.67757937 0.69208333 0.68080694 0.71832579]\n",
            "GaussianNB()\n",
            "\tTraining time: 0.015s\n",
            "\tPrediction time: 0.225s\n",
            "\n",
            "SVM: 0.657197 (0.032515)\n",
            "Score for each of the 10 K-fold tests:  [0.69530397 0.66778149 0.62490842 0.67046332 0.72376201 0.63154122\n",
            " 0.65515873 0.64833333 0.60690045 0.64781297]\n",
            "SVC(gamma='auto')\n",
            "\tTraining time: 0.156s\n",
            "\tPrediction time: 2.101s\n",
            "\n"
          ]
        },
        {
          "output_type": "display_data",
          "data": {
            "text/plain": [
              "<Figure size 432x288 with 1 Axes>"
            ],
            "image/png": "[encoded data removed]"
          },
          "metadata": {}
        }
      ]
    },
    {
      "cell_type": "code",
      "source": [],
      "metadata": {
        "id": "pYwH1naU717E"
      },
      "execution_count": null,
      "outputs": []
    },
    {
      "cell_type": "markdown",
      "source": [
        "# Pick a couple of models to go further"
      ],
      "metadata": {
        "id": "f7Di-ad7724D"
      }
    },
    {
      "cell_type": "code",
      "source": [
        "# Let's assume that the decision tree is the one we want to explore\n",
        "from sklearn.tree import DecisionTreeClassifier\n",
        "dt = DecisionTreeClassifier()\n",
        "dt.fit(X_train, y_train)"
      ],
      "metadata": {
        "colab": {
          "base_uri": "https://localhost:8080/"
        },
        "id": "4UCs27ha762N",
        "outputId": "c25432c6-217d-4d17-aa58-72fc7aa28b77"
      },
      "execution_count": null,
      "outputs": [
        {
          "output_type": "execute_result",
          "data": {
            "text/plain": [
              "DecisionTreeClassifier()"
            ]
          },
          "metadata": {},
          "execution_count": 30
        }
      ]
    },
    {
      "cell_type": "code",
      "source": [
        "# This will give you the list of Hyperparameters of your model\n",
        "dt.get_params()"
      ],
      "metadata": {
        "colab": {
          "base_uri": "https://localhost:8080/"
        },
        "id": "3UypglqR8BnG",
        "outputId": "078990a0-4c28-4791-c7c8-7ec929fb635c"
      },
      "execution_count": null,
      "outputs": [
        {
          "output_type": "execute_result",
          "data": {
            "text/plain": [
              "{'ccp_alpha': 0.0,\n",
              " 'class_weight': None,\n",
              " 'criterion': 'gini',\n",
              " 'max_depth': None,\n",
              " 'max_features': None,\n",
              " 'max_leaf_nodes': None,\n",
              " 'min_impurity_decrease': 0.0,\n",
              " 'min_samples_leaf': 1,\n",
              " 'min_samples_split': 2,\n",
              " 'min_weight_fraction_leaf': 0.0,\n",
              " 'random_state': None,\n",
              " 'splitter': 'best'}"
            ]
          },
          "metadata": {},
          "execution_count": 31
        }
      ]
    },
    {
      "cell_type": "code",
      "source": [
        "# You have converted the dataframe into a list of dictionaries - validate the headers\n",
        "type(X_train)\n",
        "type(dv.get_feature_names())\n",
        "type(dt.feature_importances_)\n",
        "dv.get_feature_names()"
      ],
      "metadata": {
        "colab": {
          "base_uri": "https://localhost:8080/"
        },
        "id": "GRbT0gHr8JPF",
        "outputId": "cdffcc4a-9e62-40db-9159-27cfdf7836b1"
      },
      "execution_count": null,
      "outputs": [
        {
          "output_type": "stream",
          "name": "stderr",
          "text": [
            "/usr/local/lib/python3.7/dist-packages/sklearn/utils/deprecation.py:87: FutureWarning: Function get_feature_names is deprecated; get_feature_names is deprecated in 1.0 and will be removed in 1.2. Please use get_feature_names_out instead.\n",
            "  warnings.warn(msg, category=FutureWarning)\n"
          ]
        },
        {
          "output_type": "execute_result",
          "data": {
            "text/plain": [
              "['3p_made',\n",
              " '3pa',\n",
              " 'ast',\n",
              " 'blk',\n",
              " 'dreb',\n",
              " 'fga',\n",
              " 'fgm',\n",
              " 'fta',\n",
              " 'ftm',\n",
              " 'gp',\n",
              " 'min',\n",
              " 'oreb',\n",
              " 'pts',\n",
              " 'reb',\n",
              " 'stl',\n",
              " 'tov']"
            ]
          },
          "metadata": {},
          "execution_count": 32
        }
      ]
    },
    {
      "cell_type": "code",
      "source": [
        "# These are the model properties.  You can call all of these\n",
        "def get_properties(model):   \n",
        "  return [i for i in model.__dict__ if i.endswith('_')] \n",
        "get_properties(dt)"
      ],
      "metadata": {
        "colab": {
          "base_uri": "https://localhost:8080/"
        },
        "id": "vnRrz9-q8Q9_",
        "outputId": "0faaa51e-5c97-4927-c3d8-303764895a97"
      },
      "execution_count": null,
      "outputs": [
        {
          "output_type": "execute_result",
          "data": {
            "text/plain": [
              "['n_features_in_',\n",
              " 'n_outputs_',\n",
              " 'classes_',\n",
              " 'n_classes_',\n",
              " 'max_features_',\n",
              " 'tree_']"
            ]
          },
          "metadata": {},
          "execution_count": 33
        }
      ]
    },
    {
      "cell_type": "code",
      "source": [
        "# Very important.  Once you have a trained model - interegate the coefficients to see WHAT is important\n",
        "feature_names=dv.feature_names_\n",
        "# Evaluate the coefficients to learn what the model thinks is important in the predictions.\n",
        "for i,j in zip(feature_names, dt.feature_importances_): print('%.3f' % j, i)"
      ],
      "metadata": {
        "colab": {
          "base_uri": "https://localhost:8080/"
        },
        "id": "c2udUuxn8Ywc",
        "outputId": "08a997cf-26dd-4aa7-dd31-5d4e42164a55"
      },
      "execution_count": null,
      "outputs": [
        {
          "output_type": "stream",
          "name": "stdout",
          "text": [
            "0.014 3p_made\n",
            "0.038 3pa\n",
            "0.047 ast\n",
            "0.038 blk\n",
            "0.065 dreb\n",
            "0.060 fga\n",
            "0.040 fgm\n",
            "0.057 fta\n",
            "0.074 ftm\n",
            "0.196 gp\n",
            "0.090 min\n",
            "0.052 oreb\n",
            "0.071 pts\n",
            "0.042 reb\n",
            "0.050 stl\n",
            "0.065 tov\n"
          ]
        }
      ]
    },
    {
      "cell_type": "code",
      "source": [
        "from sklearn.metrics import confusion_matrix\n",
        "from sklearn.metrics import precision_score, recall_score, f1_score, accuracy_score\n",
        "import matplotlib.pyplot as plt\n",
        "# predict_proba predicts the probability and predict just predicts the category\n",
        "# y_pred = dt.predict_proba(X_test)[:, 1]\n",
        "y_pred = dt.predict(X_test)\n",
        "\n",
        "conf_matrix = confusion_matrix(y_true=y_test, y_pred=y_pred)\n",
        "#\n",
        "# Print the confusion matrix using Matplotlib\n",
        "#\n",
        "fig, ax = plt.subplots(figsize=(5, 5))\n",
        "ax.matshow(conf_matrix, cmap=plt.cm.Oranges, alpha=0.3)\n",
        "for i in range(conf_matrix.shape[0]):\n",
        "    for j in range(conf_matrix.shape[1]):\n",
        "        ax.text(x=j, y=i,s=conf_matrix[i, j], va='center', ha='center', size='xx-large')\n",
        " \n",
        "plt.xlabel('Predictions', fontsize=18)\n",
        "plt.ylabel('Actuals', fontsize=18)\n",
        "plt.title('Confusion Matrix', fontsize=18)\n",
        "plt.show()"
      ],
      "metadata": {
        "colab": {
          "base_uri": "https://localhost:8080/",
          "height": 358
        },
        "id": "lCJOwFap9q9S",
        "outputId": "2aac883b-134c-4639-b268-95493978cba7"
      },
      "execution_count": null,
      "outputs": [
        {
          "output_type": "display_data",
          "data": {
            "text/plain": [
              "<Figure size 360x360 with 1 Axes>"
            ],
            "image/png": "[encoded data removed]"
          },
          "metadata": {}
        }
      ]
    },
    {
      "cell_type": "code",
      "source": [
        "# Read this as a percentage - What proportion of positive identifications was actually correct?\n",
        "print('Precision: %.3f' % precision_score(y_test, y_pred))"
      ],
      "metadata": {
        "colab": {
          "base_uri": "https://localhost:8080/"
        },
        "id": "5I-12WhL-AFI",
        "outputId": "6ea04249-11ad-4964-88b1-8c3be715bdd8"
      },
      "execution_count": null,
      "outputs": [
        {
          "output_type": "stream",
          "name": "stdout",
          "text": [
            "Precision: 0.629\n"
          ]
        }
      ]
    },
    {
      "cell_type": "code",
      "source": [
        "print('Recall: %.3f' % recall_score(y_test, y_pred))"
      ],
      "metadata": {
        "colab": {
          "base_uri": "https://localhost:8080/"
        },
        "id": "717sAa21-FfG",
        "outputId": "dd044b20-77da-483f-9e6d-c0f575156a74"
      },
      "execution_count": null,
      "outputs": [
        {
          "output_type": "stream",
          "name": "stdout",
          "text": [
            "Recall: 0.752\n"
          ]
        }
      ]
    },
    {
      "cell_type": "code",
      "source": [
        "print('Accuracy: %.3f' % accuracy_score(y_test, y_pred))"
      ],
      "metadata": {
        "colab": {
          "base_uri": "https://localhost:8080/"
        },
        "id": "5XHme1Pf-Jd9",
        "outputId": "0c07b8f1-33ea-4a7e-b61a-79b40518c4f2"
      },
      "execution_count": null,
      "outputs": [
        {
          "output_type": "stream",
          "name": "stdout",
          "text": [
            "Accuracy: 0.616\n"
          ]
        }
      ]
    },
    {
      "cell_type": "code",
      "source": [
        "# This is just for the TRUE --- Not the False\n",
        "print('F1 Score: %.3f' % f1_score(y_test, y_pred))"
      ],
      "metadata": {
        "colab": {
          "base_uri": "https://localhost:8080/"
        },
        "id": "EmanAYgY-cVj",
        "outputId": "dd45925d-ff9c-4da0-f5b5-f30281d6d878"
      },
      "execution_count": null,
      "outputs": [
        {
          "output_type": "stream",
          "name": "stdout",
          "text": [
            "F1 Score: 0.685\n"
          ]
        }
      ]
    },
    {
      "cell_type": "code",
      "source": [
        "from sklearn.metrics import classification_report\n",
        "print(classification_report(y_test, y_pred))"
      ],
      "metadata": {
        "colab": {
          "base_uri": "https://localhost:8080/"
        },
        "id": "6kwNOgAB-lnf",
        "outputId": "f2dca011-5119-46c7-846c-9c6d19422ee8"
      },
      "execution_count": null,
      "outputs": [
        {
          "output_type": "stream",
          "name": "stdout",
          "text": [
            "              precision    recall  f1-score   support\n",
            "\n",
            "           0       0.59      0.45      0.51       119\n",
            "           1       0.63      0.75      0.69       149\n",
            "\n",
            "    accuracy                           0.62       268\n",
            "   macro avg       0.61      0.60      0.60       268\n",
            "weighted avg       0.61      0.62      0.61       268\n",
            "\n"
          ]
        }
      ]
    },
    {
      "cell_type": "code",
      "source": [
        "# Same info can be found in the score report\n",
        "# Be ver careful about the data types. predict_proba returns a float\n",
        "# predict returns a different data type\n",
        "from sklearn.metrics import f1_score\n",
        "y_pred = dt.predict_proba(X_test)[:, 1]\n",
        "y_pred = y_pred.astype('int')\n",
        "f1_score(y_test, y_pred, average=None)"
      ],
      "metadata": {
        "colab": {
          "base_uri": "https://localhost:8080/"
        },
        "id": "xlXEvYeH_fo_",
        "outputId": "6c305246-fe14-4d28-ef76-55a8e28b0147"
      },
      "execution_count": null,
      "outputs": [
        {
          "output_type": "execute_result",
          "data": {
            "text/plain": [
              "array([0.5047619, 0.6809816])"
            ]
          },
          "metadata": {},
          "execution_count": 41
        }
      ]
    },
    {
      "cell_type": "code",
      "source": [
        "\n",
        "# Take a look at the first 10 rows and compare the predictions.\n",
        "pred_y = dt.predict(X_test)\n",
        "print(\"The first 10 prediction {}\".format(pred_y[:10].round(0)))\n",
        "print(\"The real first 10 labels {}\".format(y_test[:10]))"
      ],
      "metadata": {
        "colab": {
          "base_uri": "https://localhost:8080/"
        },
        "id": "CLSb0A2M_jkp",
        "outputId": "4ccf2cb7-e7c3-4f5e-b699-d725434b3f5e"
      },
      "execution_count": null,
      "outputs": [
        {
          "output_type": "stream",
          "name": "stdout",
          "text": [
            "The first 10 prediction [1 1 1 1 1 0 0 0 0 1]\n",
            "The real first 10 labels [1 0 1 0 0 1 1 0 0 0]\n"
          ]
        }
      ]
    },
    {
      "cell_type": "code",
      "source": [
        "# How to make predictions with brand new values\n",
        "type(df_train_full.head(1))"
      ],
      "metadata": {
        "colab": {
          "base_uri": "https://localhost:8080/"
        },
        "id": "TvS1vOoo_rod",
        "outputId": "cb483b79-92fc-4f04-dda7-0ed64f634754"
      },
      "execution_count": null,
      "outputs": [
        {
          "output_type": "execute_result",
          "data": {
            "text/plain": [
              "pandas.core.frame.DataFrame"
            ]
          },
          "metadata": {},
          "execution_count": 43
        }
      ]
    },
    {
      "cell_type": "code",
      "source": [
        "# Use double brackets around the iloc to force it to return a pandas dataframe and not a series\n",
        "# Then you can convert ANY record into a dictionary.\n",
        "# This is important because when you want to make a prediction - it must be in this format\n",
        "df_train_full.iloc[[21]]"
      ],
      "metadata": {
        "colab": {
          "base_uri": "https://localhost:8080/",
          "height": 81
        },
        "id": "a0iAZ3Nv_zw0",
        "outputId": "b7bb554a-157b-41ce-ea75-c80ee303b22f"
      },
      "execution_count": null,
      "outputs": [
        {
          "output_type": "execute_result",
          "data": {
            "text/plain": [
              "     gp   min  pts  fgm  fga  3p_made  3pa  ftm  fta  oreb  dreb  reb  ast  \\\n",
              "661  26  12.2  2.8  1.1  2.8      0.6  1.5  0.1  0.2   0.3   0.8  1.0  1.0   \n",
              "\n",
              "     stl  blk  tov  \n",
              "661  0.4  0.3  0.6  "
            ],
            "text/html": [
              "\n",
              "  <div id=\"df-2baf88f0-813d-491f-abf5-7a6ea4fc3fd4\">\n",
              "    <div class=\"colab-df-container\">\n",
              "      <div>\n",
              "<style scoped>\n",
              "    .dataframe tbody tr th:only-of-type {\n",
              "        vertical-align: middle;\n",
              "    }\n",
              "\n",
              "    .dataframe tbody tr th {\n",
              "        vertical-align: top;\n",
              "    }\n",
              "\n",
              "    .dataframe thead th {\n",
              "        text-align: right;\n",
              "    }\n",
              "</style>\n",
              "<table border=\"1\" class=\"dataframe\">\n",
              "  <thead>\n",
              "    <tr style=\"text-align: right;\">\n",
              "      <th></th>\n",
              "      <th>gp</th>\n",
              "      <th>min</th>\n",
              "      <th>pts</th>\n",
              "      <th>fgm</th>\n",
              "      <th>fga</th>\n",
              "      <th>3p_made</th>\n",
              "      <th>3pa</th>\n",
              "      <th>ftm</th>\n",
              "      <th>fta</th>\n",
              "      <th>oreb</th>\n",
              "      <th>dreb</th>\n",
              "      <th>reb</th>\n",
              "      <th>ast</th>\n",
              "      <th>stl</th>\n",
              "      <th>blk</th>\n",
              "      <th>tov</th>\n",
              "    </tr>\n",
              "  </thead>\n",
              "  <tbody>\n",
              "    <tr>\n",
              "      <th>661</th>\n",
              "      <td>26</td>\n",
              "      <td>12.2</td>\n",
              "      <td>2.8</td>\n",
              "      <td>1.1</td>\n",
              "      <td>2.8</td>\n",
              "      <td>0.6</td>\n",
              "      <td>1.5</td>\n",
              "      <td>0.1</td>\n",
              "      <td>0.2</td>\n",
              "      <td>0.3</td>\n",
              "      <td>0.8</td>\n",
              "      <td>1.0</td>\n",
              "      <td>1.0</td>\n",
              "      <td>0.4</td>\n",
              "      <td>0.3</td>\n",
              "      <td>0.6</td>\n",
              "    </tr>\n",
              "  </tbody>\n",
              "</table>\n",
              "</div>\n",
              "      <button class=\"colab-df-convert\" onclick=\"convertToInteractive('df-2baf88f0-813d-491f-abf5-7a6ea4fc3fd4')\"\n",
              "              title=\"Convert this dataframe to an interactive table.\"\n",
              "              style=\"display:none;\">\n",
              "        \n",
              "  <svg xmlns=\"http://www.w3.org/2000/svg\" height=\"24px\"viewBox=\"0 0 24 24\"\n",
              "       width=\"24px\">\n",
              "    <path d=\"M0 0h24v24H0V0z\" fill=\"none\"/>\n",
              "    <path d=\"M18.56 5.44l.94 2.06.94-2.06 2.06-.94-2.06-.94-.94-2.06-.94 2.06-2.06.94zm-11 1L8.5 8.5l.94-2.06 2.06-.94-2.06-.94L8.5 2.5l-.94 2.06-2.06.94zm10 10l.94 2.06.94-2.06 2.06-.94-2.06-.94-.94-2.06-.94 2.06-2.06.94z\"/><path d=\"M17.41 7.96l-1.37-1.37c-.4-.4-.92-.59-1.43-.59-.52 0-1.04.2-1.43.59L10.3 9.45l-7.72 7.72c-.78.78-.78 2.05 0 2.83L4 21.41c.39.39.9.59 1.41.59.51 0 1.02-.2 1.41-.59l7.78-7.78 2.81-2.81c.8-.78.8-2.07 0-2.86zM5.41 20L4 18.59l7.72-7.72 1.47 1.35L5.41 20z\"/>\n",
              "  </svg>\n",
              "      </button>\n",
              "      \n",
              "  <style>\n",
              "    .colab-df-container {\n",
              "      display:flex;\n",
              "      flex-wrap:wrap;\n",
              "      gap: 12px;\n",
              "    }\n",
              "\n",
              "    .colab-df-convert {\n",
              "      background-color: #E8F0FE;\n",
              "      border: none;\n",
              "      border-radius: 50%;\n",
              "      cursor: pointer;\n",
              "      display: none;\n",
              "      fill: #1967D2;\n",
              "      height: 32px;\n",
              "      padding: 0 0 0 0;\n",
              "      width: 32px;\n",
              "    }\n",
              "\n",
              "    .colab-df-convert:hover {\n",
              "      background-color: #E2EBFA;\n",
              "      box-shadow: 0px 1px 2px rgba(60, 64, 67, 0.3), 0px 1px 3px 1px rgba(60, 64, 67, 0.15);\n",
              "      fill: #174EA6;\n",
              "    }\n",
              "\n",
              "    [theme=dark] .colab-df-convert {\n",
              "      background-color: #3B4455;\n",
              "      fill: #D2E3FC;\n",
              "    }\n",
              "\n",
              "    [theme=dark] .colab-df-convert:hover {\n",
              "      background-color: #434B5C;\n",
              "      box-shadow: 0px 1px 3px 1px rgba(0, 0, 0, 0.15);\n",
              "      filter: drop-shadow(0px 1px 2px rgba(0, 0, 0, 0.3));\n",
              "      fill: #FFFFFF;\n",
              "    }\n",
              "  </style>\n",
              "\n",
              "      <script>\n",
              "        const buttonEl =\n",
              "          document.querySelector('#df-2baf88f0-813d-491f-abf5-7a6ea4fc3fd4 button.colab-df-convert');\n",
              "        buttonEl.style.display =\n",
              "          google.colab.kernel.accessAllowed ? 'block' : 'none';\n",
              "\n",
              "        async function convertToInteractive(key) {\n",
              "          const element = document.querySelector('#df-2baf88f0-813d-491f-abf5-7a6ea4fc3fd4');\n",
              "          const dataTable =\n",
              "            await google.colab.kernel.invokeFunction('convertToInteractive',\n",
              "                                                     [key], {});\n",
              "          if (!dataTable) return;\n",
              "\n",
              "          const docLinkHtml = 'Like what you see? Visit the ' +\n",
              "            '<a target=\"_blank\" href=https://colab.research.google.com/notebooks/data_table.ipynb>data table notebook</a>'\n",
              "            + ' to learn more about interactive tables.';\n",
              "          element.innerHTML = '';\n",
              "          dataTable['output_type'] = 'display_data';\n",
              "          await google.colab.output.renderOutput(dataTable, element);\n",
              "          const docLink = document.createElement('div');\n",
              "          docLink.innerHTML = docLinkHtml;\n",
              "          element.appendChild(docLink);\n",
              "        }\n",
              "      </script>\n",
              "    </div>\n",
              "  </div>\n",
              "  "
            ]
          },
          "metadata": {},
          "execution_count": 44
        }
      ]
    },
    {
      "cell_type": "code",
      "source": [
        "# How to convert any pandas row into a dictionary... needed for predictions\n",
        "df_train_full.iloc[[21]].to_dict('records')[0]"
      ],
      "metadata": {
        "colab": {
          "base_uri": "https://localhost:8080/"
        },
        "id": "q0iStYWt_4nP",
        "outputId": "3ae31299-ed8e-4a63-af26-d2a922b8cdd6"
      },
      "execution_count": null,
      "outputs": [
        {
          "output_type": "execute_result",
          "data": {
            "text/plain": [
              "{'gp': 26,\n",
              " 'min': 12.2,\n",
              " 'pts': 2.8,\n",
              " 'fgm': 1.1,\n",
              " 'fga': 2.8,\n",
              " '3p_made': 0.6,\n",
              " '3pa': 1.5,\n",
              " 'ftm': 0.1,\n",
              " 'fta': 0.2,\n",
              " 'oreb': 0.3,\n",
              " 'dreb': 0.8,\n",
              " 'reb': 1.0,\n",
              " 'ast': 1.0,\n",
              " 'stl': 0.4,\n",
              " 'blk': 0.3,\n",
              " 'tov': 0.6}"
            ]
          },
          "metadata": {},
          "execution_count": 45
        }
      ]
    },
    {
      "cell_type": "code",
      "source": [
        "#item = df_train.head(1).to_dict('records')[0]\n",
        "item = df_train_full.iloc[[21]].to_dict('records')[0]\n",
        "actual = y_train[[21]]"
      ],
      "metadata": {
        "id": "uvhohZ29AIYW"
      },
      "execution_count": null,
      "outputs": []
    },
    {
      "cell_type": "code",
      "source": [
        "# The item to be predicted is passed in.  \n",
        "def model_prediction(item, dv, model):\n",
        "    X = dv.transform([item])\n",
        "    y_pred = model.predict(X)\n",
        "    return y_pred[0]"
      ],
      "metadata": {
        "id": "7OqihuJ2AP_9"
      },
      "execution_count": null,
      "outputs": []
    },
    {
      "cell_type": "code",
      "source": [
        "# The item to be predicted is passed in.  \n",
        "def model_prediction_proba(item, dv, model):\n",
        "    X = dv.transform([item])\n",
        "    y_pred = model.predict_proba(X)[:, 1]\n",
        "    return y_pred[0]"
      ],
      "metadata": {
        "id": "XPIALBkHAaRY"
      },
      "execution_count": null,
      "outputs": []
    },
    {
      "cell_type": "code",
      "source": [
        "model_prediction(item,dv,dt)"
      ],
      "metadata": {
        "colab": {
          "base_uri": "https://localhost:8080/"
        },
        "id": "O6nJkz32AeDm",
        "outputId": "4fa50e99-cb13-4fd8-b139-a4380647d0a8"
      },
      "execution_count": null,
      "outputs": [
        {
          "output_type": "execute_result",
          "data": {
            "text/plain": [
              "0"
            ]
          },
          "metadata": {},
          "execution_count": 49
        }
      ]
    },
    {
      "cell_type": "code",
      "source": [
        "model_prediction_proba(item,dv,dt)"
      ],
      "metadata": {
        "colab": {
          "base_uri": "https://localhost:8080/"
        },
        "id": "17ENQLPOAije",
        "outputId": "42583ea3-91c0-407a-db69-e725994a8512"
      },
      "execution_count": null,
      "outputs": [
        {
          "output_type": "execute_result",
          "data": {
            "text/plain": [
              "0.0"
            ]
          },
          "metadata": {},
          "execution_count": 50
        }
      ]
    },
    {
      "cell_type": "code",
      "source": [
        "actual"
      ],
      "metadata": {
        "colab": {
          "base_uri": "https://localhost:8080/"
        },
        "id": "L1bgfnykAnb-",
        "outputId": "97318ea6-2731-4925-c07e-94d528dfd2f5"
      },
      "execution_count": null,
      "outputs": [
        {
          "output_type": "execute_result",
          "data": {
            "text/plain": [
              "array([0])"
            ]
          },
          "metadata": {},
          "execution_count": 51
        }
      ]
    },
    {
      "cell_type": "code",
      "source": [
        "# How to convert any pandas row into a dictionary... needed for predictions\n",
        "# This will give you a template that you can manipulate to create predictions with new values\n",
        "df_train_full.iloc[[2]].to_dict('records')[0]"
      ],
      "metadata": {
        "colab": {
          "base_uri": "https://localhost:8080/"
        },
        "id": "rXH_dN_rAqiN",
        "outputId": "b005c3c3-eeb4-4ab4-e712-0c0db5f694c9"
      },
      "execution_count": null,
      "outputs": [
        {
          "output_type": "execute_result",
          "data": {
            "text/plain": [
              "{'gp': 77,\n",
              " 'min': 29.4,\n",
              " 'pts': 9.2,\n",
              " 'fgm': 3.5,\n",
              " 'fga': 8.3,\n",
              " '3p_made': 0.8,\n",
              " '3pa': 2.5,\n",
              " 'ftm': 1.4,\n",
              " 'fta': 2.1,\n",
              " 'oreb': 0.4,\n",
              " 'dreb': 2.1,\n",
              " 'reb': 2.6,\n",
              " 'ast': 4.3,\n",
              " 'stl': 1.2,\n",
              " 'blk': 0.1,\n",
              " 'tov': 2.0}"
            ]
          },
          "metadata": {},
          "execution_count": 52
        }
      ]
    },
    {
      "cell_type": "code",
      "source": [
        "myItem = {'seniority': [2],\n",
        " 'home': [5],\n",
        " 'time': [3],\n",
        " 'age': [39],\n",
        " 'marital': [2],\n",
        " 'records': [1],\n",
        " 'job': [1],\n",
        " 'expenses': [35],\n",
        " 'income': [162.0],\n",
        " 'assets': [4.0],\n",
        " 'debt': [10000000.0],\n",
        " 'amount': [40000000],\n",
        " 'price': [57000000]}"
      ],
      "metadata": {
        "id": "F7ZGHpgAA4OJ"
      },
      "execution_count": null,
      "outputs": []
    },
    {
      "cell_type": "code",
      "source": [
        "newDF = pd.DataFrame.from_dict(myItem)"
      ],
      "metadata": {
        "id": "EMCsRzbUBDeP"
      },
      "execution_count": null,
      "outputs": []
    },
    {
      "cell_type": "code",
      "source": [
        "item = newDF.to_dict('records')[0]"
      ],
      "metadata": {
        "id": "vBM7LAG0Bn04"
      },
      "execution_count": null,
      "outputs": []
    },
    {
      "cell_type": "code",
      "source": [
        "model_prediction(item,dv,dt)"
      ],
      "metadata": {
        "colab": {
          "base_uri": "https://localhost:8080/"
        },
        "id": "4H9WB3iaBsGz",
        "outputId": "07a64ec4-0922-42cf-db1d-5a41bc1010db"
      },
      "execution_count": null,
      "outputs": [
        {
          "output_type": "execute_result",
          "data": {
            "text/plain": [
              "0"
            ]
          },
          "metadata": {},
          "execution_count": 56
        }
      ]
    },
    {
      "cell_type": "code",
      "source": [
        "# Hyperparamter tuning"
      ],
      "metadata": {
        "id": "aUyVZiFtBxaP"
      },
      "execution_count": null,
      "outputs": []
    },
    {
      "cell_type": "code",
      "source": [
        "# Look at the model parameters.   You can tune these.\n",
        "dt.get_params()"
      ],
      "metadata": {
        "colab": {
          "base_uri": "https://localhost:8080/"
        },
        "id": "xsiG7nlJBzeb",
        "outputId": "8a0a27fe-10fb-46ea-95dc-30582fffb719"
      },
      "execution_count": null,
      "outputs": [
        {
          "output_type": "execute_result",
          "data": {
            "text/plain": [
              "{'ccp_alpha': 0.0,\n",
              " 'class_weight': None,\n",
              " 'criterion': 'gini',\n",
              " 'max_depth': None,\n",
              " 'max_features': None,\n",
              " 'max_leaf_nodes': None,\n",
              " 'min_impurity_decrease': 0.0,\n",
              " 'min_samples_leaf': 1,\n",
              " 'min_samples_split': 2,\n",
              " 'min_weight_fraction_leaf': 0.0,\n",
              " 'random_state': None,\n",
              " 'splitter': 'best'}"
            ]
          },
          "metadata": {},
          "execution_count": 58
        }
      ]
    },
    {
      "cell_type": "code",
      "source": [
        "# Look at the model parameters.   You can tune these.\n",
        "dt.get_params()\n",
        "from sklearn.tree import DecisionTreeClassifier\n",
        "from sklearn.model_selection import GridSearchCV\n",
        "params = {'min_samples_leaf': [20, 3],'max_depth': [4,6,8],'min_samples_split': [2,4]}\n",
        "grid_search_cv = GridSearchCV(DecisionTreeClassifier(random_state=42), params, verbose=1, cv=3)\n",
        "grid_search_cv.fit(X_train, y_train)"
      ],
      "metadata": {
        "colab": {
          "base_uri": "https://localhost:8080/"
        },
        "id": "WWn9J_lDB9DF",
        "outputId": "b1fda2c6-96d1-416a-f269-7e89a95b745a"
      },
      "execution_count": null,
      "outputs": [
        {
          "output_type": "stream",
          "name": "stdout",
          "text": [
            "Fitting 3 folds for each of 12 candidates, totalling 36 fits\n"
          ]
        },
        {
          "output_type": "execute_result",
          "data": {
            "text/plain": [
              "GridSearchCV(cv=3, estimator=DecisionTreeClassifier(random_state=42),\n",
              "             param_grid={'max_depth': [4, 6, 8], 'min_samples_leaf': [20, 3],\n",
              "                         'min_samples_split': [2, 4]},\n",
              "             verbose=1)"
            ]
          },
          "metadata": {},
          "execution_count": 59
        }
      ]
    },
    {
      "cell_type": "code",
      "source": [
        "grid_search_cv.best_estimator_    # this will output the best values for the hyperparameters"
      ],
      "metadata": {
        "colab": {
          "base_uri": "https://localhost:8080/"
        },
        "id": "6QHmaoweCRiS",
        "outputId": "b8cd4230-1a44-499d-f9f2-ea1ab6de5d31"
      },
      "execution_count": null,
      "outputs": [
        {
          "output_type": "execute_result",
          "data": {
            "text/plain": [
              "DecisionTreeClassifier(max_depth=4, min_samples_leaf=3, random_state=42)"
            ]
          },
          "metadata": {},
          "execution_count": 60
        }
      ]
    },
    {
      "cell_type": "code",
      "source": [
        "# Let's assume that the decision tree is the one we want to explore\n",
        "from sklearn.tree import DecisionTreeClassifier\n",
        "dt = DecisionTreeClassifier(max_depth=4, min_samples_leaf=20, random_state=42)\n",
        "dt.fit(X_train, y_train)"
      ],
      "metadata": {
        "colab": {
          "base_uri": "https://localhost:8080/"
        },
        "id": "kRSuX62dCfp7",
        "outputId": "f6c111ca-3de3-45c8-f650-0c69c0d68ae0"
      },
      "execution_count": null,
      "outputs": [
        {
          "output_type": "execute_result",
          "data": {
            "text/plain": [
              "DecisionTreeClassifier(max_depth=4, min_samples_leaf=20, random_state=42)"
            ]
          },
          "metadata": {},
          "execution_count": 61
        }
      ]
    },
    {
      "cell_type": "code",
      "source": [
        "from sklearn.metrics import f1_score\n",
        "y_pred = dt.predict_proba(X_test)[:, 1]\n",
        "y_pred = y_pred.astype('int')\n",
        "f1_score(y_test, y_pred, average=None)"
      ],
      "metadata": {
        "colab": {
          "base_uri": "https://localhost:8080/"
        },
        "id": "XLAkpdj0CqHU",
        "outputId": "48ecae9a-33df-4d57-d91c-4fde76e6a554"
      },
      "execution_count": null,
      "outputs": [
        {
          "output_type": "execute_result",
          "data": {
            "text/plain": [
              "array([0.61498708, 0.        ])"
            ]
          },
          "metadata": {},
          "execution_count": 62
        }
      ]
    },
    {
      "cell_type": "code",
      "source": [
        "from sklearn.tree import export_graphviz\n",
        "export_graphviz( \n",
        " grid_search_cv.best_estimator_,\n",
        " out_file=('tree.dot'),\n",
        " feature_names=dv.get_feature_names(),\n",
        " class_names=None,\n",
        " filled=True,\n",
        ")"
      ],
      "metadata": {
        "colab": {
          "base_uri": "https://localhost:8080/"
        },
        "id": "EYyKyD_9CtXk",
        "outputId": "632a673b-9f6b-4c06-9778-cc8bcf652810"
      },
      "execution_count": null,
      "outputs": [
        {
          "output_type": "stream",
          "name": "stderr",
          "text": [
            "/usr/local/lib/python3.7/dist-packages/sklearn/utils/deprecation.py:87: FutureWarning: Function get_feature_names is deprecated; get_feature_names is deprecated in 1.0 and will be removed in 1.2. Please use get_feature_names_out instead.\n",
            "  warnings.warn(msg, category=FutureWarning)\n"
          ]
        }
      ]
    },
    {
      "cell_type": "code",
      "source": [
        "!pip install pydot\n",
        "import pydot\n",
        "\n",
        "(graph,) = pydot.graph_from_dot_file('tree.dot')\n",
        "graph.write_png('tree.png')"
      ],
      "metadata": {
        "colab": {
          "base_uri": "https://localhost:8080/"
        },
        "id": "LBzOHXqBCyUH",
        "outputId": "82c3ca41-e426-45fe-d716-91e89e1f6d80"
      },
      "execution_count": null,
      "outputs": [
        {
          "output_type": "stream",
          "name": "stdout",
          "text": [
            "Looking in indexes: https://pypi.org/simple, https://us-python.pkg.dev/colab-wheels/public/simple/\n",
            "Requirement already satisfied: pydot in /usr/local/lib/python3.7/dist-packages (1.3.0)\n",
            "Requirement already satisfied: pyparsing>=2.1.4 in /usr/local/lib/python3.7/dist-packages (from pydot) (3.0.9)\n"
          ]
        }
      ]
    },
    {
      "cell_type": "code",
      "source": [],
      "metadata": {
        "id": "7B9_kqd18VGQ"
      },
      "execution_count": null,
      "outputs": []
    },
    {
      "cell_type": "code",
      "source": [],
      "metadata": {
        "id": "QlMY4EuC8atB"
      },
      "execution_count": null,
      "outputs": []
    },
    {
      "cell_type": "markdown",
      "source": [
        "Sentiment Analysis"
      ],
      "metadata": {
        "id": "W7mPbKeTC1bg"
      }
    },
    {
      "cell_type": "code",
      "source": [
        "!pip install tweepy\n",
        "!pip install tweepy --upgrade\n",
        "!pip install better_profanity"
      ],
      "metadata": {
        "colab": {
          "base_uri": "https://localhost:8080/"
        },
        "id": "4XjafV9bC2uQ",
        "outputId": "a6d510ed-93f7-4c7a-cde7-aec5c899a093"
      },
      "execution_count": null,
      "outputs": [
        {
          "output_type": "stream",
          "name": "stdout",
          "text": [
            "Looking in indexes: https://pypi.org/simple, https://us-python.pkg.dev/colab-wheels/public/simple/\n",
            "Requirement already satisfied: tweepy in /usr/local/lib/python3.7/dist-packages (3.10.0)\n",
            "Requirement already satisfied: requests-oauthlib>=0.7.0 in /usr/local/lib/python3.7/dist-packages (from tweepy) (1.3.1)\n",
            "Requirement already satisfied: six>=1.10.0 in /usr/local/lib/python3.7/dist-packages (from tweepy) (1.15.0)\n",
            "Requirement already satisfied: requests[socks]>=2.11.1 in /usr/local/lib/python3.7/dist-packages (from tweepy) (2.23.0)\n",
            "Requirement already satisfied: oauthlib>=3.0.0 in /usr/local/lib/python3.7/dist-packages (from requests-oauthlib>=0.7.0->tweepy) (3.2.2)\n",
            "Requirement already satisfied: idna<3,>=2.5 in /usr/local/lib/python3.7/dist-packages (from requests[socks]>=2.11.1->tweepy) (2.10)\n",
            "Requirement already satisfied: chardet<4,>=3.0.2 in /usr/local/lib/python3.7/dist-packages (from requests[socks]>=2.11.1->tweepy) (3.0.4)\n",
            "Requirement already satisfied: certifi>=2017.4.17 in /usr/local/lib/python3.7/dist-packages (from requests[socks]>=2.11.1->tweepy) (2022.9.24)\n",
            "Requirement already satisfied: urllib3!=1.25.0,!=1.25.1,<1.26,>=1.21.1 in /usr/local/lib/python3.7/dist-packages (from requests[socks]>=2.11.1->tweepy) (1.24.3)\n",
            "Requirement already satisfied: PySocks!=1.5.7,>=1.5.6 in /usr/local/lib/python3.7/dist-packages (from requests[socks]>=2.11.1->tweepy) (1.7.1)\n",
            "Looking in indexes: https://pypi.org/simple, https://us-python.pkg.dev/colab-wheels/public/simple/\n",
            "Requirement already satisfied: tweepy in /usr/local/lib/python3.7/dist-packages (3.10.0)\n",
            "Collecting tweepy\n",
            "  Downloading tweepy-4.12.1-py3-none-any.whl (101 kB)\n",
            "\u001b[K     |████████████████████████████████| 101 kB 3.3 MB/s \n",
            "\u001b[?25hRequirement already satisfied: requests-oauthlib<2,>=1.2.0 in /usr/local/lib/python3.7/dist-packages (from tweepy) (1.3.1)\n",
            "Collecting requests<3,>=2.27.0\n",
            "  Downloading requests-2.28.1-py3-none-any.whl (62 kB)\n",
            "\u001b[K     |████████████████████████████████| 62 kB 1.1 MB/s \n",
            "\u001b[?25hRequirement already satisfied: oauthlib<4,>=3.2.0 in /usr/local/lib/python3.7/dist-packages (from tweepy) (3.2.2)\n",
            "Requirement already satisfied: charset-normalizer<3,>=2 in /usr/local/lib/python3.7/dist-packages (from requests<3,>=2.27.0->tweepy) (2.1.1)\n",
            "Requirement already satisfied: certifi>=2017.4.17 in /usr/local/lib/python3.7/dist-packages (from requests<3,>=2.27.0->tweepy) (2022.9.24)\n",
            "Requirement already satisfied: urllib3<1.27,>=1.21.1 in /usr/local/lib/python3.7/dist-packages (from requests<3,>=2.27.0->tweepy) (1.24.3)\n",
            "Requirement already satisfied: idna<4,>=2.5 in /usr/local/lib/python3.7/dist-packages (from requests<3,>=2.27.0->tweepy) (2.10)\n",
            "Installing collected packages: requests, tweepy\n",
            "  Attempting uninstall: requests\n",
            "    Found existing installation: requests 2.23.0\n",
            "    Uninstalling requests-2.23.0:\n",
            "      Successfully uninstalled requests-2.23.0\n",
            "  Attempting uninstall: tweepy\n",
            "    Found existing installation: tweepy 3.10.0\n",
            "    Uninstalling tweepy-3.10.0:\n",
            "      Successfully uninstalled tweepy-3.10.0\n",
            "Successfully installed requests-2.28.1 tweepy-4.12.1\n",
            "Looking in indexes: https://pypi.org/simple, https://us-python.pkg.dev/colab-wheels/public/simple/\n",
            "Collecting better_profanity\n",
            "  Downloading better_profanity-0.7.0-py3-none-any.whl (46 kB)\n",
            "\u001b[K     |████████████████████████████████| 46 kB 2.3 MB/s \n",
            "\u001b[?25hInstalling collected packages: better-profanity\n",
            "Successfully installed better-profanity-0.7.0\n"
          ]
        }
      ]
    },
    {
      "cell_type": "code",
      "source": [
        "# Install and import librairies and depencies \n",
        "!pip install tweepy\n",
        "!pip install tweepy --upgrade\n",
        "!pip install better_profanity\n",
        "import tweepy\n",
        "client = tweepy.Client(bearer_token='AAAAAAAAAAAAAAAAAAAAADRyiwEAAAAAVyAignb%2BpcKAU5rCs%2BAI5Q45Vyk%3DIC8kWmSHu9dkNW8j2PGBs2DpSkMiKmBFkoE7S6WcaprBHhIfil')"
      ],
      "metadata": {
        "id": "7drm3diFC3fY",
        "colab": {
          "base_uri": "https://localhost:8080/"
        },
        "outputId": "5c25ade0-595c-46fe-b88d-6d66bad1491d"
      },
      "execution_count": null,
      "outputs": [
        {
          "output_type": "stream",
          "name": "stdout",
          "text": [
            "Looking in indexes: https://pypi.org/simple, https://us-python.pkg.dev/colab-wheels/public/simple/\n",
            "Requirement already satisfied: tweepy in /usr/local/lib/python3.7/dist-packages (4.12.1)\n",
            "Requirement already satisfied: requests<3,>=2.27.0 in /usr/local/lib/python3.7/dist-packages (from tweepy) (2.28.1)\n",
            "Requirement already satisfied: requests-oauthlib<2,>=1.2.0 in /usr/local/lib/python3.7/dist-packages (from tweepy) (1.3.1)\n",
            "Requirement already satisfied: oauthlib<4,>=3.2.0 in /usr/local/lib/python3.7/dist-packages (from tweepy) (3.2.2)\n",
            "Requirement already satisfied: certifi>=2017.4.17 in /usr/local/lib/python3.7/dist-packages (from requests<3,>=2.27.0->tweepy) (2022.9.24)\n",
            "Requirement already satisfied: idna<4,>=2.5 in /usr/local/lib/python3.7/dist-packages (from requests<3,>=2.27.0->tweepy) (2.10)\n",
            "Requirement already satisfied: urllib3<1.27,>=1.21.1 in /usr/local/lib/python3.7/dist-packages (from requests<3,>=2.27.0->tweepy) (1.24.3)\n",
            "Requirement already satisfied: charset-normalizer<3,>=2 in /usr/local/lib/python3.7/dist-packages (from requests<3,>=2.27.0->tweepy) (2.1.1)\n",
            "Looking in indexes: https://pypi.org/simple, https://us-python.pkg.dev/colab-wheels/public/simple/\n",
            "Requirement already satisfied: tweepy in /usr/local/lib/python3.7/dist-packages (4.12.1)\n",
            "Requirement already satisfied: requests-oauthlib<2,>=1.2.0 in /usr/local/lib/python3.7/dist-packages (from tweepy) (1.3.1)\n",
            "Requirement already satisfied: requests<3,>=2.27.0 in /usr/local/lib/python3.7/dist-packages (from tweepy) (2.28.1)\n",
            "Requirement already satisfied: oauthlib<4,>=3.2.0 in /usr/local/lib/python3.7/dist-packages (from tweepy) (3.2.2)\n",
            "Requirement already satisfied: idna<4,>=2.5 in /usr/local/lib/python3.7/dist-packages (from requests<3,>=2.27.0->tweepy) (2.10)\n",
            "Requirement already satisfied: certifi>=2017.4.17 in /usr/local/lib/python3.7/dist-packages (from requests<3,>=2.27.0->tweepy) (2022.9.24)\n",
            "Requirement already satisfied: urllib3<1.27,>=1.21.1 in /usr/local/lib/python3.7/dist-packages (from requests<3,>=2.27.0->tweepy) (1.24.3)\n",
            "Requirement already satisfied: charset-normalizer<3,>=2 in /usr/local/lib/python3.7/dist-packages (from requests<3,>=2.27.0->tweepy) (2.1.1)\n",
            "Looking in indexes: https://pypi.org/simple, https://us-python.pkg.dev/colab-wheels/public/simple/\n",
            "Requirement already satisfied: better_profanity in /usr/local/lib/python3.7/dist-packages (0.7.0)\n"
          ]
        }
      ]
    },
    {
      "cell_type": "code",
      "source": [
        "import re \n",
        "\n",
        "import numpy as np\n",
        "\n",
        "import tweepy \n",
        "\n",
        "from tweepy import OAuthHandler \n",
        "\n",
        "from textblob import TextBlob \n",
        "\n",
        "import matplotlib.pyplot as plt\n",
        "\n",
        "import pandas as pd\n",
        "\n",
        "from wordcloud import WordCloud\n",
        "\n",
        "from better_profanity import profanity"
      ],
      "metadata": {
        "id": "_pOygioADAVf"
      },
      "execution_count": null,
      "outputs": []
    },
    {
      "cell_type": "code",
      "source": [
        "#client = tweepy.Client(bearer_token=bearer_token)"
      ],
      "metadata": {
        "id": "p0uopEY0Ds4d"
      },
      "execution_count": null,
      "outputs": []
    },
    {
      "cell_type": "code",
      "source": [
        "search_term = \"nba rookie\"\n",
        "query = search_term + ' -is:retweet'\n",
        "\n",
        "# get tweets from the API\n",
        "tweets = client.search_recent_tweets(query=query,\n",
        "                                     tweet_fields = [\"created_at\", \"text\", \"source\"],\n",
        "                                     user_fields = [\"name\", \"username\", \"location\", \"verified\", \"description\"],\n",
        "                                     max_results = 100,\n",
        "                                     expansions='author_id'\n",
        "                                     )"
      ],
      "metadata": {
        "id": "rmJd_6nuDEQn"
      },
      "execution_count": null,
      "outputs": []
    },
    {
      "cell_type": "code",
      "source": [
        "# import the pandas library\n",
        "import pandas as pd\n",
        "# create a list of records\n",
        "tweet_info_ls = []\n",
        "# iterate over each tweet and corresponding user details\n",
        "for tweet, user in zip(tweets.data, tweets.includes['users']):\n",
        "    tweet_info = {\n",
        "        'created_at': tweet.created_at,\n",
        "        'text': tweet.text,\n",
        "        'source': tweet.source,\n",
        "        'name': user.name,\n",
        "        'username': user.username,\n",
        "        'location': user.location,\n",
        "        'verified': user.verified,\n",
        "        'description': user.description\n",
        "    }\n",
        "    tweet_info_ls.append(tweet_info)\n",
        "# create dataframe from the extracted records\n",
        "tweets_df = pd.DataFrame(tweet_info_ls)\n",
        "# display the dataframe\n",
        "tweets_df.head()"
      ],
      "metadata": {
        "id": "h2PLLCxnDF4n",
        "colab": {
          "base_uri": "https://localhost:8080/",
          "height": 337
        },
        "outputId": "013ae047-5b50-4d6c-f470-5b6c07c374ee"
      },
      "execution_count": null,
      "outputs": [
        {
          "output_type": "execute_result",
          "data": {
            "text/plain": [
              "                 created_at  \\\n",
              "0 2022-11-27 05:27:03+00:00   \n",
              "1 2022-11-27 05:26:32+00:00   \n",
              "2 2022-11-27 05:25:48+00:00   \n",
              "3 2022-11-27 05:24:44+00:00   \n",
              "4 2022-11-27 05:21:23+00:00   \n",
              "\n",
              "                                                text              source  \\\n",
              "0  2020 21 Chronicles NBA DESMOND  #ad #basketbal...           cards-app   \n",
              "1  2 2022 PAOLO BANCHERO GOLD LIGHTNING  #whodoyo...             Twitter   \n",
              "2  @nick_till32 And that was in the first half of...  Twitter for iPhone   \n",
              "3  2012 Nikola Vucevic Rookie card auto  #thehobb...             Twitter   \n",
              "4  2021 22 Panini Prizm NBA 75th A #ad #basketbal...           cards-app   \n",
              "\n",
              "                name         username      location  verified  \\\n",
              "0  Hoops Cards Daily  hoopscardsdaily          None     False   \n",
              "1  Cardboard Feed ⚡️    CardboardFeed          None     False   \n",
              "2                🇵🇷🌺          bcua510  Bay Area, CA     False   \n",
              "3     League Cards 🏀     League_Cards  Florida, USA     False   \n",
              "4         jay.metz82          JMetz82          None     False   \n",
              "\n",
              "                                         description  \n",
              "0  Tweeting Our Partner's Basketball Card Auction...  \n",
              "1  Follow Our Daily Trading Card Feed | Commissio...  \n",
              "2  Boricua 🇵🇷 | Mother to 2 boys | Wifey 💍 | Spor...  \n",
              "3  Basketball Card Feed | Scroll the Collection |...  \n",
              "4                                         TS: JRiggz  "
            ],
            "text/html": [
              "\n",
              "  <div id=\"df-0a145632-cfa7-4990-94dc-4c385bfb79ef\">\n",
              "    <div class=\"colab-df-container\">\n",
              "      <div>\n",
              "<style scoped>\n",
              "    .dataframe tbody tr th:only-of-type {\n",
              "        vertical-align: middle;\n",
              "    }\n",
              "\n",
              "    .dataframe tbody tr th {\n",
              "        vertical-align: top;\n",
              "    }\n",
              "\n",
              "    .dataframe thead th {\n",
              "        text-align: right;\n",
              "    }\n",
              "</style>\n",
              "<table border=\"1\" class=\"dataframe\">\n",
              "  <thead>\n",
              "    <tr style=\"text-align: right;\">\n",
              "      <th></th>\n",
              "      <th>created_at</th>\n",
              "      <th>text</th>\n",
              "      <th>source</th>\n",
              "      <th>name</th>\n",
              "      <th>username</th>\n",
              "      <th>location</th>\n",
              "      <th>verified</th>\n",
              "      <th>description</th>\n",
              "    </tr>\n",
              "  </thead>\n",
              "  <tbody>\n",
              "    <tr>\n",
              "      <th>0</th>\n",
              "      <td>2022-11-27 05:27:03+00:00</td>\n",
              "      <td>2020 21 Chronicles NBA DESMOND  #ad #basketbal...</td>\n",
              "      <td>cards-app</td>\n",
              "      <td>Hoops Cards Daily</td>\n",
              "      <td>hoopscardsdaily</td>\n",
              "      <td>None</td>\n",
              "      <td>False</td>\n",
              "      <td>Tweeting Our Partner's Basketball Card Auction...</td>\n",
              "    </tr>\n",
              "    <tr>\n",
              "      <th>1</th>\n",
              "      <td>2022-11-27 05:26:32+00:00</td>\n",
              "      <td>2 2022 PAOLO BANCHERO GOLD LIGHTNING  #whodoyo...</td>\n",
              "      <td>Twitter</td>\n",
              "      <td>Cardboard Feed ⚡️</td>\n",
              "      <td>CardboardFeed</td>\n",
              "      <td>None</td>\n",
              "      <td>False</td>\n",
              "      <td>Follow Our Daily Trading Card Feed | Commissio...</td>\n",
              "    </tr>\n",
              "    <tr>\n",
              "      <th>2</th>\n",
              "      <td>2022-11-27 05:25:48+00:00</td>\n",
              "      <td>@nick_till32 And that was in the first half of...</td>\n",
              "      <td>Twitter for iPhone</td>\n",
              "      <td>🇵🇷🌺</td>\n",
              "      <td>bcua510</td>\n",
              "      <td>Bay Area, CA</td>\n",
              "      <td>False</td>\n",
              "      <td>Boricua 🇵🇷 | Mother to 2 boys | Wifey 💍 | Spor...</td>\n",
              "    </tr>\n",
              "    <tr>\n",
              "      <th>3</th>\n",
              "      <td>2022-11-27 05:24:44+00:00</td>\n",
              "      <td>2012 Nikola Vucevic Rookie card auto  #thehobb...</td>\n",
              "      <td>Twitter</td>\n",
              "      <td>League Cards 🏀</td>\n",
              "      <td>League_Cards</td>\n",
              "      <td>Florida, USA</td>\n",
              "      <td>False</td>\n",
              "      <td>Basketball Card Feed | Scroll the Collection |...</td>\n",
              "    </tr>\n",
              "    <tr>\n",
              "      <th>4</th>\n",
              "      <td>2022-11-27 05:21:23+00:00</td>\n",
              "      <td>2021 22 Panini Prizm NBA 75th A #ad #basketbal...</td>\n",
              "      <td>cards-app</td>\n",
              "      <td>jay.metz82</td>\n",
              "      <td>JMetz82</td>\n",
              "      <td>None</td>\n",
              "      <td>False</td>\n",
              "      <td>TS: JRiggz</td>\n",
              "    </tr>\n",
              "  </tbody>\n",
              "</table>\n",
              "</div>\n",
              "      <button class=\"colab-df-convert\" onclick=\"convertToInteractive('df-0a145632-cfa7-4990-94dc-4c385bfb79ef')\"\n",
              "              title=\"Convert this dataframe to an interactive table.\"\n",
              "              style=\"display:none;\">\n",
              "        \n",
              "  <svg xmlns=\"http://www.w3.org/2000/svg\" height=\"24px\"viewBox=\"0 0 24 24\"\n",
              "       width=\"24px\">\n",
              "    <path d=\"M0 0h24v24H0V0z\" fill=\"none\"/>\n",
              "    <path d=\"M18.56 5.44l.94 2.06.94-2.06 2.06-.94-2.06-.94-.94-2.06-.94 2.06-2.06.94zm-11 1L8.5 8.5l.94-2.06 2.06-.94-2.06-.94L8.5 2.5l-.94 2.06-2.06.94zm10 10l.94 2.06.94-2.06 2.06-.94-2.06-.94-.94-2.06-.94 2.06-2.06.94z\"/><path d=\"M17.41 7.96l-1.37-1.37c-.4-.4-.92-.59-1.43-.59-.52 0-1.04.2-1.43.59L10.3 9.45l-7.72 7.72c-.78.78-.78 2.05 0 2.83L4 21.41c.39.39.9.59 1.41.59.51 0 1.02-.2 1.41-.59l7.78-7.78 2.81-2.81c.8-.78.8-2.07 0-2.86zM5.41 20L4 18.59l7.72-7.72 1.47 1.35L5.41 20z\"/>\n",
              "  </svg>\n",
              "      </button>\n",
              "      \n",
              "  <style>\n",
              "    .colab-df-container {\n",
              "      display:flex;\n",
              "      flex-wrap:wrap;\n",
              "      gap: 12px;\n",
              "    }\n",
              "\n",
              "    .colab-df-convert {\n",
              "      background-color: #E8F0FE;\n",
              "      border: none;\n",
              "      border-radius: 50%;\n",
              "      cursor: pointer;\n",
              "      display: none;\n",
              "      fill: #1967D2;\n",
              "      height: 32px;\n",
              "      padding: 0 0 0 0;\n",
              "      width: 32px;\n",
              "    }\n",
              "\n",
              "    .colab-df-convert:hover {\n",
              "      background-color: #E2EBFA;\n",
              "      box-shadow: 0px 1px 2px rgba(60, 64, 67, 0.3), 0px 1px 3px 1px rgba(60, 64, 67, 0.15);\n",
              "      fill: #174EA6;\n",
              "    }\n",
              "\n",
              "    [theme=dark] .colab-df-convert {\n",
              "      background-color: #3B4455;\n",
              "      fill: #D2E3FC;\n",
              "    }\n",
              "\n",
              "    [theme=dark] .colab-df-convert:hover {\n",
              "      background-color: #434B5C;\n",
              "      box-shadow: 0px 1px 3px 1px rgba(0, 0, 0, 0.15);\n",
              "      filter: drop-shadow(0px 1px 2px rgba(0, 0, 0, 0.3));\n",
              "      fill: #FFFFFF;\n",
              "    }\n",
              "  </style>\n",
              "\n",
              "      <script>\n",
              "        const buttonEl =\n",
              "          document.querySelector('#df-0a145632-cfa7-4990-94dc-4c385bfb79ef button.colab-df-convert');\n",
              "        buttonEl.style.display =\n",
              "          google.colab.kernel.accessAllowed ? 'block' : 'none';\n",
              "\n",
              "        async function convertToInteractive(key) {\n",
              "          const element = document.querySelector('#df-0a145632-cfa7-4990-94dc-4c385bfb79ef');\n",
              "          const dataTable =\n",
              "            await google.colab.kernel.invokeFunction('convertToInteractive',\n",
              "                                                     [key], {});\n",
              "          if (!dataTable) return;\n",
              "\n",
              "          const docLinkHtml = 'Like what you see? Visit the ' +\n",
              "            '<a target=\"_blank\" href=https://colab.research.google.com/notebooks/data_table.ipynb>data table notebook</a>'\n",
              "            + ' to learn more about interactive tables.';\n",
              "          element.innerHTML = '';\n",
              "          dataTable['output_type'] = 'display_data';\n",
              "          await google.colab.output.renderOutput(dataTable, element);\n",
              "          const docLink = document.createElement('div');\n",
              "          docLink.innerHTML = docLinkHtml;\n",
              "          element.appendChild(docLink);\n",
              "        }\n",
              "      </script>\n",
              "    </div>\n",
              "  </div>\n",
              "  "
            ]
          },
          "metadata": {},
          "execution_count": 76
        }
      ]
    },
    {
      "cell_type": "code",
      "source": [
        "# import the pandas library\n",
        "import pandas as pd\n",
        "# create a list of records\n",
        "tweet_info_ls = []\n",
        "# iterate over each tweet and corresponding user details\n",
        "for tweet, user in zip(tweets.data, tweets.includes['users']):\n",
        "    tweet_info = {\n",
        "        'text': tweet.text,\n",
        "        'username': user.username,\n",
        "        'location': user.location,\n",
        "    }\n",
        "    tweet_info_ls.append(tweet_info)\n",
        "# create dataframe from the extracted records\n",
        "tweets_df = pd.DataFrame(tweet_info_ls)\n",
        "# display the dataframe\n",
        "tweets_df.head()"
      ],
      "metadata": {
        "id": "G73cjXZxDS61",
        "colab": {
          "base_uri": "https://localhost:8080/",
          "height": 206
        },
        "outputId": "109783d8-4657-44fd-b9c6-7ec64614189d"
      },
      "execution_count": null,
      "outputs": [
        {
          "output_type": "execute_result",
          "data": {
            "text/plain": [
              "                                                text         username  \\\n",
              "0  2020 21 Chronicles NBA DESMOND  #ad #basketbal...  hoopscardsdaily   \n",
              "1  2 2022 PAOLO BANCHERO GOLD LIGHTNING  #whodoyo...    CardboardFeed   \n",
              "2  @nick_till32 And that was in the first half of...          bcua510   \n",
              "3  2012 Nikola Vucevic Rookie card auto  #thehobb...     League_Cards   \n",
              "4  2021 22 Panini Prizm NBA 75th A #ad #basketbal...          JMetz82   \n",
              "\n",
              "       location  \n",
              "0          None  \n",
              "1          None  \n",
              "2  Bay Area, CA  \n",
              "3  Florida, USA  \n",
              "4          None  "
            ],
            "text/html": [
              "\n",
              "  <div id=\"df-1e33a577-47d0-4f6c-9ed2-1c065f0fc5b1\">\n",
              "    <div class=\"colab-df-container\">\n",
              "      <div>\n",
              "<style scoped>\n",
              "    .dataframe tbody tr th:only-of-type {\n",
              "        vertical-align: middle;\n",
              "    }\n",
              "\n",
              "    .dataframe tbody tr th {\n",
              "        vertical-align: top;\n",
              "    }\n",
              "\n",
              "    .dataframe thead th {\n",
              "        text-align: right;\n",
              "    }\n",
              "</style>\n",
              "<table border=\"1\" class=\"dataframe\">\n",
              "  <thead>\n",
              "    <tr style=\"text-align: right;\">\n",
              "      <th></th>\n",
              "      <th>text</th>\n",
              "      <th>username</th>\n",
              "      <th>location</th>\n",
              "    </tr>\n",
              "  </thead>\n",
              "  <tbody>\n",
              "    <tr>\n",
              "      <th>0</th>\n",
              "      <td>2020 21 Chronicles NBA DESMOND  #ad #basketbal...</td>\n",
              "      <td>hoopscardsdaily</td>\n",
              "      <td>None</td>\n",
              "    </tr>\n",
              "    <tr>\n",
              "      <th>1</th>\n",
              "      <td>2 2022 PAOLO BANCHERO GOLD LIGHTNING  #whodoyo...</td>\n",
              "      <td>CardboardFeed</td>\n",
              "      <td>None</td>\n",
              "    </tr>\n",
              "    <tr>\n",
              "      <th>2</th>\n",
              "      <td>@nick_till32 And that was in the first half of...</td>\n",
              "      <td>bcua510</td>\n",
              "      <td>Bay Area, CA</td>\n",
              "    </tr>\n",
              "    <tr>\n",
              "      <th>3</th>\n",
              "      <td>2012 Nikola Vucevic Rookie card auto  #thehobb...</td>\n",
              "      <td>League_Cards</td>\n",
              "      <td>Florida, USA</td>\n",
              "    </tr>\n",
              "    <tr>\n",
              "      <th>4</th>\n",
              "      <td>2021 22 Panini Prizm NBA 75th A #ad #basketbal...</td>\n",
              "      <td>JMetz82</td>\n",
              "      <td>None</td>\n",
              "    </tr>\n",
              "  </tbody>\n",
              "</table>\n",
              "</div>\n",
              "      <button class=\"colab-df-convert\" onclick=\"convertToInteractive('df-1e33a577-47d0-4f6c-9ed2-1c065f0fc5b1')\"\n",
              "              title=\"Convert this dataframe to an interactive table.\"\n",
              "              style=\"display:none;\">\n",
              "        \n",
              "  <svg xmlns=\"http://www.w3.org/2000/svg\" height=\"24px\"viewBox=\"0 0 24 24\"\n",
              "       width=\"24px\">\n",
              "    <path d=\"M0 0h24v24H0V0z\" fill=\"none\"/>\n",
              "    <path d=\"M18.56 5.44l.94 2.06.94-2.06 2.06-.94-2.06-.94-.94-2.06-.94 2.06-2.06.94zm-11 1L8.5 8.5l.94-2.06 2.06-.94-2.06-.94L8.5 2.5l-.94 2.06-2.06.94zm10 10l.94 2.06.94-2.06 2.06-.94-2.06-.94-.94-2.06-.94 2.06-2.06.94z\"/><path d=\"M17.41 7.96l-1.37-1.37c-.4-.4-.92-.59-1.43-.59-.52 0-1.04.2-1.43.59L10.3 9.45l-7.72 7.72c-.78.78-.78 2.05 0 2.83L4 21.41c.39.39.9.59 1.41.59.51 0 1.02-.2 1.41-.59l7.78-7.78 2.81-2.81c.8-.78.8-2.07 0-2.86zM5.41 20L4 18.59l7.72-7.72 1.47 1.35L5.41 20z\"/>\n",
              "  </svg>\n",
              "      </button>\n",
              "      \n",
              "  <style>\n",
              "    .colab-df-container {\n",
              "      display:flex;\n",
              "      flex-wrap:wrap;\n",
              "      gap: 12px;\n",
              "    }\n",
              "\n",
              "    .colab-df-convert {\n",
              "      background-color: #E8F0FE;\n",
              "      border: none;\n",
              "      border-radius: 50%;\n",
              "      cursor: pointer;\n",
              "      display: none;\n",
              "      fill: #1967D2;\n",
              "      height: 32px;\n",
              "      padding: 0 0 0 0;\n",
              "      width: 32px;\n",
              "    }\n",
              "\n",
              "    .colab-df-convert:hover {\n",
              "      background-color: #E2EBFA;\n",
              "      box-shadow: 0px 1px 2px rgba(60, 64, 67, 0.3), 0px 1px 3px 1px rgba(60, 64, 67, 0.15);\n",
              "      fill: #174EA6;\n",
              "    }\n",
              "\n",
              "    [theme=dark] .colab-df-convert {\n",
              "      background-color: #3B4455;\n",
              "      fill: #D2E3FC;\n",
              "    }\n",
              "\n",
              "    [theme=dark] .colab-df-convert:hover {\n",
              "      background-color: #434B5C;\n",
              "      box-shadow: 0px 1px 3px 1px rgba(0, 0, 0, 0.15);\n",
              "      filter: drop-shadow(0px 1px 2px rgba(0, 0, 0, 0.3));\n",
              "      fill: #FFFFFF;\n",
              "    }\n",
              "  </style>\n",
              "\n",
              "      <script>\n",
              "        const buttonEl =\n",
              "          document.querySelector('#df-1e33a577-47d0-4f6c-9ed2-1c065f0fc5b1 button.colab-df-convert');\n",
              "        buttonEl.style.display =\n",
              "          google.colab.kernel.accessAllowed ? 'block' : 'none';\n",
              "\n",
              "        async function convertToInteractive(key) {\n",
              "          const element = document.querySelector('#df-1e33a577-47d0-4f6c-9ed2-1c065f0fc5b1');\n",
              "          const dataTable =\n",
              "            await google.colab.kernel.invokeFunction('convertToInteractive',\n",
              "                                                     [key], {});\n",
              "          if (!dataTable) return;\n",
              "\n",
              "          const docLinkHtml = 'Like what you see? Visit the ' +\n",
              "            '<a target=\"_blank\" href=https://colab.research.google.com/notebooks/data_table.ipynb>data table notebook</a>'\n",
              "            + ' to learn more about interactive tables.';\n",
              "          element.innerHTML = '';\n",
              "          dataTable['output_type'] = 'display_data';\n",
              "          await google.colab.output.renderOutput(dataTable, element);\n",
              "          const docLink = document.createElement('div');\n",
              "          docLink.innerHTML = docLinkHtml;\n",
              "          element.appendChild(docLink);\n",
              "        }\n",
              "      </script>\n",
              "    </div>\n",
              "  </div>\n",
              "  "
            ]
          },
          "metadata": {},
          "execution_count": 77
        }
      ]
    },
    {
      "cell_type": "code",
      "source": [
        "# Create a function to clean the tweets. Remove profanity, unnecessary characters, spaces, and stopwords.\n",
        "\n",
        "def clean_tweet(tweet):\n",
        "    if type(tweet) == np.float:\n",
        "        return \"\"\n",
        "    r = tweet.lower()\n",
        "    r = profanity.censor(r)\n",
        "    r = re.sub(\"'\", \"\", r) # This is to avoid removing contractions in english\n",
        "    r = re.sub(\"@[A-Za-z0-9_]+\",\"\", r)\n",
        "    r = re.sub(\"#[A-Za-z0-9_]+\",\"\", r)\n",
        "    r = re.sub(r'http\\S+', '', r)\n",
        "    r = re.sub('[()!?]', ' ', r)\n",
        "    r = re.sub('\\[.*?\\]',' ', r)\n",
        "    r = re.sub(\"[^a-z0-9]\",\" \", r)\n",
        "    r = r.split()\n",
        "    stopwords = [\"for\", \"on\", \"an\", \"a\", \"of\", \"and\", \"in\", \"the\", \"to\", \"from\"]\n",
        "    r = [w for w in r if not w in stopwords]\n",
        "    r = \" \".join(word for word in r)\n",
        "    return r"
      ],
      "metadata": {
        "id": "iXPNbVdUDS88"
      },
      "execution_count": null,
      "outputs": []
    },
    {
      "cell_type": "code",
      "source": [
        "tweet_list = tweets_df.text.to_list()"
      ],
      "metadata": {
        "id": "-xGIfiLmDTB6"
      },
      "execution_count": null,
      "outputs": []
    },
    {
      "cell_type": "code",
      "source": [
        "cleaned = [clean_tweet(tw) for tw in tweet_list]\n",
        "cleaned"
      ],
      "metadata": {
        "id": "uZwHF0cUDS_A",
        "colab": {
          "base_uri": "https://localhost:8080/"
        },
        "outputId": "2989fa1e-3997-45b5-e623-2f7e70eb555e"
      },
      "execution_count": null,
      "outputs": [
        {
          "output_type": "stream",
          "name": "stderr",
          "text": [
            "/usr/local/lib/python3.7/dist-packages/ipykernel_launcher.py:4: DeprecationWarning: `np.float` is a deprecated alias for the builtin `float`. To silence this warning, use `float` by itself. Doing this will not modify any behavior and is safe. If you specifically wanted the numpy scalar type, use `np.float64` here.\n",
            "Deprecated in NumPy 1.20; for more details and guidance: https://numpy.org/devdocs/release/1.20.0-notes.html#deprecations\n",
            "  after removing the cwd from sys.path.\n"
          ]
        },
        {
          "output_type": "execute_result",
          "data": {
            "text/plain": [
              "['2020 21 chronicles nba desmond',\n",
              " '2 2022 paolo banchero gold lightning',\n",
              " 'that was first half his rookie season before he ever really had any nba run',\n",
              " '2012 nikola vucevic rookie card auto',\n",
              " '2021 22 panini prizm nba 75th',\n",
              " '2021 22 panini nba prizm cade cunning',\n",
              " 'i felt rookies would hold value ts i own like 4 rares but have 2021 draft picks 1 14 3 badge rookies tbey still tanked once second moment comes out fact it s rookie means almost nothing because it lost its utility',\n",
              " '2021 22 panini nba prizm silver',\n",
              " '21 22 panini one one nba br',\n",
              " 'nah bruh y all be acting like he not old as playing nba 19 seasons all his organization relying him since he was rookie playing heavy minutes consistently amp perform at high level improving every season i think we can talk age when i comes bron now',\n",
              " 'jaylen brown rookie replay 2016 rc boston celtics generation next',\n",
              " '2012 13 panini nba hoops jimmy butler',\n",
              " '2020 21 nba hoops james wiseman rc rookie golden state warriors official panini basketball trading card stock photo nm mt condition via',\n",
              " '2020 21 nba hoops james wiseman rc rookie golden state warriors official panini basketball trading card stock photo nm mt condition via',\n",
              " '2020 21 nba hoops james wiseman rc rookie golden state warriors official panini basketball trading card stock photo nm mt condition via',\n",
              " '2020 21 nba hoops james wiseman rc rookie golden state warriors official panini basketball trading card stock photo nm mt condition via',\n",
              " '2020 21 nba hoops james wiseman rc rookie golden state warriors official panini basketball trading card stock photo nm mt condition via',\n",
              " '2020 21 nba hoops james wiseman rc rookie golden state warriors official panini basketball trading card stock photo nm mt condition via',\n",
              " 'nba rookie rankings pistons jaden ivey drives way top spurs jeremy sochan showing off defensive chops',\n",
              " 'watch travis jason kelce gush over jets rookie corner sauce gardner',\n",
              " '2018 nba hoops hot signatures',\n",
              " '2019 20 nba hoops premium darius garl',\n",
              " '2018 19 panini nba hoops class',\n",
              " '2018 19 nba panini chronicles jalen b',\n",
              " '2020 21 panini nba silver prizm',\n",
              " 'starting lineup grant hill detroit pistons 1995 rookie year action figure amp exclusive nba collector trading card via',\n",
              " 'starting lineup grant hill detroit pistons 1995 rookie year action figure amp exclusive nba collector trading card via',\n",
              " 'starting lineup grant hill detroit pistons 1995 rookie year action figure amp exclusive nba collector trading card via']"
            ]
          },
          "metadata": {},
          "execution_count": 80
        }
      ]
    },
    {
      "cell_type": "code",
      "source": [
        "# Define the sentiment objects using TextBlob\n",
        "\n",
        "sentiment_objects = [TextBlob(tweet) for tweet in cleaned]\n",
        "\n",
        "sentiment_objects[0].polarity, sentiment_objects[0]"
      ],
      "metadata": {
        "id": "l8jB4sJnDwOf",
        "colab": {
          "base_uri": "https://localhost:8080/"
        },
        "outputId": "afecea27-5315-4d08-cc08-e34b87498962"
      },
      "execution_count": null,
      "outputs": [
        {
          "output_type": "execute_result",
          "data": {
            "text/plain": [
              "(0.0, TextBlob(\"2020 21 chronicles nba desmond\"))"
            ]
          },
          "metadata": {},
          "execution_count": 81
        }
      ]
    },
    {
      "cell_type": "code",
      "source": [
        "# Create a list of polarity values and tweet text\n",
        "\n",
        "sentiment_values = [[tweet.sentiment.polarity, str(tweet)] for tweet in sentiment_objects]\n",
        "\n",
        "# Print the value of the 0th row.\n",
        "\n",
        "sentiment_values[0]\n",
        "# Print all the sentiment values\n",
        "\n",
        "sentiment_values[0:99]"
      ],
      "metadata": {
        "id": "TuKvPHLOD1Kw",
        "colab": {
          "base_uri": "https://localhost:8080/"
        },
        "outputId": "1770fc4f-52c7-4a4c-c78f-edf3ea97b67d"
      },
      "execution_count": null,
      "outputs": [
        {
          "output_type": "execute_result",
          "data": {
            "text/plain": [
              "[[0.0, '2020 21 chronicles nba desmond'],\n",
              " [0.0, '2 2022 paolo banchero gold lightning'],\n",
              " [0.09444444444444444,\n",
              "  'that was first half his rookie season before he ever really had any nba run'],\n",
              " [0.0, '2012 nikola vucevic rookie card auto'],\n",
              " [0.0, '2021 22 panini prizm nba 75th'],\n",
              " [0.0, '2021 22 panini nba prizm cade cunning'],\n",
              " [0.3,\n",
              "  'i felt rookies would hold value ts i own like 4 rares but have 2021 draft picks 1 14 3 badge rookies tbey still tanked once second moment comes out fact it s rookie means almost nothing because it lost its utility'],\n",
              " [0.0, '2021 22 panini nba prizm silver'],\n",
              " [0.0, '21 22 panini one one nba br'],\n",
              " [0.032,\n",
              "  'nah bruh y all be acting like he not old as playing nba 19 seasons all his organization relying him since he was rookie playing heavy minutes consistently amp perform at high level improving every season i think we can talk age when i comes bron now'],\n",
              " [0.0, 'jaylen brown rookie replay 2016 rc boston celtics generation next'],\n",
              " [0.0, '2012 13 panini nba hoops jimmy butler'],\n",
              " [0.3,\n",
              "  '2020 21 nba hoops james wiseman rc rookie golden state warriors official panini basketball trading card stock photo nm mt condition via'],\n",
              " [0.3,\n",
              "  '2020 21 nba hoops james wiseman rc rookie golden state warriors official panini basketball trading card stock photo nm mt condition via'],\n",
              " [0.3,\n",
              "  '2020 21 nba hoops james wiseman rc rookie golden state warriors official panini basketball trading card stock photo nm mt condition via'],\n",
              " [0.3,\n",
              "  '2020 21 nba hoops james wiseman rc rookie golden state warriors official panini basketball trading card stock photo nm mt condition via'],\n",
              " [0.3,\n",
              "  '2020 21 nba hoops james wiseman rc rookie golden state warriors official panini basketball trading card stock photo nm mt condition via'],\n",
              " [0.3,\n",
              "  '2020 21 nba hoops james wiseman rc rookie golden state warriors official panini basketball trading card stock photo nm mt condition via'],\n",
              " [0.5,\n",
              "  'nba rookie rankings pistons jaden ivey drives way top spurs jeremy sochan showing off defensive chops'],\n",
              " [0.0, 'watch travis jason kelce gush over jets rookie corner sauce gardner'],\n",
              " [0.25, '2018 nba hoops hot signatures'],\n",
              " [0.0, '2019 20 nba hoops premium darius garl'],\n",
              " [0.0, '2018 19 panini nba hoops class'],\n",
              " [0.0, '2018 19 nba panini chronicles jalen b'],\n",
              " [0.0, '2020 21 panini nba silver prizm'],\n",
              " [0.05,\n",
              "  'starting lineup grant hill detroit pistons 1995 rookie year action figure amp exclusive nba collector trading card via'],\n",
              " [0.05,\n",
              "  'starting lineup grant hill detroit pistons 1995 rookie year action figure amp exclusive nba collector trading card via'],\n",
              " [0.05,\n",
              "  'starting lineup grant hill detroit pistons 1995 rookie year action figure amp exclusive nba collector trading card via']]"
            ]
          },
          "metadata": {},
          "execution_count": 82
        }
      ]
    },
    {
      "cell_type": "code",
      "source": [
        "# Create a dataframe of each tweet against its polarity\n",
        "\n",
        "sentiment_df = pd.DataFrame(sentiment_values, columns=[\"polarity\", \"tweet\"])\n",
        "\n",
        "sentiment_df"
      ],
      "metadata": {
        "id": "lrPyoWXTD3AO",
        "colab": {
          "base_uri": "https://localhost:8080/",
          "height": 927
        },
        "outputId": "73348b9e-20fd-4131-91eb-4e1bf64a6cca"
      },
      "execution_count": null,
      "outputs": [
        {
          "output_type": "execute_result",
          "data": {
            "text/plain": [
              "    polarity                                              tweet\n",
              "0   0.000000                     2020 21 chronicles nba desmond\n",
              "1   0.000000               2 2022 paolo banchero gold lightning\n",
              "2   0.094444  that was first half his rookie season before h...\n",
              "3   0.000000               2012 nikola vucevic rookie card auto\n",
              "4   0.000000                      2021 22 panini prizm nba 75th\n",
              "5   0.000000              2021 22 panini nba prizm cade cunning\n",
              "6   0.300000  i felt rookies would hold value ts i own like ...\n",
              "7   0.000000                    2021 22 panini nba prizm silver\n",
              "8   0.000000                        21 22 panini one one nba br\n",
              "9   0.032000  nah bruh y all be acting like he not old as pl...\n",
              "10  0.000000  jaylen brown rookie replay 2016 rc boston celt...\n",
              "11  0.000000              2012 13 panini nba hoops jimmy butler\n",
              "12  0.300000  2020 21 nba hoops james wiseman rc rookie gold...\n",
              "13  0.300000  2020 21 nba hoops james wiseman rc rookie gold...\n",
              "14  0.300000  2020 21 nba hoops james wiseman rc rookie gold...\n",
              "15  0.300000  2020 21 nba hoops james wiseman rc rookie gold...\n",
              "16  0.300000  2020 21 nba hoops james wiseman rc rookie gold...\n",
              "17  0.300000  2020 21 nba hoops james wiseman rc rookie gold...\n",
              "18  0.500000  nba rookie rankings pistons jaden ivey drives ...\n",
              "19  0.000000  watch travis jason kelce gush over jets rookie...\n",
              "20  0.250000                      2018 nba hoops hot signatures\n",
              "21  0.000000              2019 20 nba hoops premium darius garl\n",
              "22  0.000000                     2018 19 panini nba hoops class\n",
              "23  0.000000              2018 19 nba panini chronicles jalen b\n",
              "24  0.000000                    2020 21 panini nba silver prizm\n",
              "25  0.050000  starting lineup grant hill detroit pistons 199...\n",
              "26  0.050000  starting lineup grant hill detroit pistons 199...\n",
              "27  0.050000  starting lineup grant hill detroit pistons 199..."
            ],
            "text/html": [
              "\n",
              "  <div id=\"df-7d70be90-0de5-45c7-ae7d-1cedf53bcd08\">\n",
              "    <div class=\"colab-df-container\">\n",
              "      <div>\n",
              "<style scoped>\n",
              "    .dataframe tbody tr th:only-of-type {\n",
              "        vertical-align: middle;\n",
              "    }\n",
              "\n",
              "    .dataframe tbody tr th {\n",
              "        vertical-align: top;\n",
              "    }\n",
              "\n",
              "    .dataframe thead th {\n",
              "        text-align: right;\n",
              "    }\n",
              "</style>\n",
              "<table border=\"1\" class=\"dataframe\">\n",
              "  <thead>\n",
              "    <tr style=\"text-align: right;\">\n",
              "      <th></th>\n",
              "      <th>polarity</th>\n",
              "      <th>tweet</th>\n",
              "    </tr>\n",
              "  </thead>\n",
              "  <tbody>\n",
              "    <tr>\n",
              "      <th>0</th>\n",
              "      <td>0.000000</td>\n",
              "      <td>2020 21 chronicles nba desmond</td>\n",
              "    </tr>\n",
              "    <tr>\n",
              "      <th>1</th>\n",
              "      <td>0.000000</td>\n",
              "      <td>2 2022 paolo banchero gold lightning</td>\n",
              "    </tr>\n",
              "    <tr>\n",
              "      <th>2</th>\n",
              "      <td>0.094444</td>\n",
              "      <td>that was first half his rookie season before h...</td>\n",
              "    </tr>\n",
              "    <tr>\n",
              "      <th>3</th>\n",
              "      <td>0.000000</td>\n",
              "      <td>2012 nikola vucevic rookie card auto</td>\n",
              "    </tr>\n",
              "    <tr>\n",
              "      <th>4</th>\n",
              "      <td>0.000000</td>\n",
              "      <td>2021 22 panini prizm nba 75th</td>\n",
              "    </tr>\n",
              "    <tr>\n",
              "      <th>5</th>\n",
              "      <td>0.000000</td>\n",
              "      <td>2021 22 panini nba prizm cade cunning</td>\n",
              "    </tr>\n",
              "    <tr>\n",
              "      <th>6</th>\n",
              "      <td>0.300000</td>\n",
              "      <td>i felt rookies would hold value ts i own like ...</td>\n",
              "    </tr>\n",
              "    <tr>\n",
              "      <th>7</th>\n",
              "      <td>0.000000</td>\n",
              "      <td>2021 22 panini nba prizm silver</td>\n",
              "    </tr>\n",
              "    <tr>\n",
              "      <th>8</th>\n",
              "      <td>0.000000</td>\n",
              "      <td>21 22 panini one one nba br</td>\n",
              "    </tr>\n",
              "    <tr>\n",
              "      <th>9</th>\n",
              "      <td>0.032000</td>\n",
              "      <td>nah bruh y all be acting like he not old as pl...</td>\n",
              "    </tr>\n",
              "    <tr>\n",
              "      <th>10</th>\n",
              "      <td>0.000000</td>\n",
              "      <td>jaylen brown rookie replay 2016 rc boston celt...</td>\n",
              "    </tr>\n",
              "    <tr>\n",
              "      <th>11</th>\n",
              "      <td>0.000000</td>\n",
              "      <td>2012 13 panini nba hoops jimmy butler</td>\n",
              "    </tr>\n",
              "    <tr>\n",
              "      <th>12</th>\n",
              "      <td>0.300000</td>\n",
              "      <td>2020 21 nba hoops james wiseman rc rookie gold...</td>\n",
              "    </tr>\n",
              "    <tr>\n",
              "      <th>13</th>\n",
              "      <td>0.300000</td>\n",
              "      <td>2020 21 nba hoops james wiseman rc rookie gold...</td>\n",
              "    </tr>\n",
              "    <tr>\n",
              "      <th>14</th>\n",
              "      <td>0.300000</td>\n",
              "      <td>2020 21 nba hoops james wiseman rc rookie gold...</td>\n",
              "    </tr>\n",
              "    <tr>\n",
              "      <th>15</th>\n",
              "      <td>0.300000</td>\n",
              "      <td>2020 21 nba hoops james wiseman rc rookie gold...</td>\n",
              "    </tr>\n",
              "    <tr>\n",
              "      <th>16</th>\n",
              "      <td>0.300000</td>\n",
              "      <td>2020 21 nba hoops james wiseman rc rookie gold...</td>\n",
              "    </tr>\n",
              "    <tr>\n",
              "      <th>17</th>\n",
              "      <td>0.300000</td>\n",
              "      <td>2020 21 nba hoops james wiseman rc rookie gold...</td>\n",
              "    </tr>\n",
              "    <tr>\n",
              "      <th>18</th>\n",
              "      <td>0.500000</td>\n",
              "      <td>nba rookie rankings pistons jaden ivey drives ...</td>\n",
              "    </tr>\n",
              "    <tr>\n",
              "      <th>19</th>\n",
              "      <td>0.000000</td>\n",
              "      <td>watch travis jason kelce gush over jets rookie...</td>\n",
              "    </tr>\n",
              "    <tr>\n",
              "      <th>20</th>\n",
              "      <td>0.250000</td>\n",
              "      <td>2018 nba hoops hot signatures</td>\n",
              "    </tr>\n",
              "    <tr>\n",
              "      <th>21</th>\n",
              "      <td>0.000000</td>\n",
              "      <td>2019 20 nba hoops premium darius garl</td>\n",
              "    </tr>\n",
              "    <tr>\n",
              "      <th>22</th>\n",
              "      <td>0.000000</td>\n",
              "      <td>2018 19 panini nba hoops class</td>\n",
              "    </tr>\n",
              "    <tr>\n",
              "      <th>23</th>\n",
              "      <td>0.000000</td>\n",
              "      <td>2018 19 nba panini chronicles jalen b</td>\n",
              "    </tr>\n",
              "    <tr>\n",
              "      <th>24</th>\n",
              "      <td>0.000000</td>\n",
              "      <td>2020 21 panini nba silver prizm</td>\n",
              "    </tr>\n",
              "    <tr>\n",
              "      <th>25</th>\n",
              "      <td>0.050000</td>\n",
              "      <td>starting lineup grant hill detroit pistons 199...</td>\n",
              "    </tr>\n",
              "    <tr>\n",
              "      <th>26</th>\n",
              "      <td>0.050000</td>\n",
              "      <td>starting lineup grant hill detroit pistons 199...</td>\n",
              "    </tr>\n",
              "    <tr>\n",
              "      <th>27</th>\n",
              "      <td>0.050000</td>\n",
              "      <td>starting lineup grant hill detroit pistons 199...</td>\n",
              "    </tr>\n",
              "  </tbody>\n",
              "</table>\n",
              "</div>\n",
              "      <button class=\"colab-df-convert\" onclick=\"convertToInteractive('df-7d70be90-0de5-45c7-ae7d-1cedf53bcd08')\"\n",
              "              title=\"Convert this dataframe to an interactive table.\"\n",
              "              style=\"display:none;\">\n",
              "        \n",
              "  <svg xmlns=\"http://www.w3.org/2000/svg\" height=\"24px\"viewBox=\"0 0 24 24\"\n",
              "       width=\"24px\">\n",
              "    <path d=\"M0 0h24v24H0V0z\" fill=\"none\"/>\n",
              "    <path d=\"M18.56 5.44l.94 2.06.94-2.06 2.06-.94-2.06-.94-.94-2.06-.94 2.06-2.06.94zm-11 1L8.5 8.5l.94-2.06 2.06-.94-2.06-.94L8.5 2.5l-.94 2.06-2.06.94zm10 10l.94 2.06.94-2.06 2.06-.94-2.06-.94-.94-2.06-.94 2.06-2.06.94z\"/><path d=\"M17.41 7.96l-1.37-1.37c-.4-.4-.92-.59-1.43-.59-.52 0-1.04.2-1.43.59L10.3 9.45l-7.72 7.72c-.78.78-.78 2.05 0 2.83L4 21.41c.39.39.9.59 1.41.59.51 0 1.02-.2 1.41-.59l7.78-7.78 2.81-2.81c.8-.78.8-2.07 0-2.86zM5.41 20L4 18.59l7.72-7.72 1.47 1.35L5.41 20z\"/>\n",
              "  </svg>\n",
              "      </button>\n",
              "      \n",
              "  <style>\n",
              "    .colab-df-container {\n",
              "      display:flex;\n",
              "      flex-wrap:wrap;\n",
              "      gap: 12px;\n",
              "    }\n",
              "\n",
              "    .colab-df-convert {\n",
              "      background-color: #E8F0FE;\n",
              "      border: none;\n",
              "      border-radius: 50%;\n",
              "      cursor: pointer;\n",
              "      display: none;\n",
              "      fill: #1967D2;\n",
              "      height: 32px;\n",
              "      padding: 0 0 0 0;\n",
              "      width: 32px;\n",
              "    }\n",
              "\n",
              "    .colab-df-convert:hover {\n",
              "      background-color: #E2EBFA;\n",
              "      box-shadow: 0px 1px 2px rgba(60, 64, 67, 0.3), 0px 1px 3px 1px rgba(60, 64, 67, 0.15);\n",
              "      fill: #174EA6;\n",
              "    }\n",
              "\n",
              "    [theme=dark] .colab-df-convert {\n",
              "      background-color: #3B4455;\n",
              "      fill: #D2E3FC;\n",
              "    }\n",
              "\n",
              "    [theme=dark] .colab-df-convert:hover {\n",
              "      background-color: #434B5C;\n",
              "      box-shadow: 0px 1px 3px 1px rgba(0, 0, 0, 0.15);\n",
              "      filter: drop-shadow(0px 1px 2px rgba(0, 0, 0, 0.3));\n",
              "      fill: #FFFFFF;\n",
              "    }\n",
              "  </style>\n",
              "\n",
              "      <script>\n",
              "        const buttonEl =\n",
              "          document.querySelector('#df-7d70be90-0de5-45c7-ae7d-1cedf53bcd08 button.colab-df-convert');\n",
              "        buttonEl.style.display =\n",
              "          google.colab.kernel.accessAllowed ? 'block' : 'none';\n",
              "\n",
              "        async function convertToInteractive(key) {\n",
              "          const element = document.querySelector('#df-7d70be90-0de5-45c7-ae7d-1cedf53bcd08');\n",
              "          const dataTable =\n",
              "            await google.colab.kernel.invokeFunction('convertToInteractive',\n",
              "                                                     [key], {});\n",
              "          if (!dataTable) return;\n",
              "\n",
              "          const docLinkHtml = 'Like what you see? Visit the ' +\n",
              "            '<a target=\"_blank\" href=https://colab.research.google.com/notebooks/data_table.ipynb>data table notebook</a>'\n",
              "            + ' to learn more about interactive tables.';\n",
              "          element.innerHTML = '';\n",
              "          dataTable['output_type'] = 'display_data';\n",
              "          await google.colab.output.renderOutput(dataTable, element);\n",
              "          const docLink = document.createElement('div');\n",
              "          docLink.innerHTML = docLinkHtml;\n",
              "          element.appendChild(docLink);\n",
              "        }\n",
              "      </script>\n",
              "    </div>\n",
              "  </div>\n",
              "  "
            ]
          },
          "metadata": {},
          "execution_count": 83
        }
      ]
    },
    {
      "cell_type": "code",
      "source": [
        "# Save the polarity column as 'n'.\n",
        "\n",
        "n=sentiment_df[\"polarity\"]\n",
        "\n",
        "# Convert this column into a series, 'm'. \n",
        "\n",
        "m=pd.Series(n)\n",
        "\n",
        "m"
      ],
      "metadata": {
        "id": "FPXvbfKXD4rY",
        "colab": {
          "base_uri": "https://localhost:8080/"
        },
        "outputId": "87a8be07-a203-4828-e5e9-ade3f7a87fcf"
      },
      "execution_count": null,
      "outputs": [
        {
          "output_type": "execute_result",
          "data": {
            "text/plain": [
              "0     0.000000\n",
              "1     0.000000\n",
              "2     0.094444\n",
              "3     0.000000\n",
              "4     0.000000\n",
              "5     0.000000\n",
              "6     0.300000\n",
              "7     0.000000\n",
              "8     0.000000\n",
              "9     0.032000\n",
              "10    0.000000\n",
              "11    0.000000\n",
              "12    0.300000\n",
              "13    0.300000\n",
              "14    0.300000\n",
              "15    0.300000\n",
              "16    0.300000\n",
              "17    0.300000\n",
              "18    0.500000\n",
              "19    0.000000\n",
              "20    0.250000\n",
              "21    0.000000\n",
              "22    0.000000\n",
              "23    0.000000\n",
              "24    0.000000\n",
              "25    0.050000\n",
              "26    0.050000\n",
              "27    0.050000\n",
              "Name: polarity, dtype: float64"
            ]
          },
          "metadata": {},
          "execution_count": 84
        }
      ]
    },
    {
      "cell_type": "code",
      "source": [
        "# Initialize variables, 'pos', 'neg', 'neu'.\n",
        "\n",
        "pos=0\n",
        "neg=0\n",
        "neu=0\n",
        "\n",
        "# Create a loop to classify the tweets as Positive, Negative, or Neutral.\n",
        "# Count the number of each.\n",
        "\n",
        "for items in m:\n",
        "    if items>0:\n",
        "        print(\"Positive\")\n",
        "        pos=pos+1\n",
        "    elif items<0:\n",
        "        print(\"Negative\")\n",
        "        neg=neg+1\n",
        "    else:\n",
        "        print(\"Neutral\")\n",
        "        neu=neu+1\n",
        "        \n",
        "print(pos,neg,neu)"
      ],
      "metadata": {
        "id": "1xFIEHotD6H_",
        "colab": {
          "base_uri": "https://localhost:8080/"
        },
        "outputId": "f1609cf4-909f-4b60-dcaf-9a4302a57bbd"
      },
      "execution_count": null,
      "outputs": [
        {
          "output_type": "stream",
          "name": "stdout",
          "text": [
            "Neutral\n",
            "Neutral\n",
            "Positive\n",
            "Neutral\n",
            "Neutral\n",
            "Neutral\n",
            "Positive\n",
            "Neutral\n",
            "Neutral\n",
            "Positive\n",
            "Neutral\n",
            "Neutral\n",
            "Positive\n",
            "Positive\n",
            "Positive\n",
            "Positive\n",
            "Positive\n",
            "Positive\n",
            "Positive\n",
            "Neutral\n",
            "Positive\n",
            "Neutral\n",
            "Neutral\n",
            "Neutral\n",
            "Neutral\n",
            "Positive\n",
            "Positive\n",
            "Positive\n",
            "14 0 14\n"
          ]
        }
      ]
    },
    {
      "cell_type": "code",
      "source": [
        "pieLabels=[\"Positive\",\"Negative\",\"Neutral\"]\n",
        "\n",
        "populationShare=[pos,neg,neu]\n",
        "\n",
        "figureObject, axesObject = plt.subplots()\n",
        "\n",
        "axesObject.pie(populationShare,labels=pieLabels,autopct='%1.2f',startangle=90)\n",
        "\n",
        "axesObject.axis('equal')\n",
        "\n",
        "plt.show()"
      ],
      "metadata": {
        "id": "0Bf5J6jxD7l3",
        "colab": {
          "base_uri": "https://localhost:8080/",
          "height": 253
        },
        "outputId": "8df1e5f4-d3aa-4711-aa3f-de7ef26d3054"
      },
      "execution_count": null,
      "outputs": [
        {
          "output_type": "display_data",
          "data": {
            "text/plain": [
              "<Figure size 432x288 with 1 Axes>"
            ],
            "image/png": "[encoded data removed]"
          },
          "metadata": {}
        }
      ]
    },
    {
      "cell_type": "code",
      "source": [
        "# Display the number of twitter users who feel a certain way about the given topic.\n",
        "\n",
        "print(\"%f percent of twitter users feel positive about %s\"%(pos,query))\n",
        "\n",
        "print(\"%f percent of twitter users feel negative about %s\"%(neg,query))\n",
        "\n",
        "print(\"%f percent of twitter users feel neutral about %s\"%(neu,query))"
      ],
      "metadata": {
        "id": "QNeiZ8zTD9kg",
        "colab": {
          "base_uri": "https://localhost:8080/"
        },
        "outputId": "2259b593-76f5-4ddc-e6ee-7f843691e3e0"
      },
      "execution_count": null,
      "outputs": [
        {
          "output_type": "stream",
          "name": "stdout",
          "text": [
            "14.000000 percent of twitter users feel positive about nba rookie -is:retweet\n",
            "0.000000 percent of twitter users feel negative about nba rookie -is:retweet\n",
            "14.000000 percent of twitter users feel neutral about nba rookie -is:retweet\n"
          ]
        }
      ]
    },
    {
      "cell_type": "code",
      "source": [
        "# Create a Wordcloud from the tweets\n",
        "\n",
        "all_words = ' '.join([text for text in cleaned])\n",
        "wordcloud = WordCloud(width=800, height=500, random_state=21, max_font_size=110).generate(all_words)\n",
        "\n",
        "plt.figure(figsize=(10, 7))\n",
        "plt.imshow(wordcloud, interpolation=\"bilinear\")\n",
        "plt.axis('off')\n",
        "plt.show()"
      ],
      "metadata": {
        "id": "0JCLgvj6D-0H",
        "colab": {
          "base_uri": "https://localhost:8080/",
          "height": 380
        },
        "outputId": "4a252ff8-4562-484c-b43f-71538a89ff88"
      },
      "execution_count": null,
      "outputs": [
        {
          "output_type": "display_data",
          "data": {
            "text/plain": [
              "<Figure size 720x504 with 1 Axes>"
            ],
            "image/png": "[encoded data removed]"
          },
          "metadata": {}
        }
      ]
    },
    {
      "cell_type": "code",
      "source": [],
      "metadata": {
        "id": "tbFegfqiEADm"
      },
      "execution_count": null,
      "outputs": []
    }
  ]
}