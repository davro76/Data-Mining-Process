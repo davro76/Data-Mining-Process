{
  "nbformat": 4,
  "nbformat_minor": 0,
  "metadata": {
    "colab": {
      "provenance": [],
      "include_colab_link": true
    },
    "kernelspec": {
      "name": "python3",
      "display_name": "Python 3"
    },
    "language_info": {
      "name": "python"
    }
  },
  "cells": [
    {
      "cell_type": "markdown",
      "metadata": {
        "id": "view-in-github",
        "colab_type": "text"
      },
      "source": [
        "<a href=\"https://colab.research.google.com/github/davro76/Data-Mining-Process/blob/main/IntroToStreamLit_Cap4767.ipynb\" target=\"_parent\"><img src=\"https://colab.research.google.com/assets/colab-badge.svg\" alt=\"Open In Colab\"/></a>"
      ]
    },
    {
      "cell_type": "code",
      "execution_count": null,
      "metadata": {
        "colab": {
          "base_uri": "https://localhost:8080/"
        },
        "id": "Viuo32k7h6lV",
        "outputId": "2afdaba5-6886-4168-d1a1-d089a575c00d"
      },
      "outputs": [
        {
          "output_type": "stream",
          "name": "stdout",
          "text": [
            "\u001b[K     |████████████████████████████████| 10.3 MB 5.4 MB/s \n",
            "\u001b[K     |████████████████████████████████| 78 kB 2.0 MB/s \n",
            "\u001b[K     |████████████████████████████████| 182 kB 29.2 MB/s \n",
            "\u001b[K     |████████████████████████████████| 4.7 MB 24.6 MB/s \n",
            "\u001b[K     |████████████████████████████████| 164 kB 37.8 MB/s \n",
            "\u001b[K     |████████████████████████████████| 237 kB 38.7 MB/s \n",
            "\u001b[K     |████████████████████████████████| 62 kB 683 kB/s \n",
            "\u001b[K     |████████████████████████████████| 51 kB 3.3 MB/s \n",
            "\u001b[?25h  Building wheel for validators (setup.py) ... \u001b[?25l\u001b[?25hdone\n"
          ]
        }
      ],
      "source": [
        "!pip install -q streamlit"
      ]
    },
    {
      "cell_type": "code",
      "source": [
        "# 2I0aYWMY1Wb65as34yVYX9dEkMQ_5mJDzNoxpN2XFVdV2GSuR"
      ],
      "metadata": {
        "id": "WEb2iVySj18D"
      },
      "execution_count": null,
      "outputs": []
    },
    {
      "cell_type": "code",
      "source": [
        "!pip install pyngrok"
      ],
      "metadata": {
        "colab": {
          "base_uri": "https://localhost:8080/"
        },
        "id": "Qjw4Tri4kC_R",
        "outputId": "35f0a456-611d-41b1-c6b4-a83fb10cc273"
      },
      "execution_count": null,
      "outputs": [
        {
          "output_type": "stream",
          "name": "stdout",
          "text": [
            "Looking in indexes: https://pypi.org/simple, https://us-python.pkg.dev/colab-wheels/public/simple/\n",
            "Collecting pyngrok\n",
            "  Downloading pyngrok-5.2.0.tar.gz (761 kB)\n",
            "\u001b[K     |████████████████████████████████| 761 kB 4.9 MB/s \n",
            "\u001b[?25hRequirement already satisfied: PyYAML in /usr/local/lib/python3.7/dist-packages (from pyngrok) (6.0)\n",
            "Building wheels for collected packages: pyngrok\n",
            "  Building wheel for pyngrok (setup.py) ... \u001b[?25l\u001b[?25hdone\n",
            "  Created wheel for pyngrok: filename=pyngrok-5.2.0-py3-none-any.whl size=19784 sha256=dfac4045d914ae914399898bb8d677a471478867ed0563f0ae7d5240b34028ff\n",
            "  Stored in directory: /root/.cache/pip/wheels/22/0d/3e/123007fa1c412308a8528000c5b419cfaa15ee9612e6b43519\n",
            "Successfully built pyngrok\n",
            "Installing collected packages: pyngrok\n",
            "Successfully installed pyngrok-5.2.0\n"
          ]
        }
      ]
    },
    {
      "cell_type": "code",
      "source": [
        "!ngrok authtoken 2I0aYWMY1Wb65as34yVYX9dEkMQ_5mJDzNoxpN2XFVdV2GSuR"
      ],
      "metadata": {
        "colab": {
          "base_uri": "https://localhost:8080/"
        },
        "id": "cUTCn9SykO8K",
        "outputId": "16de9113-fcd6-4093-9f17-6736ff62da59"
      },
      "execution_count": null,
      "outputs": [
        {
          "output_type": "stream",
          "name": "stdout",
          "text": [
            "Authtoken saved to configuration file: /root/.ngrok2/ngrok.yml\n"
          ]
        }
      ]
    },
    {
      "cell_type": "code",
      "source": [
        "from pyngrok import ngrok \n",
        "public_url = ngrok.connect(port='8501')\n",
        "public_url"
      ],
      "metadata": {
        "colab": {
          "base_uri": "https://localhost:8080/"
        },
        "id": "tDo12_ajkgxF",
        "outputId": "f7d2bb4c-f1d9-464a-a380-b92fd4e974c5"
      },
      "execution_count": null,
      "outputs": [
        {
          "output_type": "execute_result",
          "data": {
            "text/plain": [
              "<NgrokTunnel: \"http://1a7d-34-66-233-187.ngrok.io\" -> \"http://localhost:80\">"
            ]
          },
          "metadata": {},
          "execution_count": 4
        }
      ]
    },
    {
      "cell_type": "code",
      "source": [
        "# Docs:  https://docs.streamlit.io/library/cheatsheet\n",
        "# API Reference:  https://docs.streamlit.io/library/api-reference"
      ],
      "metadata": {
        "id": "_j3qXz6Zkpe4"
      },
      "execution_count": null,
      "outputs": []
    },
    {
      "cell_type": "code",
      "source": [
        "%%writefile streamlit_app.py\n",
        "import streamlit as st\n",
        "import pandas as pd \n",
        "import plotly.express as px \n",
        "# st.write(\"# Please let this work... \")\n",
        "st.markdown('''\n",
        "# Streamlit Demo for Data Mining Class\n",
        "\n",
        "## How to create web front ends for your ML models\n",
        "\n",
        "[Dr. Ernesto Lee](http://ernesto.net \"Dr. Ernesto Lee\")\n",
        "''')"
      ],
      "metadata": {
        "colab": {
          "base_uri": "https://localhost:8080/"
        },
        "id": "ONl6PCRckuMh",
        "outputId": "9103dfb7-0d08-4881-9661-7a615750b172"
      },
      "execution_count": null,
      "outputs": [
        {
          "output_type": "stream",
          "name": "stdout",
          "text": [
            "Overwriting streamlit_app.py\n"
          ]
        }
      ]
    },
    {
      "cell_type": "code",
      "source": [
        "# st.title(\"Put a title in here\")\n",
        "# st.markdown(\"Put markdown code in here\")\n",
        "# https://markdown-editor.github.com   --- you can easily create markdown\n",
        "# st.header(\"\")"
      ],
      "metadata": {
        "id": "tu8rjOeUtsPJ"
      },
      "execution_count": null,
      "outputs": []
    },
    {
      "cell_type": "code",
      "source": [
        "!streamlit run /content/streamlit_app.py & npx localtunnel --port 8501 "
      ],
      "metadata": {
        "colab": {
          "base_uri": "https://localhost:8080/"
        },
        "id": "R3TtPeSvkuIN",
        "outputId": "7324bb82-a534-45e8-a9ff-ef593b8fb092"
      },
      "execution_count": null,
      "outputs": [
        {
          "output_type": "stream",
          "name": "stdout",
          "text": [
            "\u001b[K\u001b[?25hnpx: installed 22 in 3.123s\n",
            "\n",
            "Collecting usage statistics. To deactivate, set browser.gatherUsageStats to False.\n",
            "\u001b[0m\n",
            "your url is: https://funny-carrots-turn-34-66-233-187.loca.lt\n",
            "\u001b[0m\n",
            "\u001b[34m\u001b[1m  You can now view your Streamlit app in your browser.\u001b[0m\n",
            "\u001b[0m\n",
            "\u001b[34m  Network URL: \u001b[0m\u001b[1mhttp://172.28.0.2:8501\u001b[0m\n",
            "\u001b[34m  External URL: \u001b[0m\u001b[1mhttp://34.66.233.187:8501\u001b[0m\n",
            "\u001b[0m\n",
            "\u001b[34m  Stopping...\u001b[0m\n",
            "^C\n"
          ]
        }
      ]
    },
    {
      "cell_type": "code",
      "source": [
        "%%writefile streamlit_app.py \n",
        "import streamlit as st\n",
        "import pandas as pd\n",
        "import plotly.express as px\n",
        "st.write('# Avocado Prices dashboard')  #st.title('Avocado Prices dashboard')\n",
        "# https://markdown-editor.github.io/   This will help build markdown\n",
        "st.markdown('''\n",
        "This is a dashboard showing the *average prices* of different types of :avocado:  \n",
        "Data source: [Kaggle](https://www.kaggle.com/datasets/timmate/avocado-prices-2020)\n",
        "''')\n",
        "st.header('Summary statistics')\n",
        "st.header('Line chart by geographies')"
      ],
      "metadata": {
        "colab": {
          "base_uri": "https://localhost:8080/"
        },
        "id": "yLGB39CPkuD4",
        "outputId": "d263f63a-6089-41fb-b784-3f1b7e268db3"
      },
      "execution_count": null,
      "outputs": [
        {
          "output_type": "stream",
          "name": "stdout",
          "text": [
            "Overwriting streamlit_app.py\n"
          ]
        }
      ]
    },
    {
      "cell_type": "code",
      "source": [
        "!streamlit run /content/streamlit_app.py & npx localtunnel --port 8501 "
      ],
      "metadata": {
        "colab": {
          "base_uri": "https://localhost:8080/"
        },
        "id": "UqBIc1N2kt9u",
        "outputId": "912a0a9c-c369-4825-aa10-289ae8c46d1c"
      },
      "execution_count": null,
      "outputs": [
        {
          "output_type": "stream",
          "name": "stdout",
          "text": [
            "\n",
            "Collecting usage statistics. To deactivate, set browser.gatherUsageStats to False.\n",
            "\u001b[0m\n",
            "\u001b[0m\n",
            "\u001b[34m\u001b[1m  You can now view your Streamlit app in your browser.\u001b[0m\n",
            "\u001b[0m\n",
            "\u001b[34m  Network URL: \u001b[0m\u001b[1mhttp://172.28.0.2:8501\u001b[0m\n",
            "\u001b[34m  External URL: \u001b[0m\u001b[1mhttp://34.66.233.187:8501\u001b[0m\n",
            "\u001b[0m\n",
            "\u001b[K\u001b[?25hnpx: installed 22 in 3.453s\n",
            "your url is: https://brown-roses-obey-34-66-233-187.loca.lt\n",
            "\u001b[34m  Stopping...\u001b[0m\n",
            "^C\n"
          ]
        }
      ]
    },
    {
      "cell_type": "code",
      "source": [
        "%%writefile streamlit_app.py \n",
        "import streamlit as st\n",
        "import pandas as pd\n",
        "import plotly.express as px\n",
        "st.write('# Avocado Prices dashboard')  #st.title('Avocado Prices dashboard')\n",
        "# https://markdown-editor.github.io/   This will help build markdown\n",
        "st.markdown('''\n",
        "This is a dashboard showing the *average prices* of different types of :avocado:  \n",
        "Data source: [Kaggle](https://www.kaggle.com/datasets/timmate/avocado-prices-2020)\n",
        "''')\n",
        "st.header('Summary statistics')\n",
        "st.header('Line chart by geographies')\n",
        "st.header('Summary statistics')\n",
        "avocado = pd.read_csv('https://raw.githubusercontent.com/fenago/datasets/main/avocado-updated-2020.csv')\n",
        "avocado_stats = avocado.groupby('type')['average_price'].mean()\n",
        "st.dataframe(avocado_stats)\n",
        "st.dataframe(avocado)\n"
      ],
      "metadata": {
        "colab": {
          "base_uri": "https://localhost:8080/"
        },
        "id": "nGm8Izj9kt48",
        "outputId": "aef28fd8-692e-4a4f-e29d-9e96ec686ac3"
      },
      "execution_count": null,
      "outputs": [
        {
          "output_type": "stream",
          "name": "stdout",
          "text": [
            "Overwriting streamlit_app.py\n"
          ]
        }
      ]
    },
    {
      "cell_type": "code",
      "source": [
        "!streamlit run /content/streamlit_app.py & npx localtunnel --port 8501 "
      ],
      "metadata": {
        "colab": {
          "base_uri": "https://localhost:8080/"
        },
        "id": "pNhh76lBkt1I",
        "outputId": "5befe2bb-b649-49a3-8328-c69edf046ce8"
      },
      "execution_count": null,
      "outputs": [
        {
          "output_type": "stream",
          "name": "stdout",
          "text": [
            "[#########.........] \\ extract:string-width: sill extract get-caller-file@^2.0.\u001b[0m\u001b[K\n",
            "Collecting usage statistics. To deactivate, set browser.gatherUsageStats to False.\n",
            "\u001b[0m\n",
            "\u001b[0m\n",
            "\u001b[34m\u001b[1m  You can now view your Streamlit app in your browser.\u001b[0m\n",
            "\u001b[0m\n",
            "\u001b[34m  Network URL: \u001b[0m\u001b[1mhttp://172.28.0.2:8501\u001b[0m\n",
            "\u001b[34m  External URL: \u001b[0m\u001b[1mhttp://34.66.233.187:8501\u001b[0m\n",
            "\u001b[0m\n",
            "\u001b[K\u001b[?25hnpx: installed 22 in 3.29s\n",
            "your url is: https://lemon-pants-retire-34-66-233-187.loca.lt\n",
            "\u001b[34m  Stopping...\u001b[0m\n",
            "^C\n"
          ]
        }
      ]
    },
    {
      "cell_type": "code",
      "source": [
        "%%writefile streamlit_app.py \n",
        "import streamlit as st\n",
        "import pandas as pd\n",
        "import plotly.express as px\n",
        "st.write('# Avocado Prices dashboard')  #st.title('Avocado Prices dashboard')\n",
        "# https://markdown-editor.github.io/   This will help build markdown\n",
        "st.markdown('''\n",
        "This is a dashboard showing the *average prices* of different types of :avocado:  \n",
        "Data source: [Kaggle](https://www.kaggle.com/datasets/timmate/avocado-prices-2020)\n",
        "''')\n",
        "st.header('Summary statistics')\n",
        "st.header('Line chart by geographies')\n",
        "st.header('Summary statistics')\n",
        "avocado = pd.read_csv('https://raw.githubusercontent.com/fenago/datasets/main/avocado-updated-2020.csv')\n",
        "avocado_stats = avocado.groupby('type')['average_price'].mean()\n",
        "st.dataframe(avocado_stats)\n",
        "st.header('Line chart by geographies')\n",
        "line_fig = px.line(avocado[avocado['geography'] == 'Los Angeles'],\n",
        "                   x='date', y='average_price',\n",
        "                   color='type',\n",
        "                   title='Avocado Prices in Los Angeles')\n",
        "st.plotly_chart(line_fig)"
      ],
      "metadata": {
        "colab": {
          "base_uri": "https://localhost:8080/"
        },
        "id": "HzPHcYsvktfg",
        "outputId": "16f89df0-4676-41a7-c657-e9f43557bebe"
      },
      "execution_count": null,
      "outputs": [
        {
          "output_type": "stream",
          "name": "stdout",
          "text": [
            "Overwriting streamlit_app.py\n"
          ]
        }
      ]
    },
    {
      "cell_type": "code",
      "source": [
        "!streamlit run /content/streamlit_app.py & npx localtunnel --port 8501 "
      ],
      "metadata": {
        "colab": {
          "base_uri": "https://localhost:8080/"
        },
        "id": "RRvwGHLVxucP",
        "outputId": "d5dfca13-ff47-488c-970c-3c17aebb442a"
      },
      "execution_count": null,
      "outputs": [
        {
          "output_type": "stream",
          "name": "stdout",
          "text": [
            "\u001b[K\u001b[?25hnpx: installed 22 in 3.905s\n",
            "your url is: https://cute-corners-admire-34-66-233-187.loca.lt\n",
            "\n",
            "Collecting usage statistics. To deactivate, set browser.gatherUsageStats to False.\n",
            "\u001b[0m\n",
            "\u001b[0m\n",
            "\u001b[34m\u001b[1m  You can now view your Streamlit app in your browser.\u001b[0m\n",
            "\u001b[0m\n",
            "\u001b[34m  Network URL: \u001b[0m\u001b[1mhttp://172.28.0.2:8501\u001b[0m\n",
            "\u001b[34m  External URL: \u001b[0m\u001b[1mhttp://34.66.233.187:8501\u001b[0m\n",
            "\u001b[0m\n",
            "\u001b[34m  Stopping...\u001b[0m\n",
            "^C\n"
          ]
        }
      ]
    },
    {
      "cell_type": "code",
      "source": [
        "%%writefile streamlit_app.py \n",
        "import streamlit as st\n",
        "import pandas as pd\n",
        "import plotly.express as px\n",
        "st.write('# Avocado Prices dashboard')  #st.title('Avocado Prices dashboard')\n",
        "# https://markdown-editor.github.io/   This will help build markdown\n",
        "st.markdown('''\n",
        "This is a dashboard showing the *average prices* of different types of :avocado:  \n",
        "Data source: [Kaggle](https://www.kaggle.com/datasets/timmate/avocado-prices-2020)\n",
        "''')\n",
        "st.header('Summary statistics')\n",
        "st.header('Line chart by geographies')\n",
        "st.header('Summary statistics')\n",
        "avocado = pd.read_csv('https://raw.githubusercontent.com/fenago/datasets/main/avocado-updated-2020.csv')\n",
        "avocado_stats = avocado.groupby('type')['average_price'].mean()\n",
        "st.dataframe(avocado_stats)\n",
        "st.header('Line chart by geographies')\n",
        "line_fig = px.line(avocado[avocado['geography'] == 'Los Angeles'],\n",
        "                   x='date', y='average_price',\n",
        "                   color='type',\n",
        "                   title='Avocado Prices in Los Angeles')\n",
        "st.plotly_chart(line_fig)\n",
        "selected_geography = st.selectbox(label='Geography', options=avocado['geography'].unique())\n",
        "submitted = st.button('Submit')\n",
        "if submitted:\n",
        "    filtered_avocado = avocado[avocado['geography'] == selected_geography]\n",
        "    line_fig = px.line(filtered_avocado,\n",
        "                       x='date', y='average_price',\n",
        "                       color='type',\n",
        "                       title=f'Avocado Prices in {selected_geography}')\n",
        "    st.plotly_chart(line_fig)\n",
        "\n",
        "with st.form('line_chart'):\n",
        "    selected_geography = st.selectbox(label='Geography', options=avocado['geography'].unique())\n",
        "    submitted = st.form_submit_button('Submit')\n",
        "    if submitted:\n",
        "        filtered_avocado = avocado[avocado['geography'] == selected_geography]\n",
        "        line_fig = px.line(filtered_avocado,\n",
        "                           x='date', y='average_price',\n",
        "                           color='type',\n",
        "                           title=f'Avocado Prices in {selected_geography}')\n",
        "        st.plotly_chart(line_fig)"
      ],
      "metadata": {
        "colab": {
          "base_uri": "https://localhost:8080/"
        },
        "id": "2JRIzbzLyOSd",
        "outputId": "3d433c29-c489-4e7d-c402-48d6818d0bc1"
      },
      "execution_count": null,
      "outputs": [
        {
          "output_type": "stream",
          "name": "stdout",
          "text": [
            "Overwriting streamlit_app.py\n"
          ]
        }
      ]
    },
    {
      "cell_type": "code",
      "source": [
        "!streamlit run /content/streamlit_app.py & npx localtunnel --port 8501 "
      ],
      "metadata": {
        "colab": {
          "base_uri": "https://localhost:8080/"
        },
        "id": "iiIlYD3sySFC",
        "outputId": "8bc420a9-e6a5-46e3-ab2f-7b0efa255d83"
      },
      "execution_count": null,
      "outputs": [
        {
          "output_type": "stream",
          "name": "stdout",
          "text": [
            "\u001b[K\u001b[?25h\n",
            "Collecting usage statistics. To deactivate, set browser.gatherUsageStats to False.\n",
            "\u001b[0m\n",
            "npx: installed 22 in 4.099s\n",
            "\u001b[0m\n",
            "\u001b[34m\u001b[1m  You can now view your Streamlit app in your browser.\u001b[0m\n",
            "\u001b[0m\n",
            "\u001b[34m  Network URL: \u001b[0m\u001b[1mhttp://172.28.0.2:8501\u001b[0m\n",
            "\u001b[34m  External URL: \u001b[0m\u001b[1mhttp://34.66.233.187:8501\u001b[0m\n",
            "\u001b[0m\n",
            "your url is: https://orange-clouds-sleep-34-66-233-187.loca.lt\n",
            "\u001b[34m  Stopping...\u001b[0m\n",
            "^C\n"
          ]
        }
      ]
    },
    {
      "cell_type": "code",
      "source": [
        "%%writefile streamlit_app.py \n",
        "import streamlit as st\n",
        "import pandas as pd\n",
        "import plotly.express as px\n",
        "st.write('# Avocado Prices dashboard')  #st.title('Avocado Prices dashboard')\n",
        "# https://markdown-editor.github.io/   This will help build markdown\n",
        "st.markdown('''\n",
        "This is a dashboard showing the *average prices* of different types of :avocado:  \n",
        "Data source: [Kaggle](https://www.kaggle.com/datasets/timmate/avocado-prices-2020)\n",
        "''')\n",
        "st.header('Summary statistics')\n",
        "st.header('Line chart by geographies')\n",
        "st.header('Summary statistics')\n",
        "avocado = pd.read_csv('https://raw.githubusercontent.com/fenago/datasets/main/avocado-updated-2020.csv')\n",
        "avocado_stats = avocado.groupby('type')['average_price'].mean()\n",
        "st.dataframe(avocado_stats)\n",
        "st.header('Line chart by geographies')\n",
        "line_fig = px.line(avocado[avocado['geography'] == 'Los Angeles'],\n",
        "                   x='date', y='average_price',\n",
        "                   color='type',\n",
        "                   title='Avocado Prices in Los Angeles')\n",
        "st.plotly_chart(line_fig)\n",
        "selected_geography = st.selectbox(label='Geography', options=avocado['geography'].unique())\n",
        "submitted = st.button('Submit')\n",
        "if submitted:\n",
        "    filtered_avocado = avocado[avocado['geography'] == selected_geography]\n",
        "    line_fig = px.line(filtered_avocado,\n",
        "                       x='date', y='average_price',\n",
        "                       color='type',\n",
        "                       title=f'Avocado Prices in {selected_geography}')\n",
        "    st.plotly_chart(line_fig)\n",
        "\n",
        "with st.form('line_chart'):\n",
        "    selected_geography = st.selectbox(label='Geography', options=avocado['geography'].unique())\n",
        "    submitted = st.form_submit_button('Submit')\n",
        "    if submitted:\n",
        "        filtered_avocado = avocado[avocado['geography'] == selected_geography]\n",
        "        line_fig = px.line(filtered_avocado,\n",
        "                           x='date', y='average_price',\n",
        "                           color='type',\n",
        "                           title=f'Avocado Prices in {selected_geography}')\n",
        "        st.plotly_chart(line_fig)\n",
        "\n",
        "with st.sidebar:\n",
        "    st.subheader('About')\n",
        "    st.markdown('This dashboard is made by Dr. Ernesto Lee, using **Streamlit**')\n",
        "\n",
        "st.sidebar.image('https://streamlit.io/images/brand/streamlit-mark-color.png', width=50)\n",
        "\n",
        "@st.cache\n",
        "def load_data(path):\n",
        "    dataset = pd.read_csv(path)\n",
        "    return dataset\n",
        "avocado = load_data('https://raw.githubusercontent.com/fenago/datasets/main/avocado-updated-2020.csv')\n",
        "\n",
        "# display dataframe as a table\n",
        "df = pd.read_csv('https://raw.githubusercontent.com/fenago/datasets/main/avocado-updated-2020.csv')\n",
        "st.dataframe(df)"
      ],
      "metadata": {
        "colab": {
          "base_uri": "https://localhost:8080/"
        },
        "id": "PUQvT5MZy0u3",
        "outputId": "95c35564-3af3-4851-f4a8-acb5dfa8b8c8"
      },
      "execution_count": null,
      "outputs": [
        {
          "output_type": "stream",
          "name": "stdout",
          "text": [
            "Overwriting streamlit_app.py\n"
          ]
        }
      ]
    },
    {
      "cell_type": "code",
      "source": [
        "!streamlit run /content/streamlit_app.py & npx localtunnel --port 8501 "
      ],
      "metadata": {
        "colab": {
          "base_uri": "https://localhost:8080/"
        },
        "id": "WEEph5Ziy6ck",
        "outputId": "4c695355-ef05-4dc6-f346-53eab55033ab"
      },
      "execution_count": null,
      "outputs": [
        {
          "output_type": "stream",
          "name": "stdout",
          "text": [
            "\n",
            "Collecting usage statistics. To deactivate, set browser.gatherUsageStats to False.\n",
            "\u001b[0m\n",
            "\u001b[0m\n",
            "\u001b[34m\u001b[1m  You can now view your Streamlit app in your browser.\u001b[0m\n",
            "\u001b[0m\n",
            "\u001b[34m  Network URL: \u001b[0m\u001b[1mhttp://172.28.0.2:8501\u001b[0m\n",
            "\u001b[34m  External URL: \u001b[0m\u001b[1mhttp://34.66.233.187:8501\u001b[0m\n",
            "\u001b[0m\n",
            "\u001b[K\u001b[?25hnpx: installed 22 in 3.588s\n",
            "your url is: https://plain-dryers-wait-34-66-233-187.loca.lt\n",
            "\u001b[34m  Stopping...\u001b[0m\n",
            "^C\n"
          ]
        }
      ]
    },
    {
      "cell_type": "code",
      "source": [],
      "metadata": {
        "id": "Nfqqfeg02Hco"
      },
      "execution_count": null,
      "outputs": []
    },
    {
      "cell_type": "markdown",
      "source": [
        "# Deploy ML Model on Streamlit"
      ],
      "metadata": {
        "id": "kcs51DKq2qXO"
      }
    },
    {
      "cell_type": "code",
      "source": [
        "%reset -fs\n",
        "import pandas as pd\n",
        "from xgboost import XGBRegressor\n",
        "import seaborn as sns\n",
        "from sklearn.model_selection import train_test_split\n",
        "from sklearn.model_selection import GridSearchCV\n",
        "from sklearn.metrics import mean_absolute_error, mean_squared_error, r2_score\n",
        "import matplotlib.pyplot as plt"
      ],
      "metadata": {
        "id": "atVkX5OA2HXq"
      },
      "execution_count": null,
      "outputs": []
    },
    {
      "cell_type": "code",
      "source": [
        "diamond_df = pd.read_csv('https://raw.githubusercontent.com/fenago/datasets/main/diamonds.csv', index_col=0)\n",
        "diamond_df.head(20)"
      ],
      "metadata": {
        "colab": {
          "base_uri": "https://localhost:8080/",
          "height": 677
        },
        "id": "SEe72or32HR5",
        "outputId": "66d13279-4547-489a-ac67-5c440c8f9ef7"
      },
      "execution_count": null,
      "outputs": [
        {
          "output_type": "execute_result",
          "data": {
            "text/plain": [
              "    carat        cut color clarity  depth  table  price     x     y     z\n",
              "1    0.23      Ideal     E     SI2   61.5   55.0    326  3.95  3.98  2.43\n",
              "2    0.21    Premium     E     SI1   59.8   61.0    326  3.89  3.84  2.31\n",
              "3    0.23       Good     E     VS1   56.9   65.0    327  4.05  4.07  2.31\n",
              "4    0.29    Premium     I     VS2   62.4   58.0    334  4.20  4.23  2.63\n",
              "5    0.31       Good     J     SI2   63.3   58.0    335  4.34  4.35  2.75\n",
              "6    0.24  Very Good     J    VVS2   62.8   57.0    336  3.94  3.96  2.48\n",
              "7    0.24  Very Good     I    VVS1   62.3   57.0    336  3.95  3.98  2.47\n",
              "8    0.26  Very Good     H     SI1   61.9   55.0    337  4.07  4.11  2.53\n",
              "9    0.22       Fair     E     VS2   65.1   61.0    337  3.87  3.78  2.49\n",
              "10   0.23  Very Good     H     VS1   59.4   61.0    338  4.00  4.05  2.39\n",
              "11   0.30       Good     J     SI1   64.0   55.0    339  4.25  4.28  2.73\n",
              "12   0.23      Ideal     J     VS1   62.8   56.0    340  3.93  3.90  2.46\n",
              "13   0.22    Premium     F     SI1   60.4   61.0    342  3.88  3.84  2.33\n",
              "14   0.31      Ideal     J     SI2   62.2   54.0    344  4.35  4.37  2.71\n",
              "15   0.20    Premium     E     SI2   60.2   62.0    345  3.79  3.75  2.27\n",
              "16   0.32    Premium     E      I1   60.9   58.0    345  4.38  4.42  2.68\n",
              "17   0.30      Ideal     I     SI2   62.0   54.0    348  4.31  4.34  2.68\n",
              "18   0.30       Good     J     SI1   63.4   54.0    351  4.23  4.29  2.70\n",
              "19   0.30       Good     J     SI1   63.8   56.0    351  4.23  4.26  2.71\n",
              "20   0.30  Very Good     J     SI1   62.7   59.0    351  4.21  4.27  2.66"
            ],
            "text/html": [
              "\n",
              "  <div id=\"df-9ca4be68-9247-46e0-82be-e9b88caa3137\">\n",
              "    <div class=\"colab-df-container\">\n",
              "      <div>\n",
              "<style scoped>\n",
              "    .dataframe tbody tr th:only-of-type {\n",
              "        vertical-align: middle;\n",
              "    }\n",
              "\n",
              "    .dataframe tbody tr th {\n",
              "        vertical-align: top;\n",
              "    }\n",
              "\n",
              "    .dataframe thead th {\n",
              "        text-align: right;\n",
              "    }\n",
              "</style>\n",
              "<table border=\"1\" class=\"dataframe\">\n",
              "  <thead>\n",
              "    <tr style=\"text-align: right;\">\n",
              "      <th></th>\n",
              "      <th>carat</th>\n",
              "      <th>cut</th>\n",
              "      <th>color</th>\n",
              "      <th>clarity</th>\n",
              "      <th>depth</th>\n",
              "      <th>table</th>\n",
              "      <th>price</th>\n",
              "      <th>x</th>\n",
              "      <th>y</th>\n",
              "      <th>z</th>\n",
              "    </tr>\n",
              "  </thead>\n",
              "  <tbody>\n",
              "    <tr>\n",
              "      <th>1</th>\n",
              "      <td>0.23</td>\n",
              "      <td>Ideal</td>\n",
              "      <td>E</td>\n",
              "      <td>SI2</td>\n",
              "      <td>61.5</td>\n",
              "      <td>55.0</td>\n",
              "      <td>326</td>\n",
              "      <td>3.95</td>\n",
              "      <td>3.98</td>\n",
              "      <td>2.43</td>\n",
              "    </tr>\n",
              "    <tr>\n",
              "      <th>2</th>\n",
              "      <td>0.21</td>\n",
              "      <td>Premium</td>\n",
              "      <td>E</td>\n",
              "      <td>SI1</td>\n",
              "      <td>59.8</td>\n",
              "      <td>61.0</td>\n",
              "      <td>326</td>\n",
              "      <td>3.89</td>\n",
              "      <td>3.84</td>\n",
              "      <td>2.31</td>\n",
              "    </tr>\n",
              "    <tr>\n",
              "      <th>3</th>\n",
              "      <td>0.23</td>\n",
              "      <td>Good</td>\n",
              "      <td>E</td>\n",
              "      <td>VS1</td>\n",
              "      <td>56.9</td>\n",
              "      <td>65.0</td>\n",
              "      <td>327</td>\n",
              "      <td>4.05</td>\n",
              "      <td>4.07</td>\n",
              "      <td>2.31</td>\n",
              "    </tr>\n",
              "    <tr>\n",
              "      <th>4</th>\n",
              "      <td>0.29</td>\n",
              "      <td>Premium</td>\n",
              "      <td>I</td>\n",
              "      <td>VS2</td>\n",
              "      <td>62.4</td>\n",
              "      <td>58.0</td>\n",
              "      <td>334</td>\n",
              "      <td>4.20</td>\n",
              "      <td>4.23</td>\n",
              "      <td>2.63</td>\n",
              "    </tr>\n",
              "    <tr>\n",
              "      <th>5</th>\n",
              "      <td>0.31</td>\n",
              "      <td>Good</td>\n",
              "      <td>J</td>\n",
              "      <td>SI2</td>\n",
              "      <td>63.3</td>\n",
              "      <td>58.0</td>\n",
              "      <td>335</td>\n",
              "      <td>4.34</td>\n",
              "      <td>4.35</td>\n",
              "      <td>2.75</td>\n",
              "    </tr>\n",
              "    <tr>\n",
              "      <th>6</th>\n",
              "      <td>0.24</td>\n",
              "      <td>Very Good</td>\n",
              "      <td>J</td>\n",
              "      <td>VVS2</td>\n",
              "      <td>62.8</td>\n",
              "      <td>57.0</td>\n",
              "      <td>336</td>\n",
              "      <td>3.94</td>\n",
              "      <td>3.96</td>\n",
              "      <td>2.48</td>\n",
              "    </tr>\n",
              "    <tr>\n",
              "      <th>7</th>\n",
              "      <td>0.24</td>\n",
              "      <td>Very Good</td>\n",
              "      <td>I</td>\n",
              "      <td>VVS1</td>\n",
              "      <td>62.3</td>\n",
              "      <td>57.0</td>\n",
              "      <td>336</td>\n",
              "      <td>3.95</td>\n",
              "      <td>3.98</td>\n",
              "      <td>2.47</td>\n",
              "    </tr>\n",
              "    <tr>\n",
              "      <th>8</th>\n",
              "      <td>0.26</td>\n",
              "      <td>Very Good</td>\n",
              "      <td>H</td>\n",
              "      <td>SI1</td>\n",
              "      <td>61.9</td>\n",
              "      <td>55.0</td>\n",
              "      <td>337</td>\n",
              "      <td>4.07</td>\n",
              "      <td>4.11</td>\n",
              "      <td>2.53</td>\n",
              "    </tr>\n",
              "    <tr>\n",
              "      <th>9</th>\n",
              "      <td>0.22</td>\n",
              "      <td>Fair</td>\n",
              "      <td>E</td>\n",
              "      <td>VS2</td>\n",
              "      <td>65.1</td>\n",
              "      <td>61.0</td>\n",
              "      <td>337</td>\n",
              "      <td>3.87</td>\n",
              "      <td>3.78</td>\n",
              "      <td>2.49</td>\n",
              "    </tr>\n",
              "    <tr>\n",
              "      <th>10</th>\n",
              "      <td>0.23</td>\n",
              "      <td>Very Good</td>\n",
              "      <td>H</td>\n",
              "      <td>VS1</td>\n",
              "      <td>59.4</td>\n",
              "      <td>61.0</td>\n",
              "      <td>338</td>\n",
              "      <td>4.00</td>\n",
              "      <td>4.05</td>\n",
              "      <td>2.39</td>\n",
              "    </tr>\n",
              "    <tr>\n",
              "      <th>11</th>\n",
              "      <td>0.30</td>\n",
              "      <td>Good</td>\n",
              "      <td>J</td>\n",
              "      <td>SI1</td>\n",
              "      <td>64.0</td>\n",
              "      <td>55.0</td>\n",
              "      <td>339</td>\n",
              "      <td>4.25</td>\n",
              "      <td>4.28</td>\n",
              "      <td>2.73</td>\n",
              "    </tr>\n",
              "    <tr>\n",
              "      <th>12</th>\n",
              "      <td>0.23</td>\n",
              "      <td>Ideal</td>\n",
              "      <td>J</td>\n",
              "      <td>VS1</td>\n",
              "      <td>62.8</td>\n",
              "      <td>56.0</td>\n",
              "      <td>340</td>\n",
              "      <td>3.93</td>\n",
              "      <td>3.90</td>\n",
              "      <td>2.46</td>\n",
              "    </tr>\n",
              "    <tr>\n",
              "      <th>13</th>\n",
              "      <td>0.22</td>\n",
              "      <td>Premium</td>\n",
              "      <td>F</td>\n",
              "      <td>SI1</td>\n",
              "      <td>60.4</td>\n",
              "      <td>61.0</td>\n",
              "      <td>342</td>\n",
              "      <td>3.88</td>\n",
              "      <td>3.84</td>\n",
              "      <td>2.33</td>\n",
              "    </tr>\n",
              "    <tr>\n",
              "      <th>14</th>\n",
              "      <td>0.31</td>\n",
              "      <td>Ideal</td>\n",
              "      <td>J</td>\n",
              "      <td>SI2</td>\n",
              "      <td>62.2</td>\n",
              "      <td>54.0</td>\n",
              "      <td>344</td>\n",
              "      <td>4.35</td>\n",
              "      <td>4.37</td>\n",
              "      <td>2.71</td>\n",
              "    </tr>\n",
              "    <tr>\n",
              "      <th>15</th>\n",
              "      <td>0.20</td>\n",
              "      <td>Premium</td>\n",
              "      <td>E</td>\n",
              "      <td>SI2</td>\n",
              "      <td>60.2</td>\n",
              "      <td>62.0</td>\n",
              "      <td>345</td>\n",
              "      <td>3.79</td>\n",
              "      <td>3.75</td>\n",
              "      <td>2.27</td>\n",
              "    </tr>\n",
              "    <tr>\n",
              "      <th>16</th>\n",
              "      <td>0.32</td>\n",
              "      <td>Premium</td>\n",
              "      <td>E</td>\n",
              "      <td>I1</td>\n",
              "      <td>60.9</td>\n",
              "      <td>58.0</td>\n",
              "      <td>345</td>\n",
              "      <td>4.38</td>\n",
              "      <td>4.42</td>\n",
              "      <td>2.68</td>\n",
              "    </tr>\n",
              "    <tr>\n",
              "      <th>17</th>\n",
              "      <td>0.30</td>\n",
              "      <td>Ideal</td>\n",
              "      <td>I</td>\n",
              "      <td>SI2</td>\n",
              "      <td>62.0</td>\n",
              "      <td>54.0</td>\n",
              "      <td>348</td>\n",
              "      <td>4.31</td>\n",
              "      <td>4.34</td>\n",
              "      <td>2.68</td>\n",
              "    </tr>\n",
              "    <tr>\n",
              "      <th>18</th>\n",
              "      <td>0.30</td>\n",
              "      <td>Good</td>\n",
              "      <td>J</td>\n",
              "      <td>SI1</td>\n",
              "      <td>63.4</td>\n",
              "      <td>54.0</td>\n",
              "      <td>351</td>\n",
              "      <td>4.23</td>\n",
              "      <td>4.29</td>\n",
              "      <td>2.70</td>\n",
              "    </tr>\n",
              "    <tr>\n",
              "      <th>19</th>\n",
              "      <td>0.30</td>\n",
              "      <td>Good</td>\n",
              "      <td>J</td>\n",
              "      <td>SI1</td>\n",
              "      <td>63.8</td>\n",
              "      <td>56.0</td>\n",
              "      <td>351</td>\n",
              "      <td>4.23</td>\n",
              "      <td>4.26</td>\n",
              "      <td>2.71</td>\n",
              "    </tr>\n",
              "    <tr>\n",
              "      <th>20</th>\n",
              "      <td>0.30</td>\n",
              "      <td>Very Good</td>\n",
              "      <td>J</td>\n",
              "      <td>SI1</td>\n",
              "      <td>62.7</td>\n",
              "      <td>59.0</td>\n",
              "      <td>351</td>\n",
              "      <td>4.21</td>\n",
              "      <td>4.27</td>\n",
              "      <td>2.66</td>\n",
              "    </tr>\n",
              "  </tbody>\n",
              "</table>\n",
              "</div>\n",
              "      <button class=\"colab-df-convert\" onclick=\"convertToInteractive('df-9ca4be68-9247-46e0-82be-e9b88caa3137')\"\n",
              "              title=\"Convert this dataframe to an interactive table.\"\n",
              "              style=\"display:none;\">\n",
              "        \n",
              "  <svg xmlns=\"http://www.w3.org/2000/svg\" height=\"24px\"viewBox=\"0 0 24 24\"\n",
              "       width=\"24px\">\n",
              "    <path d=\"M0 0h24v24H0V0z\" fill=\"none\"/>\n",
              "    <path d=\"M18.56 5.44l.94 2.06.94-2.06 2.06-.94-2.06-.94-.94-2.06-.94 2.06-2.06.94zm-11 1L8.5 8.5l.94-2.06 2.06-.94-2.06-.94L8.5 2.5l-.94 2.06-2.06.94zm10 10l.94 2.06.94-2.06 2.06-.94-2.06-.94-.94-2.06-.94 2.06-2.06.94z\"/><path d=\"M17.41 7.96l-1.37-1.37c-.4-.4-.92-.59-1.43-.59-.52 0-1.04.2-1.43.59L10.3 9.45l-7.72 7.72c-.78.78-.78 2.05 0 2.83L4 21.41c.39.39.9.59 1.41.59.51 0 1.02-.2 1.41-.59l7.78-7.78 2.81-2.81c.8-.78.8-2.07 0-2.86zM5.41 20L4 18.59l7.72-7.72 1.47 1.35L5.41 20z\"/>\n",
              "  </svg>\n",
              "      </button>\n",
              "      \n",
              "  <style>\n",
              "    .colab-df-container {\n",
              "      display:flex;\n",
              "      flex-wrap:wrap;\n",
              "      gap: 12px;\n",
              "    }\n",
              "\n",
              "    .colab-df-convert {\n",
              "      background-color: #E8F0FE;\n",
              "      border: none;\n",
              "      border-radius: 50%;\n",
              "      cursor: pointer;\n",
              "      display: none;\n",
              "      fill: #1967D2;\n",
              "      height: 32px;\n",
              "      padding: 0 0 0 0;\n",
              "      width: 32px;\n",
              "    }\n",
              "\n",
              "    .colab-df-convert:hover {\n",
              "      background-color: #E2EBFA;\n",
              "      box-shadow: 0px 1px 2px rgba(60, 64, 67, 0.3), 0px 1px 3px 1px rgba(60, 64, 67, 0.15);\n",
              "      fill: #174EA6;\n",
              "    }\n",
              "\n",
              "    [theme=dark] .colab-df-convert {\n",
              "      background-color: #3B4455;\n",
              "      fill: #D2E3FC;\n",
              "    }\n",
              "\n",
              "    [theme=dark] .colab-df-convert:hover {\n",
              "      background-color: #434B5C;\n",
              "      box-shadow: 0px 1px 3px 1px rgba(0, 0, 0, 0.15);\n",
              "      filter: drop-shadow(0px 1px 2px rgba(0, 0, 0, 0.3));\n",
              "      fill: #FFFFFF;\n",
              "    }\n",
              "  </style>\n",
              "\n",
              "      <script>\n",
              "        const buttonEl =\n",
              "          document.querySelector('#df-9ca4be68-9247-46e0-82be-e9b88caa3137 button.colab-df-convert');\n",
              "        buttonEl.style.display =\n",
              "          google.colab.kernel.accessAllowed ? 'block' : 'none';\n",
              "\n",
              "        async function convertToInteractive(key) {\n",
              "          const element = document.querySelector('#df-9ca4be68-9247-46e0-82be-e9b88caa3137');\n",
              "          const dataTable =\n",
              "            await google.colab.kernel.invokeFunction('convertToInteractive',\n",
              "                                                     [key], {});\n",
              "          if (!dataTable) return;\n",
              "\n",
              "          const docLinkHtml = 'Like what you see? Visit the ' +\n",
              "            '<a target=\"_blank\" href=https://colab.research.google.com/notebooks/data_table.ipynb>data table notebook</a>'\n",
              "            + ' to learn more about interactive tables.';\n",
              "          element.innerHTML = '';\n",
              "          dataTable['output_type'] = 'display_data';\n",
              "          await google.colab.output.renderOutput(dataTable, element);\n",
              "          const docLink = document.createElement('div');\n",
              "          docLink.innerHTML = docLinkHtml;\n",
              "          element.appendChild(docLink);\n",
              "        }\n",
              "      </script>\n",
              "    </div>\n",
              "  </div>\n",
              "  "
            ]
          },
          "metadata": {},
          "execution_count": 31
        }
      ]
    },
    {
      "cell_type": "code",
      "source": [
        "diamond_df.shape"
      ],
      "metadata": {
        "colab": {
          "base_uri": "https://localhost:8080/"
        },
        "id": "j9V8Ytrl3Rs2",
        "outputId": "9a632515-e511-426c-b062-af060f6b67fd"
      },
      "execution_count": null,
      "outputs": [
        {
          "output_type": "execute_result",
          "data": {
            "text/plain": [
              "(53940, 10)"
            ]
          },
          "metadata": {},
          "execution_count": 32
        }
      ]
    },
    {
      "cell_type": "code",
      "source": [
        "diamond_df.isna().sum()"
      ],
      "metadata": {
        "colab": {
          "base_uri": "https://localhost:8080/"
        },
        "id": "Ruprd3wo2HM0",
        "outputId": "683e4227-a0cb-41ef-b495-f5f8c10f2a01"
      },
      "execution_count": null,
      "outputs": [
        {
          "output_type": "execute_result",
          "data": {
            "text/plain": [
              "carat      0\n",
              "cut        0\n",
              "color      0\n",
              "clarity    0\n",
              "depth      0\n",
              "table      0\n",
              "price      0\n",
              "x          0\n",
              "y          0\n",
              "z          0\n",
              "dtype: int64"
            ]
          },
          "metadata": {},
          "execution_count": 33
        }
      ]
    },
    {
      "cell_type": "code",
      "source": [
        "diamond_df.dtypes"
      ],
      "metadata": {
        "colab": {
          "base_uri": "https://localhost:8080/"
        },
        "id": "mWo4WIpZ3kAx",
        "outputId": "1550e6ec-51b1-48cf-8364-c4cebe422dc9"
      },
      "execution_count": null,
      "outputs": [
        {
          "output_type": "execute_result",
          "data": {
            "text/plain": [
              "carat      float64\n",
              "cut         object\n",
              "color       object\n",
              "clarity     object\n",
              "depth      float64\n",
              "table      float64\n",
              "price        int64\n",
              "x          float64\n",
              "y          float64\n",
              "z          float64\n",
              "dtype: object"
            ]
          },
          "metadata": {},
          "execution_count": 34
        }
      ]
    },
    {
      "cell_type": "code",
      "source": [
        "diamond_df.cut.value_counts()"
      ],
      "metadata": {
        "colab": {
          "base_uri": "https://localhost:8080/"
        },
        "id": "aCkt42bu3j8O",
        "outputId": "9f192044-c239-4568-a594-2796602fdc05"
      },
      "execution_count": null,
      "outputs": [
        {
          "output_type": "execute_result",
          "data": {
            "text/plain": [
              "Ideal        21551\n",
              "Premium      13791\n",
              "Very Good    12082\n",
              "Good          4906\n",
              "Fair          1610\n",
              "Name: cut, dtype: int64"
            ]
          },
          "metadata": {},
          "execution_count": 35
        }
      ]
    },
    {
      "cell_type": "code",
      "source": [
        "# Encode the ordinal categorical variable 'cut'\n",
        "cut_mapping = {'Fair': 0, 'Good': 1, 'Very Good': 2, 'Premium': 3, 'Ideal': 4}\n",
        "diamond_df.cut = diamond_df.cut.map(cut_mapping)"
      ],
      "metadata": {
        "id": "sFAHx5CY3j2k"
      },
      "execution_count": null,
      "outputs": []
    },
    {
      "cell_type": "code",
      "source": [
        "diamond_df.color.value_counts()"
      ],
      "metadata": {
        "colab": {
          "base_uri": "https://localhost:8080/"
        },
        "id": "hvpcB0004NJ2",
        "outputId": "9c62ebdf-90a9-4b9f-9fb5-4ab83414f235"
      },
      "execution_count": null,
      "outputs": [
        {
          "output_type": "execute_result",
          "data": {
            "text/plain": [
              "G    11292\n",
              "E     9797\n",
              "F     9542\n",
              "H     8304\n",
              "D     6775\n",
              "I     5422\n",
              "J     2808\n",
              "Name: color, dtype: int64"
            ]
          },
          "metadata": {},
          "execution_count": 37
        }
      ]
    },
    {
      "cell_type": "code",
      "source": [
        "# Encoding the ordinal categorical variable 'color'\n",
        "color_mapping = {'J': 0, 'I': 1, 'H': 2, 'G': 3, 'F': 4, 'E': 5, 'D': 6}\n",
        "diamond_df.color = diamond_df.color.map(color_mapping)"
      ],
      "metadata": {
        "id": "5vH8HSfX4NDH"
      },
      "execution_count": null,
      "outputs": []
    },
    {
      "cell_type": "code",
      "source": [
        "diamond_df.clarity.value_counts()"
      ],
      "metadata": {
        "colab": {
          "base_uri": "https://localhost:8080/"
        },
        "id": "-OYxzW954M8B",
        "outputId": "3d0a8108-00f5-465f-e115-7dcb3f797fde"
      },
      "execution_count": null,
      "outputs": [
        {
          "output_type": "execute_result",
          "data": {
            "text/plain": [
              "SI1     13065\n",
              "VS2     12258\n",
              "SI2      9194\n",
              "VS1      8171\n",
              "VVS2     5066\n",
              "VVS1     3655\n",
              "IF       1790\n",
              "I1        741\n",
              "Name: clarity, dtype: int64"
            ]
          },
          "metadata": {},
          "execution_count": 39
        }
      ]
    },
    {
      "cell_type": "code",
      "source": [
        "# Encoding the ordinal cateogircal variable 'clarity'\n",
        "clarity_mapping = {'I1': 0, 'SI2': 1, 'SI1': 2, 'VS2': 3, 'VS1': 4, 'VVS2': 5, 'VVS1': 6, 'IF': 7}\n",
        "diamond_df.clarity = diamond_df.clarity.map(clarity_mapping)"
      ],
      "metadata": {
        "id": "31LpJs_d4M27"
      },
      "execution_count": null,
      "outputs": []
    },
    {
      "cell_type": "code",
      "source": [
        "diamond_df.head()"
      ],
      "metadata": {
        "colab": {
          "base_uri": "https://localhost:8080/",
          "height": 206
        },
        "id": "AbsVoZ294MxK",
        "outputId": "6fb01a3f-a64c-4dc6-aaaa-e0777f0079e9"
      },
      "execution_count": null,
      "outputs": [
        {
          "output_type": "execute_result",
          "data": {
            "text/plain": [
              "   carat  cut  color  clarity  depth  table  price     x     y     z\n",
              "1   0.23    4      5        1   61.5   55.0    326  3.95  3.98  2.43\n",
              "2   0.21    3      5        2   59.8   61.0    326  3.89  3.84  2.31\n",
              "3   0.23    1      5        4   56.9   65.0    327  4.05  4.07  2.31\n",
              "4   0.29    3      1        3   62.4   58.0    334  4.20  4.23  2.63\n",
              "5   0.31    1      0        1   63.3   58.0    335  4.34  4.35  2.75"
            ],
            "text/html": [
              "\n",
              "  <div id=\"df-301b5e4c-e66d-46aa-86ea-6e11ef319eca\">\n",
              "    <div class=\"colab-df-container\">\n",
              "      <div>\n",
              "<style scoped>\n",
              "    .dataframe tbody tr th:only-of-type {\n",
              "        vertical-align: middle;\n",
              "    }\n",
              "\n",
              "    .dataframe tbody tr th {\n",
              "        vertical-align: top;\n",
              "    }\n",
              "\n",
              "    .dataframe thead th {\n",
              "        text-align: right;\n",
              "    }\n",
              "</style>\n",
              "<table border=\"1\" class=\"dataframe\">\n",
              "  <thead>\n",
              "    <tr style=\"text-align: right;\">\n",
              "      <th></th>\n",
              "      <th>carat</th>\n",
              "      <th>cut</th>\n",
              "      <th>color</th>\n",
              "      <th>clarity</th>\n",
              "      <th>depth</th>\n",
              "      <th>table</th>\n",
              "      <th>price</th>\n",
              "      <th>x</th>\n",
              "      <th>y</th>\n",
              "      <th>z</th>\n",
              "    </tr>\n",
              "  </thead>\n",
              "  <tbody>\n",
              "    <tr>\n",
              "      <th>1</th>\n",
              "      <td>0.23</td>\n",
              "      <td>4</td>\n",
              "      <td>5</td>\n",
              "      <td>1</td>\n",
              "      <td>61.5</td>\n",
              "      <td>55.0</td>\n",
              "      <td>326</td>\n",
              "      <td>3.95</td>\n",
              "      <td>3.98</td>\n",
              "      <td>2.43</td>\n",
              "    </tr>\n",
              "    <tr>\n",
              "      <th>2</th>\n",
              "      <td>0.21</td>\n",
              "      <td>3</td>\n",
              "      <td>5</td>\n",
              "      <td>2</td>\n",
              "      <td>59.8</td>\n",
              "      <td>61.0</td>\n",
              "      <td>326</td>\n",
              "      <td>3.89</td>\n",
              "      <td>3.84</td>\n",
              "      <td>2.31</td>\n",
              "    </tr>\n",
              "    <tr>\n",
              "      <th>3</th>\n",
              "      <td>0.23</td>\n",
              "      <td>1</td>\n",
              "      <td>5</td>\n",
              "      <td>4</td>\n",
              "      <td>56.9</td>\n",
              "      <td>65.0</td>\n",
              "      <td>327</td>\n",
              "      <td>4.05</td>\n",
              "      <td>4.07</td>\n",
              "      <td>2.31</td>\n",
              "    </tr>\n",
              "    <tr>\n",
              "      <th>4</th>\n",
              "      <td>0.29</td>\n",
              "      <td>3</td>\n",
              "      <td>1</td>\n",
              "      <td>3</td>\n",
              "      <td>62.4</td>\n",
              "      <td>58.0</td>\n",
              "      <td>334</td>\n",
              "      <td>4.20</td>\n",
              "      <td>4.23</td>\n",
              "      <td>2.63</td>\n",
              "    </tr>\n",
              "    <tr>\n",
              "      <th>5</th>\n",
              "      <td>0.31</td>\n",
              "      <td>1</td>\n",
              "      <td>0</td>\n",
              "      <td>1</td>\n",
              "      <td>63.3</td>\n",
              "      <td>58.0</td>\n",
              "      <td>335</td>\n",
              "      <td>4.34</td>\n",
              "      <td>4.35</td>\n",
              "      <td>2.75</td>\n",
              "    </tr>\n",
              "  </tbody>\n",
              "</table>\n",
              "</div>\n",
              "      <button class=\"colab-df-convert\" onclick=\"convertToInteractive('df-301b5e4c-e66d-46aa-86ea-6e11ef319eca')\"\n",
              "              title=\"Convert this dataframe to an interactive table.\"\n",
              "              style=\"display:none;\">\n",
              "        \n",
              "  <svg xmlns=\"http://www.w3.org/2000/svg\" height=\"24px\"viewBox=\"0 0 24 24\"\n",
              "       width=\"24px\">\n",
              "    <path d=\"M0 0h24v24H0V0z\" fill=\"none\"/>\n",
              "    <path d=\"M18.56 5.44l.94 2.06.94-2.06 2.06-.94-2.06-.94-.94-2.06-.94 2.06-2.06.94zm-11 1L8.5 8.5l.94-2.06 2.06-.94-2.06-.94L8.5 2.5l-.94 2.06-2.06.94zm10 10l.94 2.06.94-2.06 2.06-.94-2.06-.94-.94-2.06-.94 2.06-2.06.94z\"/><path d=\"M17.41 7.96l-1.37-1.37c-.4-.4-.92-.59-1.43-.59-.52 0-1.04.2-1.43.59L10.3 9.45l-7.72 7.72c-.78.78-.78 2.05 0 2.83L4 21.41c.39.39.9.59 1.41.59.51 0 1.02-.2 1.41-.59l7.78-7.78 2.81-2.81c.8-.78.8-2.07 0-2.86zM5.41 20L4 18.59l7.72-7.72 1.47 1.35L5.41 20z\"/>\n",
              "  </svg>\n",
              "      </button>\n",
              "      \n",
              "  <style>\n",
              "    .colab-df-container {\n",
              "      display:flex;\n",
              "      flex-wrap:wrap;\n",
              "      gap: 12px;\n",
              "    }\n",
              "\n",
              "    .colab-df-convert {\n",
              "      background-color: #E8F0FE;\n",
              "      border: none;\n",
              "      border-radius: 50%;\n",
              "      cursor: pointer;\n",
              "      display: none;\n",
              "      fill: #1967D2;\n",
              "      height: 32px;\n",
              "      padding: 0 0 0 0;\n",
              "      width: 32px;\n",
              "    }\n",
              "\n",
              "    .colab-df-convert:hover {\n",
              "      background-color: #E2EBFA;\n",
              "      box-shadow: 0px 1px 2px rgba(60, 64, 67, 0.3), 0px 1px 3px 1px rgba(60, 64, 67, 0.15);\n",
              "      fill: #174EA6;\n",
              "    }\n",
              "\n",
              "    [theme=dark] .colab-df-convert {\n",
              "      background-color: #3B4455;\n",
              "      fill: #D2E3FC;\n",
              "    }\n",
              "\n",
              "    [theme=dark] .colab-df-convert:hover {\n",
              "      background-color: #434B5C;\n",
              "      box-shadow: 0px 1px 3px 1px rgba(0, 0, 0, 0.15);\n",
              "      filter: drop-shadow(0px 1px 2px rgba(0, 0, 0, 0.3));\n",
              "      fill: #FFFFFF;\n",
              "    }\n",
              "  </style>\n",
              "\n",
              "      <script>\n",
              "        const buttonEl =\n",
              "          document.querySelector('#df-301b5e4c-e66d-46aa-86ea-6e11ef319eca button.colab-df-convert');\n",
              "        buttonEl.style.display =\n",
              "          google.colab.kernel.accessAllowed ? 'block' : 'none';\n",
              "\n",
              "        async function convertToInteractive(key) {\n",
              "          const element = document.querySelector('#df-301b5e4c-e66d-46aa-86ea-6e11ef319eca');\n",
              "          const dataTable =\n",
              "            await google.colab.kernel.invokeFunction('convertToInteractive',\n",
              "                                                     [key], {});\n",
              "          if (!dataTable) return;\n",
              "\n",
              "          const docLinkHtml = 'Like what you see? Visit the ' +\n",
              "            '<a target=\"_blank\" href=https://colab.research.google.com/notebooks/data_table.ipynb>data table notebook</a>'\n",
              "            + ' to learn more about interactive tables.';\n",
              "          element.innerHTML = '';\n",
              "          dataTable['output_type'] = 'display_data';\n",
              "          await google.colab.output.renderOutput(dataTable, element);\n",
              "          const docLink = document.createElement('div');\n",
              "          docLink.innerHTML = docLinkHtml;\n",
              "          element.appendChild(docLink);\n",
              "        }\n",
              "      </script>\n",
              "    </div>\n",
              "  </div>\n",
              "  "
            ]
          },
          "metadata": {},
          "execution_count": 41
        }
      ]
    },
    {
      "cell_type": "code",
      "source": [
        "diamond_df.describe()"
      ],
      "metadata": {
        "colab": {
          "base_uri": "https://localhost:8080/",
          "height": 364
        },
        "id": "2teP3Srv3jzS",
        "outputId": "9ecf217a-6958-4dc6-8174-4f4d5b21cf7b"
      },
      "execution_count": null,
      "outputs": [
        {
          "output_type": "execute_result",
          "data": {
            "text/plain": [
              "              carat           cut         color       clarity         depth  \\\n",
              "count  53940.000000  53940.000000  53940.000000  53940.000000  53940.000000   \n",
              "mean       0.797940      2.904097      3.405803      3.051020     61.749405   \n",
              "std        0.474011      1.116600      1.701105      1.647136      1.432621   \n",
              "min        0.200000      0.000000      0.000000      0.000000     43.000000   \n",
              "25%        0.400000      2.000000      2.000000      2.000000     61.000000   \n",
              "50%        0.700000      3.000000      3.000000      3.000000     61.800000   \n",
              "75%        1.040000      4.000000      5.000000      4.000000     62.500000   \n",
              "max        5.010000      4.000000      6.000000      7.000000     79.000000   \n",
              "\n",
              "              table         price             x             y             z  \n",
              "count  53940.000000  53940.000000  53940.000000  53940.000000  53940.000000  \n",
              "mean      57.457184   3932.799722      5.731157      5.734526      3.538734  \n",
              "std        2.234491   3989.439738      1.121761      1.142135      0.705699  \n",
              "min       43.000000    326.000000      0.000000      0.000000      0.000000  \n",
              "25%       56.000000    950.000000      4.710000      4.720000      2.910000  \n",
              "50%       57.000000   2401.000000      5.700000      5.710000      3.530000  \n",
              "75%       59.000000   5324.250000      6.540000      6.540000      4.040000  \n",
              "max       95.000000  18823.000000     10.740000     58.900000     31.800000  "
            ],
            "text/html": [
              "\n",
              "  <div id=\"df-6344b20a-b8cc-409a-b382-105d14969d56\">\n",
              "    <div class=\"colab-df-container\">\n",
              "      <div>\n",
              "<style scoped>\n",
              "    .dataframe tbody tr th:only-of-type {\n",
              "        vertical-align: middle;\n",
              "    }\n",
              "\n",
              "    .dataframe tbody tr th {\n",
              "        vertical-align: top;\n",
              "    }\n",
              "\n",
              "    .dataframe thead th {\n",
              "        text-align: right;\n",
              "    }\n",
              "</style>\n",
              "<table border=\"1\" class=\"dataframe\">\n",
              "  <thead>\n",
              "    <tr style=\"text-align: right;\">\n",
              "      <th></th>\n",
              "      <th>carat</th>\n",
              "      <th>cut</th>\n",
              "      <th>color</th>\n",
              "      <th>clarity</th>\n",
              "      <th>depth</th>\n",
              "      <th>table</th>\n",
              "      <th>price</th>\n",
              "      <th>x</th>\n",
              "      <th>y</th>\n",
              "      <th>z</th>\n",
              "    </tr>\n",
              "  </thead>\n",
              "  <tbody>\n",
              "    <tr>\n",
              "      <th>count</th>\n",
              "      <td>53940.000000</td>\n",
              "      <td>53940.000000</td>\n",
              "      <td>53940.000000</td>\n",
              "      <td>53940.000000</td>\n",
              "      <td>53940.000000</td>\n",
              "      <td>53940.000000</td>\n",
              "      <td>53940.000000</td>\n",
              "      <td>53940.000000</td>\n",
              "      <td>53940.000000</td>\n",
              "      <td>53940.000000</td>\n",
              "    </tr>\n",
              "    <tr>\n",
              "      <th>mean</th>\n",
              "      <td>0.797940</td>\n",
              "      <td>2.904097</td>\n",
              "      <td>3.405803</td>\n",
              "      <td>3.051020</td>\n",
              "      <td>61.749405</td>\n",
              "      <td>57.457184</td>\n",
              "      <td>3932.799722</td>\n",
              "      <td>5.731157</td>\n",
              "      <td>5.734526</td>\n",
              "      <td>3.538734</td>\n",
              "    </tr>\n",
              "    <tr>\n",
              "      <th>std</th>\n",
              "      <td>0.474011</td>\n",
              "      <td>1.116600</td>\n",
              "      <td>1.701105</td>\n",
              "      <td>1.647136</td>\n",
              "      <td>1.432621</td>\n",
              "      <td>2.234491</td>\n",
              "      <td>3989.439738</td>\n",
              "      <td>1.121761</td>\n",
              "      <td>1.142135</td>\n",
              "      <td>0.705699</td>\n",
              "    </tr>\n",
              "    <tr>\n",
              "      <th>min</th>\n",
              "      <td>0.200000</td>\n",
              "      <td>0.000000</td>\n",
              "      <td>0.000000</td>\n",
              "      <td>0.000000</td>\n",
              "      <td>43.000000</td>\n",
              "      <td>43.000000</td>\n",
              "      <td>326.000000</td>\n",
              "      <td>0.000000</td>\n",
              "      <td>0.000000</td>\n",
              "      <td>0.000000</td>\n",
              "    </tr>\n",
              "    <tr>\n",
              "      <th>25%</th>\n",
              "      <td>0.400000</td>\n",
              "      <td>2.000000</td>\n",
              "      <td>2.000000</td>\n",
              "      <td>2.000000</td>\n",
              "      <td>61.000000</td>\n",
              "      <td>56.000000</td>\n",
              "      <td>950.000000</td>\n",
              "      <td>4.710000</td>\n",
              "      <td>4.720000</td>\n",
              "      <td>2.910000</td>\n",
              "    </tr>\n",
              "    <tr>\n",
              "      <th>50%</th>\n",
              "      <td>0.700000</td>\n",
              "      <td>3.000000</td>\n",
              "      <td>3.000000</td>\n",
              "      <td>3.000000</td>\n",
              "      <td>61.800000</td>\n",
              "      <td>57.000000</td>\n",
              "      <td>2401.000000</td>\n",
              "      <td>5.700000</td>\n",
              "      <td>5.710000</td>\n",
              "      <td>3.530000</td>\n",
              "    </tr>\n",
              "    <tr>\n",
              "      <th>75%</th>\n",
              "      <td>1.040000</td>\n",
              "      <td>4.000000</td>\n",
              "      <td>5.000000</td>\n",
              "      <td>4.000000</td>\n",
              "      <td>62.500000</td>\n",
              "      <td>59.000000</td>\n",
              "      <td>5324.250000</td>\n",
              "      <td>6.540000</td>\n",
              "      <td>6.540000</td>\n",
              "      <td>4.040000</td>\n",
              "    </tr>\n",
              "    <tr>\n",
              "      <th>max</th>\n",
              "      <td>5.010000</td>\n",
              "      <td>4.000000</td>\n",
              "      <td>6.000000</td>\n",
              "      <td>7.000000</td>\n",
              "      <td>79.000000</td>\n",
              "      <td>95.000000</td>\n",
              "      <td>18823.000000</td>\n",
              "      <td>10.740000</td>\n",
              "      <td>58.900000</td>\n",
              "      <td>31.800000</td>\n",
              "    </tr>\n",
              "  </tbody>\n",
              "</table>\n",
              "</div>\n",
              "      <button class=\"colab-df-convert\" onclick=\"convertToInteractive('df-6344b20a-b8cc-409a-b382-105d14969d56')\"\n",
              "              title=\"Convert this dataframe to an interactive table.\"\n",
              "              style=\"display:none;\">\n",
              "        \n",
              "  <svg xmlns=\"http://www.w3.org/2000/svg\" height=\"24px\"viewBox=\"0 0 24 24\"\n",
              "       width=\"24px\">\n",
              "    <path d=\"M0 0h24v24H0V0z\" fill=\"none\"/>\n",
              "    <path d=\"M18.56 5.44l.94 2.06.94-2.06 2.06-.94-2.06-.94-.94-2.06-.94 2.06-2.06.94zm-11 1L8.5 8.5l.94-2.06 2.06-.94-2.06-.94L8.5 2.5l-.94 2.06-2.06.94zm10 10l.94 2.06.94-2.06 2.06-.94-2.06-.94-.94-2.06-.94 2.06-2.06.94z\"/><path d=\"M17.41 7.96l-1.37-1.37c-.4-.4-.92-.59-1.43-.59-.52 0-1.04.2-1.43.59L10.3 9.45l-7.72 7.72c-.78.78-.78 2.05 0 2.83L4 21.41c.39.39.9.59 1.41.59.51 0 1.02-.2 1.41-.59l7.78-7.78 2.81-2.81c.8-.78.8-2.07 0-2.86zM5.41 20L4 18.59l7.72-7.72 1.47 1.35L5.41 20z\"/>\n",
              "  </svg>\n",
              "      </button>\n",
              "      \n",
              "  <style>\n",
              "    .colab-df-container {\n",
              "      display:flex;\n",
              "      flex-wrap:wrap;\n",
              "      gap: 12px;\n",
              "    }\n",
              "\n",
              "    .colab-df-convert {\n",
              "      background-color: #E8F0FE;\n",
              "      border: none;\n",
              "      border-radius: 50%;\n",
              "      cursor: pointer;\n",
              "      display: none;\n",
              "      fill: #1967D2;\n",
              "      height: 32px;\n",
              "      padding: 0 0 0 0;\n",
              "      width: 32px;\n",
              "    }\n",
              "\n",
              "    .colab-df-convert:hover {\n",
              "      background-color: #E2EBFA;\n",
              "      box-shadow: 0px 1px 2px rgba(60, 64, 67, 0.3), 0px 1px 3px 1px rgba(60, 64, 67, 0.15);\n",
              "      fill: #174EA6;\n",
              "    }\n",
              "\n",
              "    [theme=dark] .colab-df-convert {\n",
              "      background-color: #3B4455;\n",
              "      fill: #D2E3FC;\n",
              "    }\n",
              "\n",
              "    [theme=dark] .colab-df-convert:hover {\n",
              "      background-color: #434B5C;\n",
              "      box-shadow: 0px 1px 3px 1px rgba(0, 0, 0, 0.15);\n",
              "      filter: drop-shadow(0px 1px 2px rgba(0, 0, 0, 0.3));\n",
              "      fill: #FFFFFF;\n",
              "    }\n",
              "  </style>\n",
              "\n",
              "      <script>\n",
              "        const buttonEl =\n",
              "          document.querySelector('#df-6344b20a-b8cc-409a-b382-105d14969d56 button.colab-df-convert');\n",
              "        buttonEl.style.display =\n",
              "          google.colab.kernel.accessAllowed ? 'block' : 'none';\n",
              "\n",
              "        async function convertToInteractive(key) {\n",
              "          const element = document.querySelector('#df-6344b20a-b8cc-409a-b382-105d14969d56');\n",
              "          const dataTable =\n",
              "            await google.colab.kernel.invokeFunction('convertToInteractive',\n",
              "                                                     [key], {});\n",
              "          if (!dataTable) return;\n",
              "\n",
              "          const docLinkHtml = 'Like what you see? Visit the ' +\n",
              "            '<a target=\"_blank\" href=https://colab.research.google.com/notebooks/data_table.ipynb>data table notebook</a>'\n",
              "            + ' to learn more about interactive tables.';\n",
              "          element.innerHTML = '';\n",
              "          dataTable['output_type'] = 'display_data';\n",
              "          await google.colab.output.renderOutput(dataTable, element);\n",
              "          const docLink = document.createElement('div');\n",
              "          docLink.innerHTML = docLinkHtml;\n",
              "          element.appendChild(docLink);\n",
              "        }\n",
              "      </script>\n",
              "    </div>\n",
              "  </div>\n",
              "  "
            ]
          },
          "metadata": {},
          "execution_count": 42
        }
      ]
    },
    {
      "cell_type": "code",
      "source": [
        "# Anything that is 0 for x, y, or z ... remove\n",
        "diamond_df = diamond_df.drop(diamond_df[diamond_df[\"x\"]==0].index)\n",
        "diamond_df = diamond_df.drop(diamond_df[diamond_df[\"y\"]==0].index)\n",
        "diamond_df = diamond_df.drop(diamond_df[diamond_df[\"z\"]==0].index)"
      ],
      "metadata": {
        "id": "j4ytQ4O848A1"
      },
      "execution_count": null,
      "outputs": []
    },
    {
      "cell_type": "code",
      "source": [
        "# Remove outliers in these features greater than the 99th percentile\n",
        "diamond_df = diamond_df[diamond_df['depth'] < diamond_df['depth'].quantile(0.99)]\n",
        "diamond_df = diamond_df[diamond_df['table'] < diamond_df['table'].quantile(0.99)]\n",
        "diamond_df = diamond_df[diamond_df['x'] < diamond_df['x'].quantile(0.99)]\n",
        "diamond_df = diamond_df[diamond_df['y'] < diamond_df['y'].quantile(0.99)]\n",
        "diamond_df = diamond_df[diamond_df['z'] < diamond_df['z'].quantile(0.99)]"
      ],
      "metadata": {
        "id": "ZA9oi1k14722"
      },
      "execution_count": null,
      "outputs": []
    },
    {
      "cell_type": "code",
      "source": [
        "model_df = diamond_df.copy()"
      ],
      "metadata": {
        "id": "IJwpoFUW47xQ"
      },
      "execution_count": null,
      "outputs": []
    },
    {
      "cell_type": "code",
      "source": [
        "f, ax = plt.subplots(figsize=(10,10))\n",
        "sns.heatmap(model_df.corr(), annot=True, cmap='coolwarm');"
      ],
      "metadata": {
        "colab": {
          "base_uri": "https://localhost:8080/",
          "height": 595
        },
        "id": "5t-zpaHO47sV",
        "outputId": "782ad85b-7ad7-435b-f35d-59278a95e30f"
      },
      "execution_count": null,
      "outputs": [
        {
          "output_type": "display_data",
          "data": {
            "text/plain": [
              "<Figure size 720x720 with 2 Axes>"
            ],
            "image/png": "[encoded data removed]"
          },
          "metadata": {
            "needs_background": "light"
          }
        }
      ]
    },
    {
      "cell_type": "markdown",
      "source": [
        "# Create the Model"
      ],
      "metadata": {
        "id": "0yxAZEQv6YOF"
      }
    },
    {
      "cell_type": "code",
      "source": [
        "X = model_df.drop(['price'], axis=1)\n",
        "y = model_df['price']"
      ],
      "metadata": {
        "id": "xcrOeNhJ2HHf"
      },
      "execution_count": null,
      "outputs": []
    },
    {
      "cell_type": "code",
      "source": [
        "X_train_val, X_test, y_train_val, y_test = train_test_split(X, y, test_size=0.2, random_state=0)"
      ],
      "metadata": {
        "id": "3DYQ8i_K6JD4"
      },
      "execution_count": null,
      "outputs": []
    },
    {
      "cell_type": "code",
      "source": [
        "X_train, X_val, y_train, y_val = train_test_split(X_train_val, y_train_val, test_size=0.25, random_state=0)"
      ],
      "metadata": {
        "id": "a6Td4J6-6I8t"
      },
      "execution_count": null,
      "outputs": []
    },
    {
      "cell_type": "code",
      "source": [
        "xgb1 = XGBRegressor()\n",
        "parameters = {\n",
        "              'objective':['reg:squarederror'],\n",
        "              'learning_rate': [0.01],\n",
        "              'max_depth': [7],\n",
        "              'min_child_weight': [3],\n",
        "              'subsample': [0.5],\n",
        "              'colsample_bytree': [1],\n",
        "              'n_estimators': [500]}"
      ],
      "metadata": {
        "id": "oleOa12i6I20"
      },
      "execution_count": null,
      "outputs": []
    },
    {
      "cell_type": "code",
      "source": [
        "xgb_grid = GridSearchCV(xgb1,\n",
        "                        parameters,\n",
        "                        cv = 3,\n",
        "                        n_jobs = -1,\n",
        "                        verbose=0)"
      ],
      "metadata": {
        "id": "0jU90QUx7J-L"
      },
      "execution_count": null,
      "outputs": []
    },
    {
      "cell_type": "code",
      "source": [
        "xgb_grid.fit(X_train, y_train)"
      ],
      "metadata": {
        "colab": {
          "base_uri": "https://localhost:8080/"
        },
        "id": "bEXfXw427J23",
        "outputId": "cbe93967-9851-4f68-e96c-651ec02bd41b"
      },
      "execution_count": null,
      "outputs": [
        {
          "output_type": "execute_result",
          "data": {
            "text/plain": [
              "GridSearchCV(cv=3, estimator=XGBRegressor(), n_jobs=-1,\n",
              "             param_grid={'colsample_bytree': [1], 'learning_rate': [0.01],\n",
              "                         'max_depth': [7], 'min_child_weight': [3],\n",
              "                         'n_estimators': [500],\n",
              "                         'objective': ['reg:squarederror'],\n",
              "                         'subsample': [0.5]})"
            ]
          },
          "metadata": {},
          "execution_count": 53
        }
      ]
    },
    {
      "cell_type": "code",
      "source": [
        "print(xgb_grid.best_score_)\n",
        "print(xgb_grid.best_params_)"
      ],
      "metadata": {
        "colab": {
          "base_uri": "https://localhost:8080/"
        },
        "id": "X8ztbVOw7Jxj",
        "outputId": "c248fe94-7b5b-49bb-ce12-1014ec76add3"
      },
      "execution_count": null,
      "outputs": [
        {
          "output_type": "stream",
          "name": "stdout",
          "text": [
            "0.9833012668741846\n",
            "{'colsample_bytree': 1, 'learning_rate': 0.01, 'max_depth': 7, 'min_child_weight': 3, 'n_estimators': 500, 'objective': 'reg:squarederror', 'subsample': 0.5}\n"
          ]
        }
      ]
    },
    {
      "cell_type": "code",
      "source": [
        "xgb_cv = (xgb_grid.best_estimator_)"
      ],
      "metadata": {
        "id": "2JL09CfE7JsS"
      },
      "execution_count": null,
      "outputs": []
    },
    {
      "cell_type": "code",
      "source": [
        "eval_set = [(X_train, y_train),\n",
        "            (X_val, y_val)]"
      ],
      "metadata": {
        "id": "uzCAvnai8RRr"
      },
      "execution_count": null,
      "outputs": []
    },
    {
      "cell_type": "code",
      "source": [
        "fit_model = xgb_cv.fit(\n",
        "    X_train,\n",
        "    y_train,\n",
        "    eval_set=eval_set,\n",
        "    eval_metric='mae',\n",
        "    early_stopping_rounds=50,\n",
        "    verbose=True)"
      ],
      "metadata": {
        "colab": {
          "base_uri": "https://localhost:8080/"
        },
        "id": "icnhL0yU8RFl",
        "outputId": "ddf2a3af-dca5-4a8e-9ee9-f913994b9974"
      },
      "execution_count": null,
      "outputs": [
        {
          "output_type": "stream",
          "name": "stdout",
          "text": [
            "[0]\tvalidation_0-mae:3526.31\tvalidation_1-mae:3539.18\n",
            "Multiple eval metrics have been passed: 'validation_1-mae' will be used for early stopping.\n",
            "\n",
            "Will train until validation_1-mae hasn't improved in 50 rounds.\n",
            "[1]\tvalidation_0-mae:3491.32\tvalidation_1-mae:3504.02\n",
            "[2]\tvalidation_0-mae:3456.61\tvalidation_1-mae:3469.16\n",
            "[3]\tvalidation_0-mae:3422.25\tvalidation_1-mae:3434.66\n",
            "[4]\tvalidation_0-mae:3388.33\tvalidation_1-mae:3400.57\n",
            "[5]\tvalidation_0-mae:3354.65\tvalidation_1-mae:3366.73\n",
            "[6]\tvalidation_0-mae:3321.24\tvalidation_1-mae:3333.2\n",
            "[7]\tvalidation_0-mae:3288.28\tvalidation_1-mae:3300.05\n",
            "[8]\tvalidation_0-mae:3255.62\tvalidation_1-mae:3267.22\n",
            "[9]\tvalidation_0-mae:3223.35\tvalidation_1-mae:3234.81\n",
            "[10]\tvalidation_0-mae:3191.32\tvalidation_1-mae:3202.75\n",
            "[11]\tvalidation_0-mae:3159.67\tvalidation_1-mae:3170.94\n",
            "[12]\tvalidation_0-mae:3128.2\tvalidation_1-mae:3139.34\n",
            "[13]\tvalidation_0-mae:3097.11\tvalidation_1-mae:3108.09\n",
            "[14]\tvalidation_0-mae:3066.28\tvalidation_1-mae:3077.16\n",
            "[15]\tvalidation_0-mae:3035.96\tvalidation_1-mae:3046.64\n",
            "[16]\tvalidation_0-mae:3005.86\tvalidation_1-mae:3016.38\n",
            "[17]\tvalidation_0-mae:2976.04\tvalidation_1-mae:2986.41\n",
            "[18]\tvalidation_0-mae:2946.55\tvalidation_1-mae:2956.77\n",
            "[19]\tvalidation_0-mae:2917.24\tvalidation_1-mae:2927.3\n",
            "[20]\tvalidation_0-mae:2888.35\tvalidation_1-mae:2898.26\n",
            "[21]\tvalidation_0-mae:2859.67\tvalidation_1-mae:2869.47\n",
            "[22]\tvalidation_0-mae:2831.25\tvalidation_1-mae:2840.99\n",
            "[23]\tvalidation_0-mae:2803.24\tvalidation_1-mae:2812.82\n",
            "[24]\tvalidation_0-mae:2775.4\tvalidation_1-mae:2784.89\n",
            "[25]\tvalidation_0-mae:2747.84\tvalidation_1-mae:2757.25\n",
            "[26]\tvalidation_0-mae:2720.52\tvalidation_1-mae:2729.74\n",
            "[27]\tvalidation_0-mae:2693.62\tvalidation_1-mae:2702.66\n",
            "[28]\tvalidation_0-mae:2666.9\tvalidation_1-mae:2675.88\n",
            "[29]\tvalidation_0-mae:2640.47\tvalidation_1-mae:2649.33\n",
            "[30]\tvalidation_0-mae:2614.28\tvalidation_1-mae:2623.07\n",
            "[31]\tvalidation_0-mae:2588.4\tvalidation_1-mae:2597.11\n",
            "[32]\tvalidation_0-mae:2562.65\tvalidation_1-mae:2571.23\n",
            "[33]\tvalidation_0-mae:2537.28\tvalidation_1-mae:2545.75\n",
            "[34]\tvalidation_0-mae:2511.98\tvalidation_1-mae:2520.4\n",
            "[35]\tvalidation_0-mae:2487.08\tvalidation_1-mae:2495.35\n",
            "[36]\tvalidation_0-mae:2462.39\tvalidation_1-mae:2470.58\n",
            "[37]\tvalidation_0-mae:2437.97\tvalidation_1-mae:2446.05\n",
            "[38]\tvalidation_0-mae:2413.83\tvalidation_1-mae:2421.82\n",
            "[39]\tvalidation_0-mae:2389.89\tvalidation_1-mae:2397.76\n",
            "[40]\tvalidation_0-mae:2366.2\tvalidation_1-mae:2373.96\n",
            "[41]\tvalidation_0-mae:2342.71\tvalidation_1-mae:2350.33\n",
            "[42]\tvalidation_0-mae:2319.51\tvalidation_1-mae:2327.02\n",
            "[43]\tvalidation_0-mae:2296.54\tvalidation_1-mae:2303.88\n",
            "[44]\tvalidation_0-mae:2273.79\tvalidation_1-mae:2281.07\n",
            "[45]\tvalidation_0-mae:2251.18\tvalidation_1-mae:2258.33\n",
            "[46]\tvalidation_0-mae:2228.85\tvalidation_1-mae:2235.94\n",
            "[47]\tvalidation_0-mae:2206.82\tvalidation_1-mae:2213.8\n",
            "[48]\tvalidation_0-mae:2184.96\tvalidation_1-mae:2191.83\n",
            "[49]\tvalidation_0-mae:2163.32\tvalidation_1-mae:2170.13\n",
            "[50]\tvalidation_0-mae:2141.96\tvalidation_1-mae:2148.63\n",
            "[51]\tvalidation_0-mae:2120.73\tvalidation_1-mae:2127.32\n",
            "[52]\tvalidation_0-mae:2099.75\tvalidation_1-mae:2106.25\n",
            "[53]\tvalidation_0-mae:2078.92\tvalidation_1-mae:2085.36\n",
            "[54]\tvalidation_0-mae:2058.23\tvalidation_1-mae:2064.57\n",
            "[55]\tvalidation_0-mae:2037.82\tvalidation_1-mae:2044.15\n",
            "[56]\tvalidation_0-mae:2017.57\tvalidation_1-mae:2023.82\n",
            "[57]\tvalidation_0-mae:1997.59\tvalidation_1-mae:2003.72\n",
            "[58]\tvalidation_0-mae:1977.74\tvalidation_1-mae:1983.78\n",
            "[59]\tvalidation_0-mae:1958.09\tvalidation_1-mae:1964\n",
            "[60]\tvalidation_0-mae:1938.7\tvalidation_1-mae:1944.51\n",
            "[61]\tvalidation_0-mae:1919.45\tvalidation_1-mae:1925.19\n",
            "[62]\tvalidation_0-mae:1900.47\tvalidation_1-mae:1906.14\n",
            "[63]\tvalidation_0-mae:1881.61\tvalidation_1-mae:1887.19\n",
            "[64]\tvalidation_0-mae:1862.94\tvalidation_1-mae:1868.43\n",
            "[65]\tvalidation_0-mae:1844.45\tvalidation_1-mae:1849.84\n",
            "[66]\tvalidation_0-mae:1826.12\tvalidation_1-mae:1831.37\n",
            "[67]\tvalidation_0-mae:1807.98\tvalidation_1-mae:1813.1\n",
            "[68]\tvalidation_0-mae:1790.11\tvalidation_1-mae:1795.21\n",
            "[69]\tvalidation_0-mae:1772.4\tvalidation_1-mae:1777.46\n",
            "[70]\tvalidation_0-mae:1754.85\tvalidation_1-mae:1759.9\n",
            "[71]\tvalidation_0-mae:1737.47\tvalidation_1-mae:1742.46\n",
            "[72]\tvalidation_0-mae:1720.32\tvalidation_1-mae:1725.3\n",
            "[73]\tvalidation_0-mae:1703.28\tvalidation_1-mae:1708.24\n",
            "[74]\tvalidation_0-mae:1686.44\tvalidation_1-mae:1691.27\n",
            "[75]\tvalidation_0-mae:1669.75\tvalidation_1-mae:1674.42\n",
            "[76]\tvalidation_0-mae:1653.24\tvalidation_1-mae:1657.86\n",
            "[77]\tvalidation_0-mae:1636.87\tvalidation_1-mae:1641.41\n",
            "[78]\tvalidation_0-mae:1620.65\tvalidation_1-mae:1625.11\n",
            "[79]\tvalidation_0-mae:1604.62\tvalidation_1-mae:1609.02\n",
            "[80]\tvalidation_0-mae:1588.72\tvalidation_1-mae:1593.09\n",
            "[81]\tvalidation_0-mae:1573.02\tvalidation_1-mae:1577.34\n",
            "[82]\tvalidation_0-mae:1557.49\tvalidation_1-mae:1561.73\n",
            "[83]\tvalidation_0-mae:1542.15\tvalidation_1-mae:1546.32\n",
            "[84]\tvalidation_0-mae:1526.88\tvalidation_1-mae:1530.93\n",
            "[85]\tvalidation_0-mae:1511.77\tvalidation_1-mae:1515.76\n",
            "[86]\tvalidation_0-mae:1496.8\tvalidation_1-mae:1500.74\n",
            "[87]\tvalidation_0-mae:1481.98\tvalidation_1-mae:1485.81\n",
            "[88]\tvalidation_0-mae:1467.32\tvalidation_1-mae:1471.09\n",
            "[89]\tvalidation_0-mae:1452.78\tvalidation_1-mae:1456.48\n",
            "[90]\tvalidation_0-mae:1438.46\tvalidation_1-mae:1442.06\n",
            "[91]\tvalidation_0-mae:1424.19\tvalidation_1-mae:1427.75\n",
            "[92]\tvalidation_0-mae:1410.09\tvalidation_1-mae:1413.59\n",
            "[93]\tvalidation_0-mae:1396.22\tvalidation_1-mae:1399.65\n",
            "[94]\tvalidation_0-mae:1382.41\tvalidation_1-mae:1385.8\n",
            "[95]\tvalidation_0-mae:1368.75\tvalidation_1-mae:1372.05\n",
            "[96]\tvalidation_0-mae:1355.19\tvalidation_1-mae:1358.39\n",
            "[97]\tvalidation_0-mae:1341.79\tvalidation_1-mae:1344.9\n",
            "[98]\tvalidation_0-mae:1328.52\tvalidation_1-mae:1331.56\n",
            "[99]\tvalidation_0-mae:1315.31\tvalidation_1-mae:1318.24\n",
            "[100]\tvalidation_0-mae:1302.23\tvalidation_1-mae:1305.1\n",
            "[101]\tvalidation_0-mae:1289.39\tvalidation_1-mae:1292.18\n",
            "[102]\tvalidation_0-mae:1276.62\tvalidation_1-mae:1279.35\n",
            "[103]\tvalidation_0-mae:1264\tvalidation_1-mae:1266.66\n",
            "[104]\tvalidation_0-mae:1251.5\tvalidation_1-mae:1254.14\n",
            "[105]\tvalidation_0-mae:1239.2\tvalidation_1-mae:1241.78\n",
            "[106]\tvalidation_0-mae:1227.02\tvalidation_1-mae:1229.53\n",
            "[107]\tvalidation_0-mae:1214.9\tvalidation_1-mae:1217.31\n",
            "[108]\tvalidation_0-mae:1202.96\tvalidation_1-mae:1205.31\n",
            "[109]\tvalidation_0-mae:1191.11\tvalidation_1-mae:1193.39\n",
            "[110]\tvalidation_0-mae:1179.41\tvalidation_1-mae:1181.65\n",
            "[111]\tvalidation_0-mae:1167.78\tvalidation_1-mae:1169.96\n",
            "[112]\tvalidation_0-mae:1156.34\tvalidation_1-mae:1158.45\n",
            "[113]\tvalidation_0-mae:1144.96\tvalidation_1-mae:1147.04\n",
            "[114]\tvalidation_0-mae:1133.7\tvalidation_1-mae:1135.69\n",
            "[115]\tvalidation_0-mae:1122.57\tvalidation_1-mae:1124.49\n",
            "[116]\tvalidation_0-mae:1111.56\tvalidation_1-mae:1113.41\n",
            "[117]\tvalidation_0-mae:1100.57\tvalidation_1-mae:1102.34\n",
            "[118]\tvalidation_0-mae:1089.73\tvalidation_1-mae:1091.47\n",
            "[119]\tvalidation_0-mae:1079.05\tvalidation_1-mae:1080.72\n",
            "[120]\tvalidation_0-mae:1068.44\tvalidation_1-mae:1070.08\n",
            "[121]\tvalidation_0-mae:1058.04\tvalidation_1-mae:1059.63\n",
            "[122]\tvalidation_0-mae:1047.61\tvalidation_1-mae:1049.15\n",
            "[123]\tvalidation_0-mae:1037.28\tvalidation_1-mae:1038.77\n",
            "[124]\tvalidation_0-mae:1027.13\tvalidation_1-mae:1028.59\n",
            "[125]\tvalidation_0-mae:1017.06\tvalidation_1-mae:1018.5\n",
            "[126]\tvalidation_0-mae:1007.1\tvalidation_1-mae:1008.55\n",
            "[127]\tvalidation_0-mae:997.25\tvalidation_1-mae:998.665\n",
            "[128]\tvalidation_0-mae:987.501\tvalidation_1-mae:988.892\n",
            "[129]\tvalidation_0-mae:977.817\tvalidation_1-mae:979.246\n",
            "[130]\tvalidation_0-mae:968.281\tvalidation_1-mae:969.687\n",
            "[131]\tvalidation_0-mae:958.806\tvalidation_1-mae:960.235\n",
            "[132]\tvalidation_0-mae:949.474\tvalidation_1-mae:950.864\n",
            "[133]\tvalidation_0-mae:940.23\tvalidation_1-mae:941.609\n",
            "[134]\tvalidation_0-mae:931.125\tvalidation_1-mae:932.526\n",
            "[135]\tvalidation_0-mae:922.088\tvalidation_1-mae:923.524\n",
            "[136]\tvalidation_0-mae:913.151\tvalidation_1-mae:914.598\n",
            "[137]\tvalidation_0-mae:904.285\tvalidation_1-mae:905.708\n",
            "[138]\tvalidation_0-mae:895.586\tvalidation_1-mae:896.981\n",
            "[139]\tvalidation_0-mae:886.926\tvalidation_1-mae:888.356\n",
            "[140]\tvalidation_0-mae:878.385\tvalidation_1-mae:879.797\n",
            "[141]\tvalidation_0-mae:869.881\tvalidation_1-mae:871.295\n",
            "[142]\tvalidation_0-mae:861.474\tvalidation_1-mae:862.9\n",
            "[143]\tvalidation_0-mae:853.251\tvalidation_1-mae:854.679\n",
            "[144]\tvalidation_0-mae:845.074\tvalidation_1-mae:846.494\n",
            "[145]\tvalidation_0-mae:836.964\tvalidation_1-mae:838.414\n",
            "[146]\tvalidation_0-mae:828.948\tvalidation_1-mae:830.405\n",
            "[147]\tvalidation_0-mae:821.037\tvalidation_1-mae:822.512\n",
            "[148]\tvalidation_0-mae:813.188\tvalidation_1-mae:814.696\n",
            "[149]\tvalidation_0-mae:805.455\tvalidation_1-mae:806.964\n",
            "[150]\tvalidation_0-mae:797.844\tvalidation_1-mae:799.41\n",
            "[151]\tvalidation_0-mae:790.256\tvalidation_1-mae:791.882\n",
            "[152]\tvalidation_0-mae:782.749\tvalidation_1-mae:784.421\n",
            "[153]\tvalidation_0-mae:775.344\tvalidation_1-mae:777.073\n",
            "[154]\tvalidation_0-mae:768.01\tvalidation_1-mae:769.782\n",
            "[155]\tvalidation_0-mae:760.792\tvalidation_1-mae:762.613\n",
            "[156]\tvalidation_0-mae:753.633\tvalidation_1-mae:755.492\n",
            "[157]\tvalidation_0-mae:746.584\tvalidation_1-mae:748.509\n",
            "[158]\tvalidation_0-mae:739.596\tvalidation_1-mae:741.58\n",
            "[159]\tvalidation_0-mae:732.639\tvalidation_1-mae:734.694\n",
            "[160]\tvalidation_0-mae:725.754\tvalidation_1-mae:727.873\n",
            "[161]\tvalidation_0-mae:719.008\tvalidation_1-mae:721.187\n",
            "[162]\tvalidation_0-mae:712.344\tvalidation_1-mae:714.581\n",
            "[163]\tvalidation_0-mae:705.725\tvalidation_1-mae:708.034\n",
            "[164]\tvalidation_0-mae:699.202\tvalidation_1-mae:701.59\n",
            "[165]\tvalidation_0-mae:692.756\tvalidation_1-mae:695.24\n",
            "[166]\tvalidation_0-mae:686.322\tvalidation_1-mae:688.903\n",
            "[167]\tvalidation_0-mae:680.041\tvalidation_1-mae:682.711\n",
            "[168]\tvalidation_0-mae:673.836\tvalidation_1-mae:676.576\n",
            "[169]\tvalidation_0-mae:667.691\tvalidation_1-mae:670.482\n",
            "[170]\tvalidation_0-mae:661.59\tvalidation_1-mae:664.431\n",
            "[171]\tvalidation_0-mae:655.619\tvalidation_1-mae:658.516\n",
            "[172]\tvalidation_0-mae:649.699\tvalidation_1-mae:652.668\n",
            "[173]\tvalidation_0-mae:643.818\tvalidation_1-mae:646.874\n",
            "[174]\tvalidation_0-mae:637.99\tvalidation_1-mae:641.116\n",
            "[175]\tvalidation_0-mae:632.266\tvalidation_1-mae:635.411\n",
            "[176]\tvalidation_0-mae:626.651\tvalidation_1-mae:629.852\n",
            "[177]\tvalidation_0-mae:620.997\tvalidation_1-mae:624.268\n",
            "[178]\tvalidation_0-mae:615.487\tvalidation_1-mae:618.839\n",
            "[179]\tvalidation_0-mae:610.019\tvalidation_1-mae:613.466\n",
            "[180]\tvalidation_0-mae:604.632\tvalidation_1-mae:608.088\n",
            "[181]\tvalidation_0-mae:599.261\tvalidation_1-mae:602.765\n",
            "[182]\tvalidation_0-mae:593.96\tvalidation_1-mae:597.52\n",
            "[183]\tvalidation_0-mae:588.698\tvalidation_1-mae:592.331\n",
            "[184]\tvalidation_0-mae:583.575\tvalidation_1-mae:587.254\n",
            "[185]\tvalidation_0-mae:578.526\tvalidation_1-mae:582.231\n",
            "[186]\tvalidation_0-mae:573.523\tvalidation_1-mae:577.259\n",
            "[187]\tvalidation_0-mae:568.585\tvalidation_1-mae:572.382\n",
            "[188]\tvalidation_0-mae:563.725\tvalidation_1-mae:567.583\n",
            "[189]\tvalidation_0-mae:558.914\tvalidation_1-mae:562.849\n",
            "[190]\tvalidation_0-mae:554.164\tvalidation_1-mae:558.154\n",
            "[191]\tvalidation_0-mae:549.465\tvalidation_1-mae:553.519\n",
            "[192]\tvalidation_0-mae:544.781\tvalidation_1-mae:548.919\n",
            "[193]\tvalidation_0-mae:540.182\tvalidation_1-mae:544.449\n",
            "[194]\tvalidation_0-mae:535.616\tvalidation_1-mae:539.943\n",
            "[195]\tvalidation_0-mae:531.163\tvalidation_1-mae:535.53\n",
            "[196]\tvalidation_0-mae:526.707\tvalidation_1-mae:531.114\n",
            "[197]\tvalidation_0-mae:522.357\tvalidation_1-mae:526.839\n",
            "[198]\tvalidation_0-mae:518.051\tvalidation_1-mae:522.565\n",
            "[199]\tvalidation_0-mae:513.782\tvalidation_1-mae:518.365\n",
            "[200]\tvalidation_0-mae:509.599\tvalidation_1-mae:514.24\n",
            "[201]\tvalidation_0-mae:505.44\tvalidation_1-mae:510.097\n",
            "[202]\tvalidation_0-mae:501.347\tvalidation_1-mae:506.012\n",
            "[203]\tvalidation_0-mae:497.33\tvalidation_1-mae:502.097\n",
            "[204]\tvalidation_0-mae:493.335\tvalidation_1-mae:498.152\n",
            "[205]\tvalidation_0-mae:489.407\tvalidation_1-mae:494.299\n",
            "[206]\tvalidation_0-mae:485.508\tvalidation_1-mae:490.468\n",
            "[207]\tvalidation_0-mae:481.615\tvalidation_1-mae:486.621\n",
            "[208]\tvalidation_0-mae:477.812\tvalidation_1-mae:482.873\n",
            "[209]\tvalidation_0-mae:474.068\tvalidation_1-mae:479.185\n",
            "[210]\tvalidation_0-mae:470.368\tvalidation_1-mae:475.541\n",
            "[211]\tvalidation_0-mae:466.756\tvalidation_1-mae:472.013\n",
            "[212]\tvalidation_0-mae:463.17\tvalidation_1-mae:468.468\n",
            "[213]\tvalidation_0-mae:459.607\tvalidation_1-mae:464.959\n",
            "[214]\tvalidation_0-mae:456.077\tvalidation_1-mae:461.481\n",
            "[215]\tvalidation_0-mae:452.65\tvalidation_1-mae:458.133\n",
            "[216]\tvalidation_0-mae:449.237\tvalidation_1-mae:454.811\n",
            "[217]\tvalidation_0-mae:445.883\tvalidation_1-mae:451.544\n",
            "[218]\tvalidation_0-mae:442.552\tvalidation_1-mae:448.274\n",
            "[219]\tvalidation_0-mae:439.26\tvalidation_1-mae:445.044\n",
            "[220]\tvalidation_0-mae:435.979\tvalidation_1-mae:441.869\n",
            "[221]\tvalidation_0-mae:432.773\tvalidation_1-mae:438.719\n",
            "[222]\tvalidation_0-mae:429.616\tvalidation_1-mae:435.635\n",
            "[223]\tvalidation_0-mae:426.486\tvalidation_1-mae:432.62\n",
            "[224]\tvalidation_0-mae:423.398\tvalidation_1-mae:429.582\n",
            "[225]\tvalidation_0-mae:420.353\tvalidation_1-mae:426.584\n",
            "[226]\tvalidation_0-mae:417.372\tvalidation_1-mae:423.682\n",
            "[227]\tvalidation_0-mae:414.432\tvalidation_1-mae:420.828\n",
            "[228]\tvalidation_0-mae:411.491\tvalidation_1-mae:417.951\n",
            "[229]\tvalidation_0-mae:408.621\tvalidation_1-mae:415.185\n",
            "[230]\tvalidation_0-mae:405.766\tvalidation_1-mae:412.443\n",
            "[231]\tvalidation_0-mae:402.966\tvalidation_1-mae:409.753\n",
            "[232]\tvalidation_0-mae:400.221\tvalidation_1-mae:407.077\n",
            "[233]\tvalidation_0-mae:397.512\tvalidation_1-mae:404.467\n",
            "[234]\tvalidation_0-mae:394.84\tvalidation_1-mae:401.905\n",
            "[235]\tvalidation_0-mae:392.198\tvalidation_1-mae:399.374\n",
            "[236]\tvalidation_0-mae:389.596\tvalidation_1-mae:396.868\n",
            "[237]\tvalidation_0-mae:387.036\tvalidation_1-mae:394.408\n",
            "[238]\tvalidation_0-mae:384.474\tvalidation_1-mae:391.969\n",
            "[239]\tvalidation_0-mae:381.967\tvalidation_1-mae:389.56\n",
            "[240]\tvalidation_0-mae:379.477\tvalidation_1-mae:387.145\n",
            "[241]\tvalidation_0-mae:377.081\tvalidation_1-mae:384.858\n",
            "[242]\tvalidation_0-mae:374.703\tvalidation_1-mae:382.58\n",
            "[243]\tvalidation_0-mae:372.347\tvalidation_1-mae:380.319\n",
            "[244]\tvalidation_0-mae:369.964\tvalidation_1-mae:378.013\n",
            "[245]\tvalidation_0-mae:367.667\tvalidation_1-mae:375.757\n",
            "[246]\tvalidation_0-mae:365.393\tvalidation_1-mae:373.551\n",
            "[247]\tvalidation_0-mae:363.13\tvalidation_1-mae:371.359\n",
            "[248]\tvalidation_0-mae:360.897\tvalidation_1-mae:369.199\n",
            "[249]\tvalidation_0-mae:358.732\tvalidation_1-mae:367.126\n",
            "[250]\tvalidation_0-mae:356.585\tvalidation_1-mae:365.046\n",
            "[251]\tvalidation_0-mae:354.425\tvalidation_1-mae:362.927\n",
            "[252]\tvalidation_0-mae:352.305\tvalidation_1-mae:360.892\n",
            "[253]\tvalidation_0-mae:350.224\tvalidation_1-mae:358.891\n",
            "[254]\tvalidation_0-mae:348.195\tvalidation_1-mae:356.955\n",
            "[255]\tvalidation_0-mae:346.161\tvalidation_1-mae:354.965\n",
            "[256]\tvalidation_0-mae:344.129\tvalidation_1-mae:353.004\n",
            "[257]\tvalidation_0-mae:342.18\tvalidation_1-mae:351.14\n",
            "[258]\tvalidation_0-mae:340.254\tvalidation_1-mae:349.318\n",
            "[259]\tvalidation_0-mae:338.388\tvalidation_1-mae:347.525\n",
            "[260]\tvalidation_0-mae:336.535\tvalidation_1-mae:345.751\n",
            "[261]\tvalidation_0-mae:334.705\tvalidation_1-mae:344.024\n",
            "[262]\tvalidation_0-mae:332.871\tvalidation_1-mae:342.27\n",
            "[263]\tvalidation_0-mae:331.09\tvalidation_1-mae:340.573\n",
            "[264]\tvalidation_0-mae:329.364\tvalidation_1-mae:338.903\n",
            "[265]\tvalidation_0-mae:327.632\tvalidation_1-mae:337.236\n",
            "[266]\tvalidation_0-mae:325.893\tvalidation_1-mae:335.58\n",
            "[267]\tvalidation_0-mae:324.185\tvalidation_1-mae:333.966\n",
            "[268]\tvalidation_0-mae:322.503\tvalidation_1-mae:332.361\n",
            "[269]\tvalidation_0-mae:320.878\tvalidation_1-mae:330.821\n",
            "[270]\tvalidation_0-mae:319.289\tvalidation_1-mae:329.275\n",
            "[271]\tvalidation_0-mae:317.664\tvalidation_1-mae:327.739\n",
            "[272]\tvalidation_0-mae:316.096\tvalidation_1-mae:326.229\n",
            "[273]\tvalidation_0-mae:314.549\tvalidation_1-mae:324.732\n",
            "[274]\tvalidation_0-mae:313.013\tvalidation_1-mae:323.272\n",
            "[275]\tvalidation_0-mae:311.494\tvalidation_1-mae:321.827\n",
            "[276]\tvalidation_0-mae:310.013\tvalidation_1-mae:320.417\n",
            "[277]\tvalidation_0-mae:308.562\tvalidation_1-mae:319.023\n",
            "[278]\tvalidation_0-mae:307.126\tvalidation_1-mae:317.673\n",
            "[279]\tvalidation_0-mae:305.679\tvalidation_1-mae:316.254\n",
            "[280]\tvalidation_0-mae:304.278\tvalidation_1-mae:314.922\n",
            "[281]\tvalidation_0-mae:302.901\tvalidation_1-mae:313.596\n",
            "[282]\tvalidation_0-mae:301.529\tvalidation_1-mae:312.271\n",
            "[283]\tvalidation_0-mae:300.167\tvalidation_1-mae:310.961\n",
            "[284]\tvalidation_0-mae:298.835\tvalidation_1-mae:309.696\n",
            "[285]\tvalidation_0-mae:297.509\tvalidation_1-mae:308.45\n",
            "[286]\tvalidation_0-mae:296.211\tvalidation_1-mae:307.174\n",
            "[287]\tvalidation_0-mae:294.942\tvalidation_1-mae:306\n",
            "[288]\tvalidation_0-mae:293.682\tvalidation_1-mae:304.8\n",
            "[289]\tvalidation_0-mae:292.467\tvalidation_1-mae:303.646\n",
            "[290]\tvalidation_0-mae:291.243\tvalidation_1-mae:302.505\n",
            "[291]\tvalidation_0-mae:290.056\tvalidation_1-mae:301.391\n",
            "[292]\tvalidation_0-mae:288.847\tvalidation_1-mae:300.243\n",
            "[293]\tvalidation_0-mae:287.684\tvalidation_1-mae:299.169\n",
            "[294]\tvalidation_0-mae:286.555\tvalidation_1-mae:298.128\n",
            "[295]\tvalidation_0-mae:285.443\tvalidation_1-mae:297.087\n",
            "[296]\tvalidation_0-mae:284.322\tvalidation_1-mae:296.023\n",
            "[297]\tvalidation_0-mae:283.243\tvalidation_1-mae:294.994\n",
            "[298]\tvalidation_0-mae:282.177\tvalidation_1-mae:293.999\n",
            "[299]\tvalidation_0-mae:281.092\tvalidation_1-mae:292.998\n",
            "[300]\tvalidation_0-mae:279.989\tvalidation_1-mae:291.987\n",
            "[301]\tvalidation_0-mae:278.961\tvalidation_1-mae:291.036\n",
            "[302]\tvalidation_0-mae:277.966\tvalidation_1-mae:290.098\n",
            "[303]\tvalidation_0-mae:276.931\tvalidation_1-mae:289.137\n",
            "[304]\tvalidation_0-mae:275.93\tvalidation_1-mae:288.226\n",
            "[305]\tvalidation_0-mae:274.964\tvalidation_1-mae:287.311\n",
            "[306]\tvalidation_0-mae:273.997\tvalidation_1-mae:286.425\n",
            "[307]\tvalidation_0-mae:273.019\tvalidation_1-mae:285.524\n",
            "[308]\tvalidation_0-mae:272.092\tvalidation_1-mae:284.695\n",
            "[309]\tvalidation_0-mae:271.188\tvalidation_1-mae:283.86\n",
            "[310]\tvalidation_0-mae:270.282\tvalidation_1-mae:283.027\n",
            "[311]\tvalidation_0-mae:269.368\tvalidation_1-mae:282.188\n",
            "[312]\tvalidation_0-mae:268.507\tvalidation_1-mae:281.397\n",
            "[313]\tvalidation_0-mae:267.639\tvalidation_1-mae:280.597\n",
            "[314]\tvalidation_0-mae:266.813\tvalidation_1-mae:279.845\n",
            "[315]\tvalidation_0-mae:265.994\tvalidation_1-mae:279.099\n",
            "[316]\tvalidation_0-mae:265.159\tvalidation_1-mae:278.37\n",
            "[317]\tvalidation_0-mae:264.336\tvalidation_1-mae:277.656\n",
            "[318]\tvalidation_0-mae:263.537\tvalidation_1-mae:276.947\n",
            "[319]\tvalidation_0-mae:262.768\tvalidation_1-mae:276.239\n",
            "[320]\tvalidation_0-mae:261.995\tvalidation_1-mae:275.53\n",
            "[321]\tvalidation_0-mae:261.243\tvalidation_1-mae:274.848\n",
            "[322]\tvalidation_0-mae:260.464\tvalidation_1-mae:274.159\n",
            "[323]\tvalidation_0-mae:259.748\tvalidation_1-mae:273.494\n",
            "[324]\tvalidation_0-mae:259.014\tvalidation_1-mae:272.801\n",
            "[325]\tvalidation_0-mae:258.281\tvalidation_1-mae:272.133\n",
            "[326]\tvalidation_0-mae:257.589\tvalidation_1-mae:271.505\n",
            "[327]\tvalidation_0-mae:256.893\tvalidation_1-mae:270.865\n",
            "[328]\tvalidation_0-mae:256.198\tvalidation_1-mae:270.234\n",
            "[329]\tvalidation_0-mae:255.541\tvalidation_1-mae:269.652\n",
            "[330]\tvalidation_0-mae:254.886\tvalidation_1-mae:269.081\n",
            "[331]\tvalidation_0-mae:254.268\tvalidation_1-mae:268.495\n",
            "[332]\tvalidation_0-mae:253.626\tvalidation_1-mae:267.922\n",
            "[333]\tvalidation_0-mae:253.009\tvalidation_1-mae:267.383\n",
            "[334]\tvalidation_0-mae:252.383\tvalidation_1-mae:266.806\n",
            "[335]\tvalidation_0-mae:251.75\tvalidation_1-mae:266.24\n",
            "[336]\tvalidation_0-mae:251.127\tvalidation_1-mae:265.668\n",
            "[337]\tvalidation_0-mae:250.496\tvalidation_1-mae:265.112\n",
            "[338]\tvalidation_0-mae:249.91\tvalidation_1-mae:264.594\n",
            "[339]\tvalidation_0-mae:249.357\tvalidation_1-mae:264.11\n",
            "[340]\tvalidation_0-mae:248.793\tvalidation_1-mae:263.575\n",
            "[341]\tvalidation_0-mae:248.201\tvalidation_1-mae:263.065\n",
            "[342]\tvalidation_0-mae:247.639\tvalidation_1-mae:262.569\n",
            "[343]\tvalidation_0-mae:247.098\tvalidation_1-mae:262.078\n",
            "[344]\tvalidation_0-mae:246.554\tvalidation_1-mae:261.612\n",
            "[345]\tvalidation_0-mae:246.01\tvalidation_1-mae:261.158\n",
            "[346]\tvalidation_0-mae:245.491\tvalidation_1-mae:260.698\n",
            "[347]\tvalidation_0-mae:244.964\tvalidation_1-mae:260.25\n",
            "[348]\tvalidation_0-mae:244.458\tvalidation_1-mae:259.813\n",
            "[349]\tvalidation_0-mae:243.966\tvalidation_1-mae:259.409\n",
            "[350]\tvalidation_0-mae:243.476\tvalidation_1-mae:258.992\n",
            "[351]\tvalidation_0-mae:243.01\tvalidation_1-mae:258.589\n",
            "[352]\tvalidation_0-mae:242.534\tvalidation_1-mae:258.182\n",
            "[353]\tvalidation_0-mae:242.07\tvalidation_1-mae:257.784\n",
            "[354]\tvalidation_0-mae:241.615\tvalidation_1-mae:257.406\n",
            "[355]\tvalidation_0-mae:241.161\tvalidation_1-mae:257.011\n",
            "[356]\tvalidation_0-mae:240.713\tvalidation_1-mae:256.634\n",
            "[357]\tvalidation_0-mae:240.301\tvalidation_1-mae:256.285\n",
            "[358]\tvalidation_0-mae:239.848\tvalidation_1-mae:255.905\n",
            "[359]\tvalidation_0-mae:239.376\tvalidation_1-mae:255.508\n",
            "[360]\tvalidation_0-mae:238.957\tvalidation_1-mae:255.158\n",
            "[361]\tvalidation_0-mae:238.52\tvalidation_1-mae:254.818\n",
            "[362]\tvalidation_0-mae:238.13\tvalidation_1-mae:254.493\n",
            "[363]\tvalidation_0-mae:237.705\tvalidation_1-mae:254.146\n",
            "[364]\tvalidation_0-mae:237.32\tvalidation_1-mae:253.823\n",
            "[365]\tvalidation_0-mae:236.916\tvalidation_1-mae:253.477\n",
            "[366]\tvalidation_0-mae:236.546\tvalidation_1-mae:253.169\n",
            "[367]\tvalidation_0-mae:236.149\tvalidation_1-mae:252.856\n",
            "[368]\tvalidation_0-mae:235.749\tvalidation_1-mae:252.532\n",
            "[369]\tvalidation_0-mae:235.37\tvalidation_1-mae:252.225\n",
            "[370]\tvalidation_0-mae:235.001\tvalidation_1-mae:251.939\n",
            "[371]\tvalidation_0-mae:234.589\tvalidation_1-mae:251.637\n",
            "[372]\tvalidation_0-mae:234.227\tvalidation_1-mae:251.349\n",
            "[373]\tvalidation_0-mae:233.871\tvalidation_1-mae:251.044\n",
            "[374]\tvalidation_0-mae:233.549\tvalidation_1-mae:250.772\n",
            "[375]\tvalidation_0-mae:233.207\tvalidation_1-mae:250.494\n",
            "[376]\tvalidation_0-mae:232.89\tvalidation_1-mae:250.244\n",
            "[377]\tvalidation_0-mae:232.577\tvalidation_1-mae:249.99\n",
            "[378]\tvalidation_0-mae:232.245\tvalidation_1-mae:249.705\n",
            "[379]\tvalidation_0-mae:231.887\tvalidation_1-mae:249.397\n",
            "[380]\tvalidation_0-mae:231.558\tvalidation_1-mae:249.133\n",
            "[381]\tvalidation_0-mae:231.236\tvalidation_1-mae:248.879\n",
            "[382]\tvalidation_0-mae:230.939\tvalidation_1-mae:248.668\n",
            "[383]\tvalidation_0-mae:230.636\tvalidation_1-mae:248.433\n",
            "[384]\tvalidation_0-mae:230.362\tvalidation_1-mae:248.222\n",
            "[385]\tvalidation_0-mae:230.084\tvalidation_1-mae:247.992\n",
            "[386]\tvalidation_0-mae:229.778\tvalidation_1-mae:247.77\n",
            "[387]\tvalidation_0-mae:229.488\tvalidation_1-mae:247.531\n",
            "[388]\tvalidation_0-mae:229.191\tvalidation_1-mae:247.295\n",
            "[389]\tvalidation_0-mae:228.922\tvalidation_1-mae:247.06\n",
            "[390]\tvalidation_0-mae:228.62\tvalidation_1-mae:246.821\n",
            "[391]\tvalidation_0-mae:228.357\tvalidation_1-mae:246.612\n",
            "[392]\tvalidation_0-mae:228.082\tvalidation_1-mae:246.396\n",
            "[393]\tvalidation_0-mae:227.823\tvalidation_1-mae:246.193\n",
            "[394]\tvalidation_0-mae:227.56\tvalidation_1-mae:246.004\n",
            "[395]\tvalidation_0-mae:227.304\tvalidation_1-mae:245.82\n",
            "[396]\tvalidation_0-mae:227.053\tvalidation_1-mae:245.638\n",
            "[397]\tvalidation_0-mae:226.778\tvalidation_1-mae:245.419\n",
            "[398]\tvalidation_0-mae:226.535\tvalidation_1-mae:245.235\n",
            "[399]\tvalidation_0-mae:226.311\tvalidation_1-mae:245.07\n",
            "[400]\tvalidation_0-mae:226.078\tvalidation_1-mae:244.92\n",
            "[401]\tvalidation_0-mae:225.849\tvalidation_1-mae:244.751\n",
            "[402]\tvalidation_0-mae:225.601\tvalidation_1-mae:244.56\n",
            "[403]\tvalidation_0-mae:225.371\tvalidation_1-mae:244.386\n",
            "[404]\tvalidation_0-mae:225.126\tvalidation_1-mae:244.201\n",
            "[405]\tvalidation_0-mae:224.917\tvalidation_1-mae:244.024\n",
            "[406]\tvalidation_0-mae:224.703\tvalidation_1-mae:243.84\n",
            "[407]\tvalidation_0-mae:224.491\tvalidation_1-mae:243.661\n",
            "[408]\tvalidation_0-mae:224.282\tvalidation_1-mae:243.523\n",
            "[409]\tvalidation_0-mae:224.061\tvalidation_1-mae:243.357\n",
            "[410]\tvalidation_0-mae:223.867\tvalidation_1-mae:243.213\n",
            "[411]\tvalidation_0-mae:223.655\tvalidation_1-mae:243.036\n",
            "[412]\tvalidation_0-mae:223.458\tvalidation_1-mae:242.895\n",
            "[413]\tvalidation_0-mae:223.217\tvalidation_1-mae:242.707\n",
            "[414]\tvalidation_0-mae:223.014\tvalidation_1-mae:242.58\n",
            "[415]\tvalidation_0-mae:222.823\tvalidation_1-mae:242.448\n",
            "[416]\tvalidation_0-mae:222.624\tvalidation_1-mae:242.307\n",
            "[417]\tvalidation_0-mae:222.428\tvalidation_1-mae:242.155\n",
            "[418]\tvalidation_0-mae:222.246\tvalidation_1-mae:242.009\n",
            "[419]\tvalidation_0-mae:222.059\tvalidation_1-mae:241.888\n",
            "[420]\tvalidation_0-mae:221.877\tvalidation_1-mae:241.759\n",
            "[421]\tvalidation_0-mae:221.691\tvalidation_1-mae:241.625\n",
            "[422]\tvalidation_0-mae:221.513\tvalidation_1-mae:241.489\n",
            "[423]\tvalidation_0-mae:221.318\tvalidation_1-mae:241.365\n",
            "[424]\tvalidation_0-mae:221.152\tvalidation_1-mae:241.222\n",
            "[425]\tvalidation_0-mae:220.977\tvalidation_1-mae:241.097\n",
            "[426]\tvalidation_0-mae:220.82\tvalidation_1-mae:240.975\n",
            "[427]\tvalidation_0-mae:220.651\tvalidation_1-mae:240.881\n",
            "[428]\tvalidation_0-mae:220.499\tvalidation_1-mae:240.772\n",
            "[429]\tvalidation_0-mae:220.313\tvalidation_1-mae:240.639\n",
            "[430]\tvalidation_0-mae:220.147\tvalidation_1-mae:240.516\n",
            "[431]\tvalidation_0-mae:220.002\tvalidation_1-mae:240.416\n",
            "[432]\tvalidation_0-mae:219.847\tvalidation_1-mae:240.302\n",
            "[433]\tvalidation_0-mae:219.69\tvalidation_1-mae:240.196\n",
            "[434]\tvalidation_0-mae:219.55\tvalidation_1-mae:240.096\n",
            "[435]\tvalidation_0-mae:219.415\tvalidation_1-mae:239.986\n",
            "[436]\tvalidation_0-mae:219.271\tvalidation_1-mae:239.884\n",
            "[437]\tvalidation_0-mae:219.114\tvalidation_1-mae:239.796\n",
            "[438]\tvalidation_0-mae:218.968\tvalidation_1-mae:239.708\n",
            "[439]\tvalidation_0-mae:218.828\tvalidation_1-mae:239.614\n",
            "[440]\tvalidation_0-mae:218.68\tvalidation_1-mae:239.513\n",
            "[441]\tvalidation_0-mae:218.558\tvalidation_1-mae:239.416\n",
            "[442]\tvalidation_0-mae:218.414\tvalidation_1-mae:239.318\n",
            "[443]\tvalidation_0-mae:218.26\tvalidation_1-mae:239.223\n",
            "[444]\tvalidation_0-mae:218.106\tvalidation_1-mae:239.123\n",
            "[445]\tvalidation_0-mae:217.965\tvalidation_1-mae:239.042\n",
            "[446]\tvalidation_0-mae:217.825\tvalidation_1-mae:238.949\n",
            "[447]\tvalidation_0-mae:217.673\tvalidation_1-mae:238.841\n",
            "[448]\tvalidation_0-mae:217.555\tvalidation_1-mae:238.749\n",
            "[449]\tvalidation_0-mae:217.436\tvalidation_1-mae:238.683\n",
            "[450]\tvalidation_0-mae:217.301\tvalidation_1-mae:238.598\n",
            "[451]\tvalidation_0-mae:217.197\tvalidation_1-mae:238.53\n",
            "[452]\tvalidation_0-mae:217.059\tvalidation_1-mae:238.443\n",
            "[453]\tvalidation_0-mae:216.905\tvalidation_1-mae:238.348\n",
            "[454]\tvalidation_0-mae:216.784\tvalidation_1-mae:238.273\n",
            "[455]\tvalidation_0-mae:216.677\tvalidation_1-mae:238.181\n",
            "[456]\tvalidation_0-mae:216.561\tvalidation_1-mae:238.117\n",
            "[457]\tvalidation_0-mae:216.415\tvalidation_1-mae:238.013\n",
            "[458]\tvalidation_0-mae:216.306\tvalidation_1-mae:237.948\n",
            "[459]\tvalidation_0-mae:216.206\tvalidation_1-mae:237.884\n",
            "[460]\tvalidation_0-mae:216.093\tvalidation_1-mae:237.822\n",
            "[461]\tvalidation_0-mae:215.995\tvalidation_1-mae:237.749\n",
            "[462]\tvalidation_0-mae:215.859\tvalidation_1-mae:237.679\n",
            "[463]\tvalidation_0-mae:215.746\tvalidation_1-mae:237.616\n",
            "[464]\tvalidation_0-mae:215.617\tvalidation_1-mae:237.554\n",
            "[465]\tvalidation_0-mae:215.526\tvalidation_1-mae:237.482\n",
            "[466]\tvalidation_0-mae:215.439\tvalidation_1-mae:237.435\n",
            "[467]\tvalidation_0-mae:215.356\tvalidation_1-mae:237.402\n",
            "[468]\tvalidation_0-mae:215.26\tvalidation_1-mae:237.33\n",
            "[469]\tvalidation_0-mae:215.163\tvalidation_1-mae:237.275\n",
            "[470]\tvalidation_0-mae:215.054\tvalidation_1-mae:237.208\n",
            "[471]\tvalidation_0-mae:214.953\tvalidation_1-mae:237.136\n",
            "[472]\tvalidation_0-mae:214.855\tvalidation_1-mae:237.083\n",
            "[473]\tvalidation_0-mae:214.763\tvalidation_1-mae:237.024\n",
            "[474]\tvalidation_0-mae:214.671\tvalidation_1-mae:236.967\n",
            "[475]\tvalidation_0-mae:214.569\tvalidation_1-mae:236.897\n",
            "[476]\tvalidation_0-mae:214.482\tvalidation_1-mae:236.843\n",
            "[477]\tvalidation_0-mae:214.381\tvalidation_1-mae:236.769\n",
            "[478]\tvalidation_0-mae:214.281\tvalidation_1-mae:236.709\n",
            "[479]\tvalidation_0-mae:214.203\tvalidation_1-mae:236.671\n",
            "[480]\tvalidation_0-mae:214.086\tvalidation_1-mae:236.589\n",
            "[481]\tvalidation_0-mae:213.997\tvalidation_1-mae:236.552\n",
            "[482]\tvalidation_0-mae:213.897\tvalidation_1-mae:236.505\n",
            "[483]\tvalidation_0-mae:213.819\tvalidation_1-mae:236.464\n",
            "[484]\tvalidation_0-mae:213.726\tvalidation_1-mae:236.416\n",
            "[485]\tvalidation_0-mae:213.64\tvalidation_1-mae:236.38\n",
            "[486]\tvalidation_0-mae:213.546\tvalidation_1-mae:236.333\n",
            "[487]\tvalidation_0-mae:213.455\tvalidation_1-mae:236.279\n",
            "[488]\tvalidation_0-mae:213.361\tvalidation_1-mae:236.229\n",
            "[489]\tvalidation_0-mae:213.274\tvalidation_1-mae:236.188\n",
            "[490]\tvalidation_0-mae:213.194\tvalidation_1-mae:236.14\n",
            "[491]\tvalidation_0-mae:213.117\tvalidation_1-mae:236.094\n",
            "[492]\tvalidation_0-mae:213.053\tvalidation_1-mae:236.056\n",
            "[493]\tvalidation_0-mae:212.981\tvalidation_1-mae:236.017\n",
            "[494]\tvalidation_0-mae:212.876\tvalidation_1-mae:235.969\n",
            "[495]\tvalidation_0-mae:212.785\tvalidation_1-mae:235.921\n",
            "[496]\tvalidation_0-mae:212.693\tvalidation_1-mae:235.879\n",
            "[497]\tvalidation_0-mae:212.638\tvalidation_1-mae:235.842\n",
            "[498]\tvalidation_0-mae:212.549\tvalidation_1-mae:235.797\n",
            "[499]\tvalidation_0-mae:212.472\tvalidation_1-mae:235.761\n"
          ]
        }
      ]
    },
    {
      "cell_type": "code",
      "source": [
        "print(\"MAE:\", mean_absolute_error(y_val, fit_model.predict(X_val)))\n",
        "print(\"MSE:\", mean_squared_error(y_val, fit_model.predict(X_val)))\n",
        "print(\"R2:\", r2_score(y_val, fit_model.predict(X_val)))"
      ],
      "metadata": {
        "colab": {
          "base_uri": "https://localhost:8080/"
        },
        "id": "NmT1DXcT8RAL",
        "outputId": "7783ec32-f7c3-405b-d3f5-64d2740645d1"
      },
      "execution_count": null,
      "outputs": [
        {
          "output_type": "stream",
          "name": "stdout",
          "text": [
            "MAE: 235.76115418972626\n",
            "MSE: 196555.23130888247\n",
            "R2: 0.9835076894093022\n"
          ]
        }
      ]
    },
    {
      "cell_type": "code",
      "source": [
        "fit_model.save_model('xgb_model.json')"
      ],
      "metadata": {
        "id": "R3np8zf48Qyg"
      },
      "execution_count": null,
      "outputs": []
    },
    {
      "cell_type": "markdown",
      "source": [
        "# Create an App for the Model"
      ],
      "metadata": {
        "id": "fcoeOW399LLs"
      }
    },
    {
      "cell_type": "code",
      "source": [
        "%%writefile diamond_app.py \n",
        "import xgboost as xgb\n",
        "import streamlit as st\n",
        "import pandas as pd\n",
        "\n",
        "#Loading up the Regression model we created\n",
        "model = xgb.XGBRegressor()\n",
        "model.load_model('xgb_model.json')\n",
        "\n",
        "#Caching the model for faster loading\n",
        "@st.cache\n",
        "\n",
        "\n",
        "# Define the prediction function\n",
        "def predict(carat, cut, color, clarity, depth, table, x, y, z):\n",
        "    #Predicting the price of the carat\n",
        "    if cut == 'Fair':\n",
        "        cut = 0\n",
        "    elif cut == 'Good':\n",
        "        cut = 1\n",
        "    elif cut == 'Very Good':\n",
        "        cut = 2\n",
        "    elif cut == 'Premium':\n",
        "        cut = 3\n",
        "    elif cut == 'Ideal':\n",
        "        cut = 4\n",
        "\n",
        "    if color == 'J':\n",
        "        color = 0\n",
        "    elif color == 'I':\n",
        "        color = 1\n",
        "    elif color == 'H':\n",
        "        color = 2\n",
        "    elif color == 'G':\n",
        "        color = 3\n",
        "    elif color == 'F':\n",
        "        color = 4\n",
        "    elif color == 'E':\n",
        "        color = 5\n",
        "    elif color == 'D':\n",
        "        color = 6\n",
        "    \n",
        "    if clarity == 'I1':\n",
        "        clarity = 0\n",
        "    elif clarity == 'SI2':\n",
        "        clarity = 1\n",
        "    elif clarity == 'SI1':\n",
        "        clarity = 2\n",
        "    elif clarity == 'VS2':\n",
        "        clarity = 3\n",
        "    elif clarity == 'VS1':\n",
        "        clarity = 4\n",
        "    elif clarity == 'VVS2':\n",
        "        clarity = 5\n",
        "    elif clarity == 'VVS1':\n",
        "        clarity = 6\n",
        "    elif clarity == 'IF':\n",
        "        clarity = 7\n",
        "    \n",
        "\n",
        "    prediction = model.predict(pd.DataFrame([[carat, cut, color, clarity, depth, table, x, y, z]], columns=['carat', 'cut', 'color', 'clarity', 'depth', 'table', 'x', 'y', 'z']))\n",
        "    return prediction\n",
        "\n",
        "\n",
        "st.title('Diamond Price Predictor')\n",
        "st.image(\"\"\"https://www.thestreet.com/.image/ar_4:3%2Cc_fill%2Ccs_srgb%2Cq_auto:good%2Cw_1200/MTY4NjUwNDYyNTYzNDExNTkx/why-dominion-diamonds-second-trip-to-the-block-may-be-different.png\"\"\")\n",
        "st.header('Enter the characteristics of the diamond:')\n",
        "carat = st.number_input('Carat Weight:', min_value=0.1, max_value=10.0, value=1.0)\n",
        "cut = st.selectbox('Cut Rating:', ['Fair', 'Good', 'Very Good', 'Premium', 'Ideal'])\n",
        "color = st.selectbox('Color Rating:', ['J', 'I', 'H', 'G', 'F', 'E', 'D'])\n",
        "clarity = st.selectbox('Clarity Rating:', ['I1', 'SI2', 'SI1', 'VS2', 'VS1', 'VVS2', 'VVS1', 'IF'])\n",
        "depth = st.number_input('Diamond Depth Percentage:', min_value=0.1, max_value=100.0, value=1.0)\n",
        "table = st.number_input('Diamond Table Percentage:', min_value=0.1, max_value=100.0, value=1.0)\n",
        "x = st.number_input('Diamond Length (X) in mm:', min_value=0.1, max_value=100.0, value=1.0)\n",
        "y = st.number_input('Diamond Width (Y) in mm:', min_value=0.1, max_value=100.0, value=1.0)\n",
        "z = st.number_input('Diamond Height (Z) in mm:', min_value=0.1, max_value=100.0, value=1.0)\n",
        "\n",
        "if st.button('Predict Price'):\n",
        "    price = predict(carat, cut, color, clarity, depth, table, x, y, z)\n",
        "    st.success(f'The predicted price of the diamond is ${price[0]:.2f} USD')"
      ],
      "metadata": {
        "colab": {
          "base_uri": "https://localhost:8080/"
        },
        "id": "s2ibD1g99OJ5",
        "outputId": "d95972bc-5737-4623-d563-f4dd4aed62b7"
      },
      "execution_count": null,
      "outputs": [
        {
          "output_type": "stream",
          "name": "stdout",
          "text": [
            "Writing diamond_app.py\n"
          ]
        }
      ]
    },
    {
      "cell_type": "code",
      "source": [
        "!streamlit run /content/diamond_app.py & npx localtunnel --port 8501 "
      ],
      "metadata": {
        "colab": {
          "base_uri": "https://localhost:8080/"
        },
        "id": "BN8kNa8q9OQ3",
        "outputId": "b195ea67-1f1e-4faf-8be9-d3777c76b524"
      },
      "execution_count": null,
      "outputs": [
        {
          "metadata": {
            "tags": null
          },
          "name": "stdout",
          "output_type": "stream",
          "text": [
            "\u001b[K\u001b[?25hnpx: installed 22 in 3.964s\n",
            "your url is: https://silver-roses-clap-34-66-233-187.loca.lt\n",
            "\n",
            "Collecting usage statistics. To deactivate, set browser.gatherUsageStats to False.\n",
            "\u001b[0m\n",
            "\u001b[0m\n",
            "\u001b[34m\u001b[1m  You can now view your Streamlit app in your browser.\u001b[0m\n",
            "\u001b[0m\n",
            "\u001b[34m  Network URL: \u001b[0m\u001b[1mhttp://172.28.0.2:8501\u001b[0m\n",
            "\u001b[34m  External URL: \u001b[0m\u001b[1mhttp://34.66.233.187:8501\u001b[0m\n",
            "\u001b[0m\n"
          ]
        }
      ]
    },
    {
      "cell_type": "code",
      "source": [],
      "metadata": {
        "id": "ZqqSgF_D9Oaf"
      },
      "execution_count": null,
      "outputs": []
    },
    {
      "cell_type": "code",
      "source": [],
      "metadata": {
        "id": "cpfSiu6O9PVV"
      },
      "execution_count": null,
      "outputs": []
    },
    {
      "cell_type": "code",
      "source": [],
      "metadata": {
        "id": "1aV2i6vz9PeK"
      },
      "execution_count": null,
      "outputs": []
    },
    {
      "cell_type": "code",
      "source": [],
      "metadata": {
        "id": "H24A7Okj9PlK"
      },
      "execution_count": null,
      "outputs": []
    },
    {
      "cell_type": "code",
      "source": [],
      "metadata": {
        "id": "g8UiPJa59PrX"
      },
      "execution_count": null,
      "outputs": []
    }
  ]
}